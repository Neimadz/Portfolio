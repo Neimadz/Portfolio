{
 "cells": [
  {
   "cell_type": "markdown",
   "source": [],
   "metadata": {
    "collapsed": false
   }
  },
  {
   "cell_type": "markdown",
   "source": [
    "# Import"
   ],
   "metadata": {
    "collapsed": false
   }
  },
  {
   "cell_type": "code",
   "execution_count": 272,
   "outputs": [],
   "source": [
    "import pandas as pd\n",
    "import numpy as np\n",
    "import matplotlib.pyplot as plt\n",
    "import matplotlib as mpl\n",
    "import warnings\n",
    "# Permet de retirer les warning message du a l'import des fichier excel.xlsx\n",
    "warnings.filterwarnings('ignore', category=UserWarning, module='openpyxl')\n",
    "\n",
    "# permet d'afficher toute les colonne d'un head\n",
    "# pd.set_option('max_columns', None)\n",
    "# pd.options.display.max_rows = 999\n",
    "\n",
    "# permet d'afficher toute les ligne d'un head\n",
    "# pd.set_option('max_rows', None)\n",
    "\n",
    "# Reset de l'affichage des colonnes et ligne\n",
    "# pd.reset_option('max_columns')\n",
    "pd.reset_option('max_rows')"
   ],
   "metadata": {
    "collapsed": false
   }
  },
  {
   "cell_type": "markdown",
   "source": [
    "# Read CSV\n"
   ],
   "metadata": {
    "collapsed": false
   }
  },
  {
   "cell_type": "markdown",
   "source": [
    "## Dispo alimentaire 2017"
   ],
   "metadata": {
    "collapsed": false
   }
  },
  {
   "cell_type": "code",
   "execution_count": 273,
   "outputs": [
    {
     "name": "stdout",
     "output_type": "stream",
     "text": [
      "['Blé et produits' 'Riz et produits' 'Orge et produits' 'Maïs et produits'\n",
      " 'Seigle et produits' 'Avoine' 'Millet et produits' 'Sorgho et produits'\n",
      " 'Céréales, Autres' 'Pommes de Terre et produits' 'Ignames' 'Racines nda'\n",
      " 'Sucre, canne' 'Sucre, betterave' 'Sucre Eq Brut' 'Edulcorants Autres'\n",
      " 'Miel' 'Haricots' 'Pois' 'Légumineuses Autres et produits'\n",
      " 'Noix et produits' 'Soja' 'Arachides Decortiquees' 'Graines de tournesol'\n",
      " 'Graines Colza/Moutarde' 'Graines de coton' 'Coco (Incl Coprah)' 'Sésame'\n",
      " 'Olives' 'Plantes Oleiferes, Autre' 'Huile de Soja' \"Huile d'Arachide\"\n",
      " 'Huile de Tournesol' 'Huile de Colza&Moutarde' 'Huile Graines de Coton'\n",
      " 'Huile de Palmistes' 'Huile de Palme' 'Huile de Coco' 'Huile de Sésame'\n",
      " \"Huile d'Olive\" 'Huile de Son de Riz' 'Huile de Germe de Maïs'\n",
      " 'Huil Plantes Oleif Autr' 'Tomates et produits' 'Oignons'\n",
      " 'Légumes, Autres' 'Oranges, Mandarines' 'Citrons & Limes et produits'\n",
      " 'Pamplemousse et produits' 'Agrumes, Autres' 'Bananes'\n",
      " 'Pommes et produits' 'Ananas et produits' 'Dattes' 'Raisin'\n",
      " 'Fruits, Autres' 'Café et produits' 'Feve de Cacao et produits' 'Thé'\n",
      " 'Poivre' 'Piments' 'Girofles' 'Épices, Autres' 'Vin' 'Bière'\n",
      " 'Boissons Fermentés' 'Boissons Alcooliques' 'Alcool, non Comestible'\n",
      " 'Viande de Bovins' \"Viande d'Ovins/Caprins\" 'Viande de Suides'\n",
      " 'Viande de Volailles' 'Viande, Autre' 'Abats Comestible' 'Beurre, Ghee'\n",
      " 'Crème' 'Graisses Animales Crue' 'Oeufs' 'Lait - Excl Beurre'\n",
      " 'Poissons Eau Douce' 'Aliments pour enfants' 'Miscellanees'\n",
      " 'Manioc et produits' 'Patates douces' 'Palmistes' 'Bananes plantains'\n",
      " 'Huiles de Poissons' 'Huiles de Foie de Poisso' 'Perciform'\n",
      " 'Poissons Pelagiques' 'Poissons Marins, Autres' 'Crustacés'\n",
      " 'Cephalopodes' 'Mollusques, Autres' 'Animaux Aquatiques Autre'\n",
      " 'Plantes Aquatiques' 'Sucre non centrifugé' 'Viande de Anim Aquatiq']\n",
      "174\n"
     ]
    }
   ],
   "source": [
    "df_dispo_alim = pd.read_csv(\"data/DisponibiliteAlimentaire_2017.csv\")\n",
    "print(df_dispo_alim['Produit'].unique())\n",
    "print(df_dispo_alim['Zone'].nunique())"
   ],
   "metadata": {
    "collapsed": false
   }
  },
  {
   "cell_type": "code",
   "execution_count": 274,
   "outputs": [
    {
     "data": {
      "text/plain": "          Zone                   Élément  Année  Valeur\n0  Afghanistan                Production   2017    28.0\n1  Afghanistan   Importations - Quantité   2017    29.0\n2  Afghanistan        Variation de stock   2017     0.0\n3  Afghanistan  Disponibilité intérieure   2017    57.0\n4  Afghanistan                    Pertes   2017     2.0",
      "text/html": "<div>\n<style scoped>\n    .dataframe tbody tr th:only-of-type {\n        vertical-align: middle;\n    }\n\n    .dataframe tbody tr th {\n        vertical-align: top;\n    }\n\n    .dataframe thead th {\n        text-align: right;\n    }\n</style>\n<table border=\"1\" class=\"dataframe\">\n  <thead>\n    <tr style=\"text-align: right;\">\n      <th></th>\n      <th>Zone</th>\n      <th>Élément</th>\n      <th>Année</th>\n      <th>Valeur</th>\n    </tr>\n  </thead>\n  <tbody>\n    <tr>\n      <th>0</th>\n      <td>Afghanistan</td>\n      <td>Production</td>\n      <td>2017</td>\n      <td>28.0</td>\n    </tr>\n    <tr>\n      <th>1</th>\n      <td>Afghanistan</td>\n      <td>Importations - Quantité</td>\n      <td>2017</td>\n      <td>29.0</td>\n    </tr>\n    <tr>\n      <th>2</th>\n      <td>Afghanistan</td>\n      <td>Variation de stock</td>\n      <td>2017</td>\n      <td>0.0</td>\n    </tr>\n    <tr>\n      <th>3</th>\n      <td>Afghanistan</td>\n      <td>Disponibilité intérieure</td>\n      <td>2017</td>\n      <td>57.0</td>\n    </tr>\n    <tr>\n      <th>4</th>\n      <td>Afghanistan</td>\n      <td>Pertes</td>\n      <td>2017</td>\n      <td>2.0</td>\n    </tr>\n  </tbody>\n</table>\n</div>"
     },
     "execution_count": 274,
     "metadata": {},
     "output_type": "execute_result"
    }
   ],
   "source": [
    "# filtre sur la viande de volailles\n",
    "df_dispo_alim = df_dispo_alim[df_dispo_alim['Produit'] == 'Viande de Volailles'].reset_index()\n",
    "# je drop les colonne qui ne m'interresse pas\n",
    "df_dispo_alim.drop(['index','Code Domaine','Produit', 'Domaine','Code zone','Code Élément','Code année','Code Produit','Symbole', 'Description du Symbole','Unité'],  axis=1, inplace=True)\n",
    "df_dispo_alim.head()"
   ],
   "metadata": {
    "collapsed": false
   }
  },
  {
   "cell_type": "code",
   "execution_count": 275,
   "outputs": [
    {
     "data": {
      "text/plain": "Élément         Importations - Quantité  Nourriture  Production  \\\nZone                                                              \nAfghanistan                        29.0        55.0        28.0   \nAfrique du Sud                    514.0      2035.0      1667.0   \nAlbanie                            38.0        47.0        13.0   \nAlgérie                             2.0       264.0       275.0   \nAllemagne                         842.0      1609.0      1514.0   \n\nÉlément         Exportations - Quantité  \nZone                                     \nAfghanistan                         0.0  \nAfrique du Sud                     63.0  \nAlbanie                             0.0  \nAlgérie                             0.0  \nAllemagne                         646.0  ",
      "text/html": "<div>\n<style scoped>\n    .dataframe tbody tr th:only-of-type {\n        vertical-align: middle;\n    }\n\n    .dataframe tbody tr th {\n        vertical-align: top;\n    }\n\n    .dataframe thead th {\n        text-align: right;\n    }\n</style>\n<table border=\"1\" class=\"dataframe\">\n  <thead>\n    <tr style=\"text-align: right;\">\n      <th>Élément</th>\n      <th>Importations - Quantité</th>\n      <th>Nourriture</th>\n      <th>Production</th>\n      <th>Exportations - Quantité</th>\n    </tr>\n    <tr>\n      <th>Zone</th>\n      <th></th>\n      <th></th>\n      <th></th>\n      <th></th>\n    </tr>\n  </thead>\n  <tbody>\n    <tr>\n      <th>Afghanistan</th>\n      <td>29.0</td>\n      <td>55.0</td>\n      <td>28.0</td>\n      <td>0.0</td>\n    </tr>\n    <tr>\n      <th>Afrique du Sud</th>\n      <td>514.0</td>\n      <td>2035.0</td>\n      <td>1667.0</td>\n      <td>63.0</td>\n    </tr>\n    <tr>\n      <th>Albanie</th>\n      <td>38.0</td>\n      <td>47.0</td>\n      <td>13.0</td>\n      <td>0.0</td>\n    </tr>\n    <tr>\n      <th>Algérie</th>\n      <td>2.0</td>\n      <td>264.0</td>\n      <td>275.0</td>\n      <td>0.0</td>\n    </tr>\n    <tr>\n      <th>Allemagne</th>\n      <td>842.0</td>\n      <td>1609.0</td>\n      <td>1514.0</td>\n      <td>646.0</td>\n    </tr>\n  </tbody>\n</table>\n</div>"
     },
     "execution_count": 275,
     "metadata": {},
     "output_type": "execute_result"
    }
   ],
   "source": [
    "# je pivot élément pour avoir mes colonnes\n",
    "df_dispo_alim = df_dispo_alim.pivot_table(index=['Zone'], columns='Élément', values='Valeur', aggfunc=sum)\n",
    "# je fait la moyenne de mes null sur les colonnes et je garde les colonne qui sont sous mes 0.8 de moyenne soit 80%\n",
    "df_dispo_alim = df_dispo_alim[df_dispo_alim.columns[df_dispo_alim.isnull().mean() < 0.8]]\n",
    "df_dispo_alim.fillna(0, inplace = True)\n",
    "df_dispo_alim = df_dispo_alim.loc[:,[\"Importations - Quantité\", \"Nourriture\", \"Production\", \"Exportations - Quantité\"]]\n",
    "df_dispo_alim.head()"
   ],
   "metadata": {
    "collapsed": false
   }
  },
  {
   "cell_type": "code",
   "execution_count": 276,
   "outputs": [
    {
     "data": {
      "text/plain": "                Conso Viande Total\nZone                              \nAfghanistan                  312.0\nAfrique du Sud              3422.0\nAlbanie                      136.0\nAlgérie                      748.0\nAllemagne                   7255.0",
      "text/html": "<div>\n<style scoped>\n    .dataframe tbody tr th:only-of-type {\n        vertical-align: middle;\n    }\n\n    .dataframe tbody tr th {\n        vertical-align: top;\n    }\n\n    .dataframe thead th {\n        text-align: right;\n    }\n</style>\n<table border=\"1\" class=\"dataframe\">\n  <thead>\n    <tr style=\"text-align: right;\">\n      <th></th>\n      <th>Conso Viande Total</th>\n    </tr>\n    <tr>\n      <th>Zone</th>\n      <th></th>\n    </tr>\n  </thead>\n  <tbody>\n    <tr>\n      <th>Afghanistan</th>\n      <td>312.0</td>\n    </tr>\n    <tr>\n      <th>Afrique du Sud</th>\n      <td>3422.0</td>\n    </tr>\n    <tr>\n      <th>Albanie</th>\n      <td>136.0</td>\n    </tr>\n    <tr>\n      <th>Algérie</th>\n      <td>748.0</td>\n    </tr>\n    <tr>\n      <th>Allemagne</th>\n      <td>7255.0</td>\n    </tr>\n  </tbody>\n</table>\n</div>"
     },
     "execution_count": 276,
     "metadata": {},
     "output_type": "execute_result"
    }
   ],
   "source": [
    "df_total_conso = pd.read_csv(\"data/DisponibiliteAlimentaire_2017.csv\")\n",
    "# Je drop les colonne qui ne m'interresse pas\n",
    "df_total_conso.drop(['Code zone','Code Élément','Code Produit','Code année','Année'],  axis=1, inplace=True)\n",
    "# Je focus sur la nourriture\n",
    "df_total_conso = df_total_conso[df_total_conso['Élément']=='Nourriture']\n",
    "# puis sur les produit de type viande\n",
    "df_total_conso = df_total_conso[df_total_conso['Produit'].str.startswith('Viande')]\n",
    "#je fait la somme de la consomation total de viande par pays en 2017\n",
    "df_total_conso = df_total_conso.groupby(by=['Zone']).sum('Valeur')\n",
    "df_total_conso = df_total_conso.rename(columns={'Valeur': 'Conso Viande Total'})\n",
    "df_total_conso.head()"
   ],
   "metadata": {
    "collapsed": false
   }
  },
  {
   "cell_type": "code",
   "execution_count": 277,
   "outputs": [
    {
     "data": {
      "text/plain": "                Importations - Quantité  Nourriture  Production  \\\nZone                                                              \nAfghanistan                        29.0        55.0        28.0   \nAfrique du Sud                    514.0      2035.0      1667.0   \nAlbanie                            38.0        47.0        13.0   \nAlgérie                             2.0       264.0       275.0   \nAllemagne                         842.0      1609.0      1514.0   \n\n                Exportations - Quantité  Conso Viande Total  \nZone                                                         \nAfghanistan                         0.0               312.0  \nAfrique du Sud                     63.0              3422.0  \nAlbanie                             0.0               136.0  \nAlgérie                             0.0               748.0  \nAllemagne                         646.0              7255.0  ",
      "text/html": "<div>\n<style scoped>\n    .dataframe tbody tr th:only-of-type {\n        vertical-align: middle;\n    }\n\n    .dataframe tbody tr th {\n        vertical-align: top;\n    }\n\n    .dataframe thead th {\n        text-align: right;\n    }\n</style>\n<table border=\"1\" class=\"dataframe\">\n  <thead>\n    <tr style=\"text-align: right;\">\n      <th></th>\n      <th>Importations - Quantité</th>\n      <th>Nourriture</th>\n      <th>Production</th>\n      <th>Exportations - Quantité</th>\n      <th>Conso Viande Total</th>\n    </tr>\n    <tr>\n      <th>Zone</th>\n      <th></th>\n      <th></th>\n      <th></th>\n      <th></th>\n      <th></th>\n    </tr>\n  </thead>\n  <tbody>\n    <tr>\n      <th>Afghanistan</th>\n      <td>29.0</td>\n      <td>55.0</td>\n      <td>28.0</td>\n      <td>0.0</td>\n      <td>312.0</td>\n    </tr>\n    <tr>\n      <th>Afrique du Sud</th>\n      <td>514.0</td>\n      <td>2035.0</td>\n      <td>1667.0</td>\n      <td>63.0</td>\n      <td>3422.0</td>\n    </tr>\n    <tr>\n      <th>Albanie</th>\n      <td>38.0</td>\n      <td>47.0</td>\n      <td>13.0</td>\n      <td>0.0</td>\n      <td>136.0</td>\n    </tr>\n    <tr>\n      <th>Algérie</th>\n      <td>2.0</td>\n      <td>264.0</td>\n      <td>275.0</td>\n      <td>0.0</td>\n      <td>748.0</td>\n    </tr>\n    <tr>\n      <th>Allemagne</th>\n      <td>842.0</td>\n      <td>1609.0</td>\n      <td>1514.0</td>\n      <td>646.0</td>\n      <td>7255.0</td>\n    </tr>\n  </tbody>\n</table>\n</div>"
     },
     "execution_count": 277,
     "metadata": {},
     "output_type": "execute_result"
    }
   ],
   "source": [
    "df_dispo_alim = pd.merge(df_dispo_alim, df_total_conso, on='Zone', how='left')\n",
    "df_dispo_alim.head()"
   ],
   "metadata": {
    "collapsed": false
   }
  },
  {
   "cell_type": "markdown",
   "source": [
    "## Valeur Pop"
   ],
   "metadata": {
    "collapsed": false
   }
  },
  {
   "cell_type": "code",
   "execution_count": 278,
   "outputs": [
    {
     "data": {
      "text/plain": "  Code Domaine                       Domaine  Code zone         Zone  \\\n0           OA  Séries temporelles annuelles          2  Afghanistan   \n1           OA  Séries temporelles annuelles          2  Afghanistan   \n2           OA  Séries temporelles annuelles          2  Afghanistan   \n3           OA  Séries temporelles annuelles          2  Afghanistan   \n4           OA  Séries temporelles annuelles          2  Afghanistan   \n\n   Code Élément            Élément  Code Produit                 Produit  \\\n0           511  Population totale          3010  Population-Estimations   \n1           511  Population totale          3010  Population-Estimations   \n2           511  Population totale          3010  Population-Estimations   \n3           511  Population totale          3010  Population-Estimations   \n4           511  Population totale          3010  Population-Estimations   \n\n   Code année  Année           Unité     Valeur Symbole  \\\n0        2000   2000  1000 personnes  20779.953       X   \n1        2001   2001  1000 personnes  21606.988       X   \n2        2002   2002  1000 personnes  22600.770       X   \n3        2003   2003  1000 personnes  23680.871       X   \n4        2004   2004  1000 personnes  24726.684       X   \n\n          Description du Symbole Note  \n0  Sources internationales sûres  NaN  \n1  Sources internationales sûres  NaN  \n2  Sources internationales sûres  NaN  \n3  Sources internationales sûres  NaN  \n4  Sources internationales sûres  NaN  ",
      "text/html": "<div>\n<style scoped>\n    .dataframe tbody tr th:only-of-type {\n        vertical-align: middle;\n    }\n\n    .dataframe tbody tr th {\n        vertical-align: top;\n    }\n\n    .dataframe thead th {\n        text-align: right;\n    }\n</style>\n<table border=\"1\" class=\"dataframe\">\n  <thead>\n    <tr style=\"text-align: right;\">\n      <th></th>\n      <th>Code Domaine</th>\n      <th>Domaine</th>\n      <th>Code zone</th>\n      <th>Zone</th>\n      <th>Code Élément</th>\n      <th>Élément</th>\n      <th>Code Produit</th>\n      <th>Produit</th>\n      <th>Code année</th>\n      <th>Année</th>\n      <th>Unité</th>\n      <th>Valeur</th>\n      <th>Symbole</th>\n      <th>Description du Symbole</th>\n      <th>Note</th>\n    </tr>\n  </thead>\n  <tbody>\n    <tr>\n      <th>0</th>\n      <td>OA</td>\n      <td>Séries temporelles annuelles</td>\n      <td>2</td>\n      <td>Afghanistan</td>\n      <td>511</td>\n      <td>Population totale</td>\n      <td>3010</td>\n      <td>Population-Estimations</td>\n      <td>2000</td>\n      <td>2000</td>\n      <td>1000 personnes</td>\n      <td>20779.953</td>\n      <td>X</td>\n      <td>Sources internationales sûres</td>\n      <td>NaN</td>\n    </tr>\n    <tr>\n      <th>1</th>\n      <td>OA</td>\n      <td>Séries temporelles annuelles</td>\n      <td>2</td>\n      <td>Afghanistan</td>\n      <td>511</td>\n      <td>Population totale</td>\n      <td>3010</td>\n      <td>Population-Estimations</td>\n      <td>2001</td>\n      <td>2001</td>\n      <td>1000 personnes</td>\n      <td>21606.988</td>\n      <td>X</td>\n      <td>Sources internationales sûres</td>\n      <td>NaN</td>\n    </tr>\n    <tr>\n      <th>2</th>\n      <td>OA</td>\n      <td>Séries temporelles annuelles</td>\n      <td>2</td>\n      <td>Afghanistan</td>\n      <td>511</td>\n      <td>Population totale</td>\n      <td>3010</td>\n      <td>Population-Estimations</td>\n      <td>2002</td>\n      <td>2002</td>\n      <td>1000 personnes</td>\n      <td>22600.770</td>\n      <td>X</td>\n      <td>Sources internationales sûres</td>\n      <td>NaN</td>\n    </tr>\n    <tr>\n      <th>3</th>\n      <td>OA</td>\n      <td>Séries temporelles annuelles</td>\n      <td>2</td>\n      <td>Afghanistan</td>\n      <td>511</td>\n      <td>Population totale</td>\n      <td>3010</td>\n      <td>Population-Estimations</td>\n      <td>2003</td>\n      <td>2003</td>\n      <td>1000 personnes</td>\n      <td>23680.871</td>\n      <td>X</td>\n      <td>Sources internationales sûres</td>\n      <td>NaN</td>\n    </tr>\n    <tr>\n      <th>4</th>\n      <td>OA</td>\n      <td>Séries temporelles annuelles</td>\n      <td>2</td>\n      <td>Afghanistan</td>\n      <td>511</td>\n      <td>Population totale</td>\n      <td>3010</td>\n      <td>Population-Estimations</td>\n      <td>2004</td>\n      <td>2004</td>\n      <td>1000 personnes</td>\n      <td>24726.684</td>\n      <td>X</td>\n      <td>Sources internationales sûres</td>\n      <td>NaN</td>\n    </tr>\n  </tbody>\n</table>\n</div>"
     },
     "execution_count": 278,
     "metadata": {},
     "output_type": "execute_result"
    }
   ],
   "source": [
    "df_population = pd.read_csv(\"data/Population_2000_2018.csv\")\n",
    "df_population.head()"
   ],
   "metadata": {
    "collapsed": false
   }
  },
  {
   "cell_type": "code",
   "execution_count": 279,
   "outputs": [
    {
     "data": {
      "text/plain": "             Zone  Valeur Pop 2017\n0     Afghanistan         36296113\n1  Afrique du Sud         57009756\n2         Albanie          2884169\n3         Algérie         41389189\n4       Allemagne         82658409",
      "text/html": "<div>\n<style scoped>\n    .dataframe tbody tr th:only-of-type {\n        vertical-align: middle;\n    }\n\n    .dataframe tbody tr th {\n        vertical-align: top;\n    }\n\n    .dataframe thead th {\n        text-align: right;\n    }\n</style>\n<table border=\"1\" class=\"dataframe\">\n  <thead>\n    <tr style=\"text-align: right;\">\n      <th></th>\n      <th>Zone</th>\n      <th>Valeur Pop 2017</th>\n    </tr>\n  </thead>\n  <tbody>\n    <tr>\n      <th>0</th>\n      <td>Afghanistan</td>\n      <td>36296113</td>\n    </tr>\n    <tr>\n      <th>1</th>\n      <td>Afrique du Sud</td>\n      <td>57009756</td>\n    </tr>\n    <tr>\n      <th>2</th>\n      <td>Albanie</td>\n      <td>2884169</td>\n    </tr>\n    <tr>\n      <th>3</th>\n      <td>Algérie</td>\n      <td>41389189</td>\n    </tr>\n    <tr>\n      <th>4</th>\n      <td>Allemagne</td>\n      <td>82658409</td>\n    </tr>\n  </tbody>\n</table>\n</div>"
     },
     "execution_count": 279,
     "metadata": {},
     "output_type": "execute_result"
    }
   ],
   "source": [
    "df_population = df_population[df_population['Année'] == 2017].reset_index()\n",
    "df_population.drop(['index','Code Domaine','Domaine','Code zone','Code Élément','Élément','Code Produit','Produit','Unité','Code année','Année','Symbole','Description du Symbole','Note'],  axis=1, inplace=True)\n",
    "df_population = df_population.rename(columns={'Valeur': 'Valeur Pop 2017'})\n",
    "df_population['Valeur Pop 2017'] = (df_population['Valeur Pop 2017']*1000).astype(np.int64)\n",
    "df_population.head()"
   ],
   "metadata": {
    "collapsed": false
   }
  },
  {
   "cell_type": "code",
   "execution_count": 280,
   "outputs": [
    {
     "data": {
      "text/plain": "             Zone  Importations - Quantité  Nourriture  Production  \\\n0     Afghanistan                     29.0        55.0        28.0   \n1  Afrique du Sud                    514.0      2035.0      1667.0   \n2         Albanie                     38.0        47.0        13.0   \n3         Algérie                      2.0       264.0       275.0   \n4       Allemagne                    842.0      1609.0      1514.0   \n\n   Exportations - Quantité  Conso Viande Total  Valeur Pop 2017  \n0                      0.0               312.0         36296113  \n1                     63.0              3422.0         57009756  \n2                      0.0               136.0          2884169  \n3                      0.0               748.0         41389189  \n4                    646.0              7255.0         82658409  ",
      "text/html": "<div>\n<style scoped>\n    .dataframe tbody tr th:only-of-type {\n        vertical-align: middle;\n    }\n\n    .dataframe tbody tr th {\n        vertical-align: top;\n    }\n\n    .dataframe thead th {\n        text-align: right;\n    }\n</style>\n<table border=\"1\" class=\"dataframe\">\n  <thead>\n    <tr style=\"text-align: right;\">\n      <th></th>\n      <th>Zone</th>\n      <th>Importations - Quantité</th>\n      <th>Nourriture</th>\n      <th>Production</th>\n      <th>Exportations - Quantité</th>\n      <th>Conso Viande Total</th>\n      <th>Valeur Pop 2017</th>\n    </tr>\n  </thead>\n  <tbody>\n    <tr>\n      <th>0</th>\n      <td>Afghanistan</td>\n      <td>29.0</td>\n      <td>55.0</td>\n      <td>28.0</td>\n      <td>0.0</td>\n      <td>312.0</td>\n      <td>36296113</td>\n    </tr>\n    <tr>\n      <th>1</th>\n      <td>Afrique du Sud</td>\n      <td>514.0</td>\n      <td>2035.0</td>\n      <td>1667.0</td>\n      <td>63.0</td>\n      <td>3422.0</td>\n      <td>57009756</td>\n    </tr>\n    <tr>\n      <th>2</th>\n      <td>Albanie</td>\n      <td>38.0</td>\n      <td>47.0</td>\n      <td>13.0</td>\n      <td>0.0</td>\n      <td>136.0</td>\n      <td>2884169</td>\n    </tr>\n    <tr>\n      <th>3</th>\n      <td>Algérie</td>\n      <td>2.0</td>\n      <td>264.0</td>\n      <td>275.0</td>\n      <td>0.0</td>\n      <td>748.0</td>\n      <td>41389189</td>\n    </tr>\n    <tr>\n      <th>4</th>\n      <td>Allemagne</td>\n      <td>842.0</td>\n      <td>1609.0</td>\n      <td>1514.0</td>\n      <td>646.0</td>\n      <td>7255.0</td>\n      <td>82658409</td>\n    </tr>\n  </tbody>\n</table>\n</div>"
     },
     "execution_count": 280,
     "metadata": {},
     "output_type": "execute_result"
    }
   ],
   "source": [
    "df_final = pd.merge(df_dispo_alim, df_population, on='Zone', how='left')\n",
    "df_final.head()"
   ],
   "metadata": {
    "collapsed": false
   }
  },
  {
   "cell_type": "markdown",
   "source": [
    "## Evolution taux de population"
   ],
   "metadata": {
    "collapsed": false
   }
  },
  {
   "cell_type": "code",
   "execution_count": 281,
   "outputs": [],
   "source": [
    "df_evo_taux_pop = pd.read_csv(\"data/Population_2000_2018.csv\")\n",
    "df_evo_taux_pop.drop(['Code Domaine','Domaine','Code zone','Code Élément','Élément','Code Produit','Produit','Unité','Code année','Symbole','Description du Symbole','Note'],  axis=1, inplace=True)\n",
    "df_evo_taux_pop['Taux évolution population'] = df_evo_taux_pop.sort_values(['Année']).groupby('Zone')[['Valeur']].pct_change()\n",
    "df_evo_taux_pop['Taux évolution population'] = df_evo_taux_pop['Taux évolution population'].fillna(df_evo_taux_pop.groupby('Zone')['Taux évolution population'].transform('mean'))\n",
    "df_evo_taux_pop = df_evo_taux_pop.groupby(['Zone'], as_index=False).median()\n",
    "df_evo_taux_pop = df_evo_taux_pop[['Zone', 'Taux évolution population']]\n",
    "df_final = pd.merge(df_final, df_evo_taux_pop,  on='Zone', how='left')"
   ],
   "metadata": {
    "collapsed": false
   }
  },
  {
   "cell_type": "code",
   "execution_count": 282,
   "outputs": [
    {
     "data": {
      "text/plain": "             Zone  Importations - Quantité  Nourriture  Production  \\\n0     Afghanistan                     29.0        55.0        28.0   \n1  Afrique du Sud                    514.0      2035.0      1667.0   \n2         Albanie                     38.0        47.0        13.0   \n3         Algérie                      2.0       264.0       275.0   \n4       Allemagne                    842.0      1609.0      1514.0   \n\n   Exportations - Quantité  Conso Viande Total  Valeur Pop 2017  \\\n0                      0.0               312.0         36296113   \n1                     63.0              3422.0         57009756   \n2                      0.0               136.0          2884169   \n3                      0.0               748.0         41389189   \n4                    646.0              7255.0         82658409   \n\n   Taux évolution population  \n0                   0.031930  \n1                   0.014013  \n2                  -0.004211  \n3                   0.017370  \n4                   0.000972  ",
      "text/html": "<div>\n<style scoped>\n    .dataframe tbody tr th:only-of-type {\n        vertical-align: middle;\n    }\n\n    .dataframe tbody tr th {\n        vertical-align: top;\n    }\n\n    .dataframe thead th {\n        text-align: right;\n    }\n</style>\n<table border=\"1\" class=\"dataframe\">\n  <thead>\n    <tr style=\"text-align: right;\">\n      <th></th>\n      <th>Zone</th>\n      <th>Importations - Quantité</th>\n      <th>Nourriture</th>\n      <th>Production</th>\n      <th>Exportations - Quantité</th>\n      <th>Conso Viande Total</th>\n      <th>Valeur Pop 2017</th>\n      <th>Taux évolution population</th>\n    </tr>\n  </thead>\n  <tbody>\n    <tr>\n      <th>0</th>\n      <td>Afghanistan</td>\n      <td>29.0</td>\n      <td>55.0</td>\n      <td>28.0</td>\n      <td>0.0</td>\n      <td>312.0</td>\n      <td>36296113</td>\n      <td>0.031930</td>\n    </tr>\n    <tr>\n      <th>1</th>\n      <td>Afrique du Sud</td>\n      <td>514.0</td>\n      <td>2035.0</td>\n      <td>1667.0</td>\n      <td>63.0</td>\n      <td>3422.0</td>\n      <td>57009756</td>\n      <td>0.014013</td>\n    </tr>\n    <tr>\n      <th>2</th>\n      <td>Albanie</td>\n      <td>38.0</td>\n      <td>47.0</td>\n      <td>13.0</td>\n      <td>0.0</td>\n      <td>136.0</td>\n      <td>2884169</td>\n      <td>-0.004211</td>\n    </tr>\n    <tr>\n      <th>3</th>\n      <td>Algérie</td>\n      <td>2.0</td>\n      <td>264.0</td>\n      <td>275.0</td>\n      <td>0.0</td>\n      <td>748.0</td>\n      <td>41389189</td>\n      <td>0.017370</td>\n    </tr>\n    <tr>\n      <th>4</th>\n      <td>Allemagne</td>\n      <td>842.0</td>\n      <td>1609.0</td>\n      <td>1514.0</td>\n      <td>646.0</td>\n      <td>7255.0</td>\n      <td>82658409</td>\n      <td>0.000972</td>\n    </tr>\n  </tbody>\n</table>\n</div>"
     },
     "execution_count": 282,
     "metadata": {},
     "output_type": "execute_result"
    }
   ],
   "source": [
    "df_final.head()"
   ],
   "metadata": {
    "collapsed": false
   }
  },
  {
   "cell_type": "code",
   "execution_count": 283,
   "outputs": [
    {
     "name": "stdout",
     "output_type": "stream",
     "text": [
      "(172, 8)\n",
      "238\n"
     ]
    }
   ],
   "source": [
    "print(df_final.shape)\n",
    "print(df_evo_taux_pop['Zone'].nunique())"
   ],
   "metadata": {
    "collapsed": false
   }
  },
  {
   "cell_type": "code",
   "execution_count": 284,
   "outputs": [
    {
     "data": {
      "text/plain": "             Zone  Valeur Pop 2017  Taux évolution population  \\\n0     Afghanistan         36296113                   0.031930   \n1  Afrique du Sud         57009756                   0.014013   \n2         Albanie          2884169                  -0.004211   \n3         Algérie         41389189                   0.017370   \n4       Allemagne         82658409                   0.000972   \n\n   Importation (kg/pers)  Nourriture Volaille (kg/pers)  \\\n0                   0.80                           1.52   \n1                   9.02                          35.70   \n2                  13.18                          16.30   \n3                   0.05                           6.38   \n4                  10.19                          19.47   \n\n   Viande Total (kg/pers)  Exportation (kg/pers)  Production (kg/pers)  \\\n0                    8.60                   0.00                  0.77   \n1                   60.02                   1.11                 29.24   \n2                   47.15                   0.00                  4.51   \n3                   18.07                   0.00                  6.64   \n4                   87.77                   7.82                 18.32   \n\n   Nourriture Volaille/Total (%)  \n0                          17.67  \n1                          59.48  \n2                          34.57  \n3                          35.31  \n4                          22.18  ",
      "text/html": "<div>\n<style scoped>\n    .dataframe tbody tr th:only-of-type {\n        vertical-align: middle;\n    }\n\n    .dataframe tbody tr th {\n        vertical-align: top;\n    }\n\n    .dataframe thead th {\n        text-align: right;\n    }\n</style>\n<table border=\"1\" class=\"dataframe\">\n  <thead>\n    <tr style=\"text-align: right;\">\n      <th></th>\n      <th>Zone</th>\n      <th>Valeur Pop 2017</th>\n      <th>Taux évolution population</th>\n      <th>Importation (kg/pers)</th>\n      <th>Nourriture Volaille (kg/pers)</th>\n      <th>Viande Total (kg/pers)</th>\n      <th>Exportation (kg/pers)</th>\n      <th>Production (kg/pers)</th>\n      <th>Nourriture Volaille/Total (%)</th>\n    </tr>\n  </thead>\n  <tbody>\n    <tr>\n      <th>0</th>\n      <td>Afghanistan</td>\n      <td>36296113</td>\n      <td>0.031930</td>\n      <td>0.80</td>\n      <td>1.52</td>\n      <td>8.60</td>\n      <td>0.00</td>\n      <td>0.77</td>\n      <td>17.67</td>\n    </tr>\n    <tr>\n      <th>1</th>\n      <td>Afrique du Sud</td>\n      <td>57009756</td>\n      <td>0.014013</td>\n      <td>9.02</td>\n      <td>35.70</td>\n      <td>60.02</td>\n      <td>1.11</td>\n      <td>29.24</td>\n      <td>59.48</td>\n    </tr>\n    <tr>\n      <th>2</th>\n      <td>Albanie</td>\n      <td>2884169</td>\n      <td>-0.004211</td>\n      <td>13.18</td>\n      <td>16.30</td>\n      <td>47.15</td>\n      <td>0.00</td>\n      <td>4.51</td>\n      <td>34.57</td>\n    </tr>\n    <tr>\n      <th>3</th>\n      <td>Algérie</td>\n      <td>41389189</td>\n      <td>0.017370</td>\n      <td>0.05</td>\n      <td>6.38</td>\n      <td>18.07</td>\n      <td>0.00</td>\n      <td>6.64</td>\n      <td>35.31</td>\n    </tr>\n    <tr>\n      <th>4</th>\n      <td>Allemagne</td>\n      <td>82658409</td>\n      <td>0.000972</td>\n      <td>10.19</td>\n      <td>19.47</td>\n      <td>87.77</td>\n      <td>7.82</td>\n      <td>18.32</td>\n      <td>22.18</td>\n    </tr>\n  </tbody>\n</table>\n</div>"
     },
     "execution_count": 284,
     "metadata": {},
     "output_type": "execute_result"
    }
   ],
   "source": [
    "# changer les valeur au nombre par habitant. Passer en kg puis diviser par la population total du pays en 2017\n",
    "df_final['Importation (kg/pers)'] = round(df_final['Importations - Quantité']*1000000/df_final['Valeur Pop 2017'], 2)\n",
    "df_final['Nourriture Volaille (kg/pers)'] = round(df_final['Nourriture']*1000000/df_final['Valeur Pop 2017'], 2)\n",
    "df_final['Viande Total (kg/pers)'] = round(df_final['Conso Viande Total']*1000000/df_final['Valeur Pop 2017'], 2)\n",
    "df_final['Exportation (kg/pers)'] = round(df_final['Exportations - Quantité']*1000000/df_final['Valeur Pop 2017'], 2)\n",
    "df_final['Production (kg/pers)'] = round(df_final['Production']*1000000/df_final['Valeur Pop 2017'], 2)\n",
    "\n",
    "# calculer sur la totalité des viandes combien sont de type volaille\n",
    "df_final['Nourriture Volaille/Total (%)'] = round(df_final['Nourriture Volaille (kg/pers)']*100/df_final['Viande Total (kg/pers)'], 2)\n",
    "df_final = df_final.drop(columns = ['Importations - Quantité', 'Nourriture', 'Conso Viande Total', 'Production', 'Exportations - Quantité'])\n",
    "df_final.head()"
   ],
   "metadata": {
    "collapsed": false
   }
  },
  {
   "cell_type": "markdown",
   "source": [
    "## Stabilité politique"
   ],
   "metadata": {
    "collapsed": false
   }
  },
  {
   "cell_type": "markdown",
   "source": [
    "Récup depuis le project 8"
   ],
   "metadata": {
    "collapsed": false
   }
  },
  {
   "cell_type": "code",
   "execution_count": 285,
   "outputs": [
    {
     "data": {
      "text/plain": "  Code Domaine                             Domaine  Code zone (M49)  \\\n0           FS  Données de la sécurité alimentaire                4   \n1           FS  Données de la sécurité alimentaire                4   \n2           FS  Données de la sécurité alimentaire                4   \n3           FS  Données de la sécurité alimentaire                4   \n4           FS  Données de la sécurité alimentaire                4   \n\n          Zone  Code Élément Élément  Code Produit  \\\n0  Afghanistan          6121  Valeur         21035   \n1  Afghanistan          6121  Valeur         21034   \n2  Afghanistan          6121  Valeur         21033   \n3  Afghanistan          6125  Valeur         21032   \n4  Afghanistan          6127  Valeur         21030   \n\n                                             Produit  Code année      Année  \\\n0  Taux de dépendance à l'égard des importations ...    20162018  2016-2018   \n1  Pourcentage des terres arables aménagées pour ...    20162018  2016-2018   \n2  Valeur des importations alimentaires par rappo...    20162018  2016-2018   \n3  Stabilité politique et absence de violence/ter...        2017       2017   \n4  Variabilité de la production alimentaire par h...        2017       2017   \n\n     Unité  Valeur Symbole             Description du Symbole  Note  \n0        %    41.3       E                     Valeur estimée   NaN  \n1        %    41.4       E                     Valeur estimée   NaN  \n2        %   363.0       E                     Valeur estimée   NaN  \n3   indice    -2.8       X  Ciffre de sources internationales   NaN  \n4  1000 I$     6.8       E                     Valeur estimée   NaN  ",
      "text/html": "<div>\n<style scoped>\n    .dataframe tbody tr th:only-of-type {\n        vertical-align: middle;\n    }\n\n    .dataframe tbody tr th {\n        vertical-align: top;\n    }\n\n    .dataframe thead th {\n        text-align: right;\n    }\n</style>\n<table border=\"1\" class=\"dataframe\">\n  <thead>\n    <tr style=\"text-align: right;\">\n      <th></th>\n      <th>Code Domaine</th>\n      <th>Domaine</th>\n      <th>Code zone (M49)</th>\n      <th>Zone</th>\n      <th>Code Élément</th>\n      <th>Élément</th>\n      <th>Code Produit</th>\n      <th>Produit</th>\n      <th>Code année</th>\n      <th>Année</th>\n      <th>Unité</th>\n      <th>Valeur</th>\n      <th>Symbole</th>\n      <th>Description du Symbole</th>\n      <th>Note</th>\n    </tr>\n  </thead>\n  <tbody>\n    <tr>\n      <th>0</th>\n      <td>FS</td>\n      <td>Données de la sécurité alimentaire</td>\n      <td>4</td>\n      <td>Afghanistan</td>\n      <td>6121</td>\n      <td>Valeur</td>\n      <td>21035</td>\n      <td>Taux de dépendance à l'égard des importations ...</td>\n      <td>20162018</td>\n      <td>2016-2018</td>\n      <td>%</td>\n      <td>41.3</td>\n      <td>E</td>\n      <td>Valeur estimée</td>\n      <td>NaN</td>\n    </tr>\n    <tr>\n      <th>1</th>\n      <td>FS</td>\n      <td>Données de la sécurité alimentaire</td>\n      <td>4</td>\n      <td>Afghanistan</td>\n      <td>6121</td>\n      <td>Valeur</td>\n      <td>21034</td>\n      <td>Pourcentage des terres arables aménagées pour ...</td>\n      <td>20162018</td>\n      <td>2016-2018</td>\n      <td>%</td>\n      <td>41.4</td>\n      <td>E</td>\n      <td>Valeur estimée</td>\n      <td>NaN</td>\n    </tr>\n    <tr>\n      <th>2</th>\n      <td>FS</td>\n      <td>Données de la sécurité alimentaire</td>\n      <td>4</td>\n      <td>Afghanistan</td>\n      <td>6121</td>\n      <td>Valeur</td>\n      <td>21033</td>\n      <td>Valeur des importations alimentaires par rappo...</td>\n      <td>20162018</td>\n      <td>2016-2018</td>\n      <td>%</td>\n      <td>363.0</td>\n      <td>E</td>\n      <td>Valeur estimée</td>\n      <td>NaN</td>\n    </tr>\n    <tr>\n      <th>3</th>\n      <td>FS</td>\n      <td>Données de la sécurité alimentaire</td>\n      <td>4</td>\n      <td>Afghanistan</td>\n      <td>6125</td>\n      <td>Valeur</td>\n      <td>21032</td>\n      <td>Stabilité politique et absence de violence/ter...</td>\n      <td>2017</td>\n      <td>2017</td>\n      <td>indice</td>\n      <td>-2.8</td>\n      <td>X</td>\n      <td>Ciffre de sources internationales</td>\n      <td>NaN</td>\n    </tr>\n    <tr>\n      <th>4</th>\n      <td>FS</td>\n      <td>Données de la sécurité alimentaire</td>\n      <td>4</td>\n      <td>Afghanistan</td>\n      <td>6127</td>\n      <td>Valeur</td>\n      <td>21030</td>\n      <td>Variabilité de la production alimentaire par h...</td>\n      <td>2017</td>\n      <td>2017</td>\n      <td>1000 I$</td>\n      <td>6.8</td>\n      <td>E</td>\n      <td>Valeur estimée</td>\n      <td>NaN</td>\n    </tr>\n  </tbody>\n</table>\n</div>"
     },
     "execution_count": 285,
     "metadata": {},
     "output_type": "execute_result"
    }
   ],
   "source": [
    "df_politic_stability = pd.read_csv(\"data/political_stability.csv\")\n",
    "df_politic_stability.head()"
   ],
   "metadata": {
    "collapsed": false
   }
  },
  {
   "cell_type": "code",
   "execution_count": 286,
   "outputs": [
    {
     "data": {
      "text/plain": "Produit            Zone  \\\n0           Afghanistan   \n1        Afrique du Sud   \n2               Albanie   \n3               Algérie   \n4             Allemagne   \n\nProduit  Stabilité politique et absence de violence/terrorisme (indice)  \\\n0                                                    -2.80                \n1                                                    -0.28                \n2                                                     0.38                \n3                                                    -0.92                \n4                                                     0.59                \n\nProduit  Variabilité de la production alimentaire par habitant ($I par personne constant 2014-16)  \\\n0                                                      6.8                                          \n1                                                     15.7                                          \n2                                                      9.2                                          \n3                                                     10.3                                          \n4                                                     16.4                                          \n\nProduit  Variabilité des disponibilités alimentaires par habitant (Kcal/personne/jour)  \n0                                                     27.0                              \n1                                                     21.0                              \n2                                                     42.0                              \n3                                                     27.0                              \n4                                                     14.0                              ",
      "text/html": "<div>\n<style scoped>\n    .dataframe tbody tr th:only-of-type {\n        vertical-align: middle;\n    }\n\n    .dataframe tbody tr th {\n        vertical-align: top;\n    }\n\n    .dataframe thead th {\n        text-align: right;\n    }\n</style>\n<table border=\"1\" class=\"dataframe\">\n  <thead>\n    <tr style=\"text-align: right;\">\n      <th>Produit</th>\n      <th>Zone</th>\n      <th>Stabilité politique et absence de violence/terrorisme (indice)</th>\n      <th>Variabilité de la production alimentaire par habitant ($I par personne constant 2014-16)</th>\n      <th>Variabilité des disponibilités alimentaires par habitant (Kcal/personne/jour)</th>\n    </tr>\n  </thead>\n  <tbody>\n    <tr>\n      <th>0</th>\n      <td>Afghanistan</td>\n      <td>-2.80</td>\n      <td>6.8</td>\n      <td>27.0</td>\n    </tr>\n    <tr>\n      <th>1</th>\n      <td>Afrique du Sud</td>\n      <td>-0.28</td>\n      <td>15.7</td>\n      <td>21.0</td>\n    </tr>\n    <tr>\n      <th>2</th>\n      <td>Albanie</td>\n      <td>0.38</td>\n      <td>9.2</td>\n      <td>42.0</td>\n    </tr>\n    <tr>\n      <th>3</th>\n      <td>Algérie</td>\n      <td>-0.92</td>\n      <td>10.3</td>\n      <td>27.0</td>\n    </tr>\n    <tr>\n      <th>4</th>\n      <td>Allemagne</td>\n      <td>0.59</td>\n      <td>16.4</td>\n      <td>14.0</td>\n    </tr>\n  </tbody>\n</table>\n</div>"
     },
     "execution_count": 286,
     "metadata": {},
     "output_type": "execute_result"
    }
   ],
   "source": [
    "df_politic_stability = df_politic_stability[df_politic_stability['Année'] == '2017']\n",
    "df_politic_stability = df_politic_stability.pivot_table(index=['Zone'], columns='Produit', values='Valeur', aggfunc=sum).reset_index()\n",
    "df_politic_stability.head()"
   ],
   "metadata": {
    "collapsed": false
   }
  },
  {
   "cell_type": "code",
   "execution_count": 287,
   "outputs": [
    {
     "name": "stdout",
     "output_type": "stream",
     "text": [
      "204\n"
     ]
    },
    {
     "data": {
      "text/plain": "Produit            Zone  \\\n0           Afghanistan   \n1        Afrique du Sud   \n2               Albanie   \n3               Algérie   \n4             Allemagne   \n\nProduit  Stabilité politique et absence de violence/terrorisme (indice)  \n0                                                    -2.80               \n1                                                    -0.28               \n2                                                     0.38               \n3                                                    -0.92               \n4                                                     0.59               ",
      "text/html": "<div>\n<style scoped>\n    .dataframe tbody tr th:only-of-type {\n        vertical-align: middle;\n    }\n\n    .dataframe tbody tr th {\n        vertical-align: top;\n    }\n\n    .dataframe thead th {\n        text-align: right;\n    }\n</style>\n<table border=\"1\" class=\"dataframe\">\n  <thead>\n    <tr style=\"text-align: right;\">\n      <th>Produit</th>\n      <th>Zone</th>\n      <th>Stabilité politique et absence de violence/terrorisme (indice)</th>\n    </tr>\n  </thead>\n  <tbody>\n    <tr>\n      <th>0</th>\n      <td>Afghanistan</td>\n      <td>-2.80</td>\n    </tr>\n    <tr>\n      <th>1</th>\n      <td>Afrique du Sud</td>\n      <td>-0.28</td>\n    </tr>\n    <tr>\n      <th>2</th>\n      <td>Albanie</td>\n      <td>0.38</td>\n    </tr>\n    <tr>\n      <th>3</th>\n      <td>Algérie</td>\n      <td>-0.92</td>\n    </tr>\n    <tr>\n      <th>4</th>\n      <td>Allemagne</td>\n      <td>0.59</td>\n    </tr>\n  </tbody>\n</table>\n</div>"
     },
     "execution_count": 287,
     "metadata": {},
     "output_type": "execute_result"
    }
   ],
   "source": [
    "df_politic_stability.drop(['Variabilité de la production alimentaire par habitant ($I par personne constant 2014-16)', 'Variabilité des disponibilités alimentaires par habitant (Kcal/personne/jour)'],  axis=1, inplace=True)\n",
    "print(df_politic_stability['Zone'].nunique())\n",
    "df_politic_stability.head()"
   ],
   "metadata": {
    "collapsed": false
   }
  },
  {
   "cell_type": "code",
   "execution_count": 288,
   "outputs": [
    {
     "name": "stdout",
     "output_type": "stream",
     "text": [
      "130\n",
      "3\n"
     ]
    }
   ],
   "source": [
    "df_final = pd.merge(df_final, df_politic_stability,  on='Zone', how='left')\n",
    "print(df_final['Stabilité politique et absence de violence/terrorisme (indice)'].nunique())\n",
    "print(df_final['Stabilité politique et absence de violence/terrorisme (indice)'].isna().sum())"
   ],
   "metadata": {
    "collapsed": false
   }
  },
  {
   "cell_type": "code",
   "execution_count": 289,
   "outputs": [
    {
     "data": {
      "text/plain": "             Zone  Valeur Pop 2017  Taux évolution population  \\\n0     Afghanistan         36296113                   0.031930   \n1  Afrique du Sud         57009756                   0.014013   \n2         Albanie          2884169                  -0.004211   \n3         Algérie         41389189                   0.017370   \n4       Allemagne         82658409                   0.000972   \n\n   Importation (kg/pers)  Nourriture Volaille (kg/pers)  \\\n0                   0.80                           1.52   \n1                   9.02                          35.70   \n2                  13.18                          16.30   \n3                   0.05                           6.38   \n4                  10.19                          19.47   \n\n   Viande Total (kg/pers)  Exportation (kg/pers)  Production (kg/pers)  \\\n0                    8.60                   0.00                  0.77   \n1                   60.02                   1.11                 29.24   \n2                   47.15                   0.00                  4.51   \n3                   18.07                   0.00                  6.64   \n4                   87.77                   7.82                 18.32   \n\n   Nourriture Volaille/Total (%)  \\\n0                          17.67   \n1                          59.48   \n2                          34.57   \n3                          35.31   \n4                          22.18   \n\n   Stabilité politique et absence de violence/terrorisme (indice)  \n0                                              -2.80               \n1                                              -0.28               \n2                                               0.38               \n3                                              -0.92               \n4                                               0.59               ",
      "text/html": "<div>\n<style scoped>\n    .dataframe tbody tr th:only-of-type {\n        vertical-align: middle;\n    }\n\n    .dataframe tbody tr th {\n        vertical-align: top;\n    }\n\n    .dataframe thead th {\n        text-align: right;\n    }\n</style>\n<table border=\"1\" class=\"dataframe\">\n  <thead>\n    <tr style=\"text-align: right;\">\n      <th></th>\n      <th>Zone</th>\n      <th>Valeur Pop 2017</th>\n      <th>Taux évolution population</th>\n      <th>Importation (kg/pers)</th>\n      <th>Nourriture Volaille (kg/pers)</th>\n      <th>Viande Total (kg/pers)</th>\n      <th>Exportation (kg/pers)</th>\n      <th>Production (kg/pers)</th>\n      <th>Nourriture Volaille/Total (%)</th>\n      <th>Stabilité politique et absence de violence/terrorisme (indice)</th>\n    </tr>\n  </thead>\n  <tbody>\n    <tr>\n      <th>0</th>\n      <td>Afghanistan</td>\n      <td>36296113</td>\n      <td>0.031930</td>\n      <td>0.80</td>\n      <td>1.52</td>\n      <td>8.60</td>\n      <td>0.00</td>\n      <td>0.77</td>\n      <td>17.67</td>\n      <td>-2.80</td>\n    </tr>\n    <tr>\n      <th>1</th>\n      <td>Afrique du Sud</td>\n      <td>57009756</td>\n      <td>0.014013</td>\n      <td>9.02</td>\n      <td>35.70</td>\n      <td>60.02</td>\n      <td>1.11</td>\n      <td>29.24</td>\n      <td>59.48</td>\n      <td>-0.28</td>\n    </tr>\n    <tr>\n      <th>2</th>\n      <td>Albanie</td>\n      <td>2884169</td>\n      <td>-0.004211</td>\n      <td>13.18</td>\n      <td>16.30</td>\n      <td>47.15</td>\n      <td>0.00</td>\n      <td>4.51</td>\n      <td>34.57</td>\n      <td>0.38</td>\n    </tr>\n    <tr>\n      <th>3</th>\n      <td>Algérie</td>\n      <td>41389189</td>\n      <td>0.017370</td>\n      <td>0.05</td>\n      <td>6.38</td>\n      <td>18.07</td>\n      <td>0.00</td>\n      <td>6.64</td>\n      <td>35.31</td>\n      <td>-0.92</td>\n    </tr>\n    <tr>\n      <th>4</th>\n      <td>Allemagne</td>\n      <td>82658409</td>\n      <td>0.000972</td>\n      <td>10.19</td>\n      <td>19.47</td>\n      <td>87.77</td>\n      <td>7.82</td>\n      <td>18.32</td>\n      <td>22.18</td>\n      <td>0.59</td>\n    </tr>\n  </tbody>\n</table>\n</div>"
     },
     "execution_count": 289,
     "metadata": {},
     "output_type": "execute_result"
    }
   ],
   "source": [
    "df_final.head()"
   ],
   "metadata": {
    "collapsed": false
   }
  },
  {
   "cell_type": "code",
   "execution_count": 290,
   "outputs": [
    {
     "data": {
      "text/plain": "                    Zone  Valeur Pop 2017  Taux évolution population  \\\n34   Chine, continentale       1421021791                   0.005616   \n108   Nouvelle-Calédonie           277150                   0.013912   \n120  Polynésie française           276102                   0.005561   \n\n     Importation (kg/pers)  Nourriture Volaille (kg/pers)  \\\n34                    0.32                          12.33   \n108                  32.47                          39.69   \n120                  54.33                          47.08   \n\n     Viande Total (kg/pers)  Exportation (kg/pers)  Production (kg/pers)  \\\n34                    59.90                   0.41                 12.83   \n108                   72.16                   0.00                  3.61   \n120                   94.17                   0.00                  3.62   \n\n     Nourriture Volaille/Total (%)  \\\n34                           20.58   \n108                          55.00   \n120                          49.99   \n\n     Stabilité politique et absence de violence/terrorisme (indice)  \n34                                                 NaN               \n108                                                NaN               \n120                                                NaN               ",
      "text/html": "<div>\n<style scoped>\n    .dataframe tbody tr th:only-of-type {\n        vertical-align: middle;\n    }\n\n    .dataframe tbody tr th {\n        vertical-align: top;\n    }\n\n    .dataframe thead th {\n        text-align: right;\n    }\n</style>\n<table border=\"1\" class=\"dataframe\">\n  <thead>\n    <tr style=\"text-align: right;\">\n      <th></th>\n      <th>Zone</th>\n      <th>Valeur Pop 2017</th>\n      <th>Taux évolution population</th>\n      <th>Importation (kg/pers)</th>\n      <th>Nourriture Volaille (kg/pers)</th>\n      <th>Viande Total (kg/pers)</th>\n      <th>Exportation (kg/pers)</th>\n      <th>Production (kg/pers)</th>\n      <th>Nourriture Volaille/Total (%)</th>\n      <th>Stabilité politique et absence de violence/terrorisme (indice)</th>\n    </tr>\n  </thead>\n  <tbody>\n    <tr>\n      <th>34</th>\n      <td>Chine, continentale</td>\n      <td>1421021791</td>\n      <td>0.005616</td>\n      <td>0.32</td>\n      <td>12.33</td>\n      <td>59.90</td>\n      <td>0.41</td>\n      <td>12.83</td>\n      <td>20.58</td>\n      <td>NaN</td>\n    </tr>\n    <tr>\n      <th>108</th>\n      <td>Nouvelle-Calédonie</td>\n      <td>277150</td>\n      <td>0.013912</td>\n      <td>32.47</td>\n      <td>39.69</td>\n      <td>72.16</td>\n      <td>0.00</td>\n      <td>3.61</td>\n      <td>55.00</td>\n      <td>NaN</td>\n    </tr>\n    <tr>\n      <th>120</th>\n      <td>Polynésie française</td>\n      <td>276102</td>\n      <td>0.005561</td>\n      <td>54.33</td>\n      <td>47.08</td>\n      <td>94.17</td>\n      <td>0.00</td>\n      <td>3.62</td>\n      <td>49.99</td>\n      <td>NaN</td>\n    </tr>\n  </tbody>\n</table>\n</div>"
     },
     "execution_count": 290,
     "metadata": {},
     "output_type": "execute_result"
    }
   ],
   "source": [
    "df_final[df_final['Stabilité politique et absence de violence/terrorisme (indice)'].isna()]"
   ],
   "metadata": {
    "collapsed": false
   }
  },
  {
   "cell_type": "markdown",
   "source": [
    "## Pib"
   ],
   "metadata": {
    "collapsed": false
   }
  },
  {
   "cell_type": "code",
   "execution_count": 291,
   "outputs": [
    {
     "data": {
      "text/plain": "  Code Domaine            Domaine  Code zone (FAO)            Zone  \\\n0           MK  Indicateurs macro                2     Afghanistan   \n1           MK  Indicateurs macro                2     Afghanistan   \n2           MK  Indicateurs macro                2     Afghanistan   \n3           MK  Indicateurs macro                2     Afghanistan   \n4           MK  Indicateurs macro              202  Afrique du Sud   \n\n   Code Élément                   Élément  Code Produit  \\\n0          6110               Valeur US $         22008   \n1          6119  Valeur US $ par habitant         22008   \n2          6110               Valeur US $         22015   \n3          6103          Part du PIB US $         22015   \n4          6110               Valeur US $         22008   \n\n                           Produit  Code année  Année     Unité  \\\n0           Produit Intérieur Brut        2017   2017  millions   \n1           Produit Intérieur Brut        2017   2017       US$   \n2  Formation brute de capital fixe        2017   2017  millions   \n3  Formation brute de capital fixe        2017   2017         %   \n4           Produit Intérieur Brut        2017   2017  millions   \n\n          Valeur Symbole         Description du Symbole  Note  \n0   18896.352021       X  Sources internationales sûres   NaN  \n1     520.616409       X  Sources internationales sûres   NaN  \n2    2552.410075       X  Sources internationales sûres   NaN  \n3      13.507422      Fc                Donnée calculée   NaN  \n4  349006.689642       X  Sources internationales sûres   NaN  ",
      "text/html": "<div>\n<style scoped>\n    .dataframe tbody tr th:only-of-type {\n        vertical-align: middle;\n    }\n\n    .dataframe tbody tr th {\n        vertical-align: top;\n    }\n\n    .dataframe thead th {\n        text-align: right;\n    }\n</style>\n<table border=\"1\" class=\"dataframe\">\n  <thead>\n    <tr style=\"text-align: right;\">\n      <th></th>\n      <th>Code Domaine</th>\n      <th>Domaine</th>\n      <th>Code zone (FAO)</th>\n      <th>Zone</th>\n      <th>Code Élément</th>\n      <th>Élément</th>\n      <th>Code Produit</th>\n      <th>Produit</th>\n      <th>Code année</th>\n      <th>Année</th>\n      <th>Unité</th>\n      <th>Valeur</th>\n      <th>Symbole</th>\n      <th>Description du Symbole</th>\n      <th>Note</th>\n    </tr>\n  </thead>\n  <tbody>\n    <tr>\n      <th>0</th>\n      <td>MK</td>\n      <td>Indicateurs macro</td>\n      <td>2</td>\n      <td>Afghanistan</td>\n      <td>6110</td>\n      <td>Valeur US $</td>\n      <td>22008</td>\n      <td>Produit Intérieur Brut</td>\n      <td>2017</td>\n      <td>2017</td>\n      <td>millions</td>\n      <td>18896.352021</td>\n      <td>X</td>\n      <td>Sources internationales sûres</td>\n      <td>NaN</td>\n    </tr>\n    <tr>\n      <th>1</th>\n      <td>MK</td>\n      <td>Indicateurs macro</td>\n      <td>2</td>\n      <td>Afghanistan</td>\n      <td>6119</td>\n      <td>Valeur US $ par habitant</td>\n      <td>22008</td>\n      <td>Produit Intérieur Brut</td>\n      <td>2017</td>\n      <td>2017</td>\n      <td>US$</td>\n      <td>520.616409</td>\n      <td>X</td>\n      <td>Sources internationales sûres</td>\n      <td>NaN</td>\n    </tr>\n    <tr>\n      <th>2</th>\n      <td>MK</td>\n      <td>Indicateurs macro</td>\n      <td>2</td>\n      <td>Afghanistan</td>\n      <td>6110</td>\n      <td>Valeur US $</td>\n      <td>22015</td>\n      <td>Formation brute de capital fixe</td>\n      <td>2017</td>\n      <td>2017</td>\n      <td>millions</td>\n      <td>2552.410075</td>\n      <td>X</td>\n      <td>Sources internationales sûres</td>\n      <td>NaN</td>\n    </tr>\n    <tr>\n      <th>3</th>\n      <td>MK</td>\n      <td>Indicateurs macro</td>\n      <td>2</td>\n      <td>Afghanistan</td>\n      <td>6103</td>\n      <td>Part du PIB US $</td>\n      <td>22015</td>\n      <td>Formation brute de capital fixe</td>\n      <td>2017</td>\n      <td>2017</td>\n      <td>%</td>\n      <td>13.507422</td>\n      <td>Fc</td>\n      <td>Donnée calculée</td>\n      <td>NaN</td>\n    </tr>\n    <tr>\n      <th>4</th>\n      <td>MK</td>\n      <td>Indicateurs macro</td>\n      <td>202</td>\n      <td>Afrique du Sud</td>\n      <td>6110</td>\n      <td>Valeur US $</td>\n      <td>22008</td>\n      <td>Produit Intérieur Brut</td>\n      <td>2017</td>\n      <td>2017</td>\n      <td>millions</td>\n      <td>349006.689642</td>\n      <td>X</td>\n      <td>Sources internationales sûres</td>\n      <td>NaN</td>\n    </tr>\n  </tbody>\n</table>\n</div>"
     },
     "execution_count": 291,
     "metadata": {},
     "output_type": "execute_result"
    }
   ],
   "source": [
    "df_pib = pd.read_csv(\"data/indicateur_macro.csv\")\n",
    "df_pib.head()"
   ],
   "metadata": {
    "collapsed": false
   }
  },
  {
   "cell_type": "code",
   "execution_count": 292,
   "outputs": [
    {
     "data": {
      "text/plain": "Produit            Zone  Produit Intérieur Brut\n0           Afghanistan              520.616409\n1        Afrique du Sud             6121.876572\n2               Albanie             4514.204908\n3               Algérie             4109.696001\n4             Allemagne            44651.829102",
      "text/html": "<div>\n<style scoped>\n    .dataframe tbody tr th:only-of-type {\n        vertical-align: middle;\n    }\n\n    .dataframe tbody tr th {\n        vertical-align: top;\n    }\n\n    .dataframe thead th {\n        text-align: right;\n    }\n</style>\n<table border=\"1\" class=\"dataframe\">\n  <thead>\n    <tr style=\"text-align: right;\">\n      <th>Produit</th>\n      <th>Zone</th>\n      <th>Produit Intérieur Brut</th>\n    </tr>\n  </thead>\n  <tbody>\n    <tr>\n      <th>0</th>\n      <td>Afghanistan</td>\n      <td>520.616409</td>\n    </tr>\n    <tr>\n      <th>1</th>\n      <td>Afrique du Sud</td>\n      <td>6121.876572</td>\n    </tr>\n    <tr>\n      <th>2</th>\n      <td>Albanie</td>\n      <td>4514.204908</td>\n    </tr>\n    <tr>\n      <th>3</th>\n      <td>Algérie</td>\n      <td>4109.696001</td>\n    </tr>\n    <tr>\n      <th>4</th>\n      <td>Allemagne</td>\n      <td>44651.829102</td>\n    </tr>\n  </tbody>\n</table>\n</div>"
     },
     "execution_count": 292,
     "metadata": {},
     "output_type": "execute_result"
    }
   ],
   "source": [
    "df_pib = df_pib[(df_pib['Année'] == '2017') | (df_pib['Élément'] == 'Valeur US $ par habitant')]\n",
    "df_pib = df_pib.pivot_table(index=['Zone'], columns='Produit', values='Valeur', aggfunc=sum).reset_index()\n",
    "df_pib.head()"
   ],
   "metadata": {
    "collapsed": false
   }
  },
  {
   "cell_type": "code",
   "execution_count": 293,
   "outputs": [
    {
     "name": "stdout",
     "output_type": "stream",
     "text": [
      "211\n"
     ]
    },
    {
     "data": {
      "text/plain": "Produit            Zone  PIB (Valeur us$/Habitant)\n0           Afghanistan                 520.616409\n1        Afrique du Sud                6121.876572\n2               Albanie                4514.204908\n3               Algérie                4109.696001\n4             Allemagne               44651.829102",
      "text/html": "<div>\n<style scoped>\n    .dataframe tbody tr th:only-of-type {\n        vertical-align: middle;\n    }\n\n    .dataframe tbody tr th {\n        vertical-align: top;\n    }\n\n    .dataframe thead th {\n        text-align: right;\n    }\n</style>\n<table border=\"1\" class=\"dataframe\">\n  <thead>\n    <tr style=\"text-align: right;\">\n      <th>Produit</th>\n      <th>Zone</th>\n      <th>PIB (Valeur us$/Habitant)</th>\n    </tr>\n  </thead>\n  <tbody>\n    <tr>\n      <th>0</th>\n      <td>Afghanistan</td>\n      <td>520.616409</td>\n    </tr>\n    <tr>\n      <th>1</th>\n      <td>Afrique du Sud</td>\n      <td>6121.876572</td>\n    </tr>\n    <tr>\n      <th>2</th>\n      <td>Albanie</td>\n      <td>4514.204908</td>\n    </tr>\n    <tr>\n      <th>3</th>\n      <td>Algérie</td>\n      <td>4109.696001</td>\n    </tr>\n    <tr>\n      <th>4</th>\n      <td>Allemagne</td>\n      <td>44651.829102</td>\n    </tr>\n  </tbody>\n</table>\n</div>"
     },
     "execution_count": 293,
     "metadata": {},
     "output_type": "execute_result"
    }
   ],
   "source": [
    "df_pib = df_pib.rename(columns={'Produit Intérieur Brut': 'PIB (Valeur us$/Habitant)'})\n",
    "print(df_pib['Zone'].nunique())\n",
    "df_pib.head()"
   ],
   "metadata": {
    "collapsed": false
   }
  },
  {
   "cell_type": "code",
   "execution_count": 294,
   "outputs": [],
   "source": [
    "df_final = pd.merge(df_final, df_pib,  on='Zone', how='left')"
   ],
   "metadata": {
    "collapsed": false
   }
  },
  {
   "cell_type": "markdown",
   "source": [
    "## Sous alimentation & accés a l'eau"
   ],
   "metadata": {
    "collapsed": false
   }
  },
  {
   "cell_type": "markdown",
   "source": [
    "### Sous alimentation"
   ],
   "metadata": {
    "collapsed": false
   }
  },
  {
   "cell_type": "code",
   "execution_count": 295,
   "outputs": [
    {
     "data": {
      "text/plain": "  Code Domaine                             Domaine  Code zone (M49)  \\\n0           FS  Données de la sécurité alimentaire                4   \n1           FS  Données de la sécurité alimentaire                4   \n2           FS  Données de la sécurité alimentaire                4   \n3           FS  Données de la sécurité alimentaire                4   \n4           FS  Données de la sécurité alimentaire                4   \n\n          Zone  Code Élément Élément Code Produit  \\\n0  Afghanistan          6132  Valeur       210011   \n1  Afghanistan          6121  Valeur       210401   \n2  Afghanistan          6121  Valeur      210401M   \n3  Afghanistan          6121  Valeur      210401F   \n4  Afghanistan          6121  Valeur        21045   \n\n                                             Produit  Code année      Année  \\\n0  Nombre de personnes sous-alimentées (millions)...    20162018  2016-2018   \n1  Prévalence de l’insécurité alimentaire grave –...    20162018  2016-2018   \n2  Prévalence de l’insécurité alimentaire grave –...    20162018  2016-2018   \n3  Prévalence de l’insécurité alimentaire grave –...    20162018  2016-2018   \n4  Pourcentage de la population ayant accès à des...        2017       2017   \n\n      Unité Valeur Symbole             Description du Symbole Note  \n0  millions    8.3       E                     Valeur estimée  NaN  \n1         %   17.3       E                     Valeur estimée  NaN  \n2         %   15.3       E                     Valeur estimée  NaN  \n3         %   19.4       E                     Valeur estimée  NaN  \n4         %   25.1       X  Ciffre de sources internationales  NaN  ",
      "text/html": "<div>\n<style scoped>\n    .dataframe tbody tr th:only-of-type {\n        vertical-align: middle;\n    }\n\n    .dataframe tbody tr th {\n        vertical-align: top;\n    }\n\n    .dataframe thead th {\n        text-align: right;\n    }\n</style>\n<table border=\"1\" class=\"dataframe\">\n  <thead>\n    <tr style=\"text-align: right;\">\n      <th></th>\n      <th>Code Domaine</th>\n      <th>Domaine</th>\n      <th>Code zone (M49)</th>\n      <th>Zone</th>\n      <th>Code Élément</th>\n      <th>Élément</th>\n      <th>Code Produit</th>\n      <th>Produit</th>\n      <th>Code année</th>\n      <th>Année</th>\n      <th>Unité</th>\n      <th>Valeur</th>\n      <th>Symbole</th>\n      <th>Description du Symbole</th>\n      <th>Note</th>\n    </tr>\n  </thead>\n  <tbody>\n    <tr>\n      <th>0</th>\n      <td>FS</td>\n      <td>Données de la sécurité alimentaire</td>\n      <td>4</td>\n      <td>Afghanistan</td>\n      <td>6132</td>\n      <td>Valeur</td>\n      <td>210011</td>\n      <td>Nombre de personnes sous-alimentées (millions)...</td>\n      <td>20162018</td>\n      <td>2016-2018</td>\n      <td>millions</td>\n      <td>8.3</td>\n      <td>E</td>\n      <td>Valeur estimée</td>\n      <td>NaN</td>\n    </tr>\n    <tr>\n      <th>1</th>\n      <td>FS</td>\n      <td>Données de la sécurité alimentaire</td>\n      <td>4</td>\n      <td>Afghanistan</td>\n      <td>6121</td>\n      <td>Valeur</td>\n      <td>210401</td>\n      <td>Prévalence de l’insécurité alimentaire grave –...</td>\n      <td>20162018</td>\n      <td>2016-2018</td>\n      <td>%</td>\n      <td>17.3</td>\n      <td>E</td>\n      <td>Valeur estimée</td>\n      <td>NaN</td>\n    </tr>\n    <tr>\n      <th>2</th>\n      <td>FS</td>\n      <td>Données de la sécurité alimentaire</td>\n      <td>4</td>\n      <td>Afghanistan</td>\n      <td>6121</td>\n      <td>Valeur</td>\n      <td>210401M</td>\n      <td>Prévalence de l’insécurité alimentaire grave –...</td>\n      <td>20162018</td>\n      <td>2016-2018</td>\n      <td>%</td>\n      <td>15.3</td>\n      <td>E</td>\n      <td>Valeur estimée</td>\n      <td>NaN</td>\n    </tr>\n    <tr>\n      <th>3</th>\n      <td>FS</td>\n      <td>Données de la sécurité alimentaire</td>\n      <td>4</td>\n      <td>Afghanistan</td>\n      <td>6121</td>\n      <td>Valeur</td>\n      <td>210401F</td>\n      <td>Prévalence de l’insécurité alimentaire grave –...</td>\n      <td>20162018</td>\n      <td>2016-2018</td>\n      <td>%</td>\n      <td>19.4</td>\n      <td>E</td>\n      <td>Valeur estimée</td>\n      <td>NaN</td>\n    </tr>\n    <tr>\n      <th>4</th>\n      <td>FS</td>\n      <td>Données de la sécurité alimentaire</td>\n      <td>4</td>\n      <td>Afghanistan</td>\n      <td>6121</td>\n      <td>Valeur</td>\n      <td>21045</td>\n      <td>Pourcentage de la population ayant accès à des...</td>\n      <td>2017</td>\n      <td>2017</td>\n      <td>%</td>\n      <td>25.1</td>\n      <td>X</td>\n      <td>Ciffre de sources internationales</td>\n      <td>NaN</td>\n    </tr>\n  </tbody>\n</table>\n</div>"
     },
     "execution_count": 295,
     "metadata": {},
     "output_type": "execute_result"
    }
   ],
   "source": [
    "df_alim_water = pd.read_csv(\"data/Sous_aliment_Water_service.csv\")\n",
    "df_alim_water.head()"
   ],
   "metadata": {
    "collapsed": false
   }
  },
  {
   "cell_type": "code",
   "execution_count": 296,
   "outputs": [],
   "source": [
    "df_sous_alim = df_alim_water[df_alim_water['Produit'] == 'Nombre de personnes sous-alimentées (millions) (moyenne sur 3 ans)'].copy()"
   ],
   "metadata": {
    "collapsed": false
   }
  },
  {
   "cell_type": "code",
   "execution_count": 297,
   "outputs": [
    {
     "data": {
      "text/plain": "Produit            Zone  \\\n0           Afghanistan   \n1        Afrique du Sud   \n2               Albanie   \n3               Algérie   \n4             Allemagne   \n\nProduit Nombre de personnes sous-alimentées (millions) (moyenne sur 3 ans)  \n0                                                      8.3                  \n1                                                      3.1                  \n2                                                      0.1                  \n3                                                      1.1                  \n4                                                        0                  ",
      "text/html": "<div>\n<style scoped>\n    .dataframe tbody tr th:only-of-type {\n        vertical-align: middle;\n    }\n\n    .dataframe tbody tr th {\n        vertical-align: top;\n    }\n\n    .dataframe thead th {\n        text-align: right;\n    }\n</style>\n<table border=\"1\" class=\"dataframe\">\n  <thead>\n    <tr style=\"text-align: right;\">\n      <th>Produit</th>\n      <th>Zone</th>\n      <th>Nombre de personnes sous-alimentées (millions) (moyenne sur 3 ans)</th>\n    </tr>\n  </thead>\n  <tbody>\n    <tr>\n      <th>0</th>\n      <td>Afghanistan</td>\n      <td>8.3</td>\n    </tr>\n    <tr>\n      <th>1</th>\n      <td>Afrique du Sud</td>\n      <td>3.1</td>\n    </tr>\n    <tr>\n      <th>2</th>\n      <td>Albanie</td>\n      <td>0.1</td>\n    </tr>\n    <tr>\n      <th>3</th>\n      <td>Algérie</td>\n      <td>1.1</td>\n    </tr>\n    <tr>\n      <th>4</th>\n      <td>Allemagne</td>\n      <td>0</td>\n    </tr>\n  </tbody>\n</table>\n</div>"
     },
     "execution_count": 297,
     "metadata": {},
     "output_type": "execute_result"
    }
   ],
   "source": [
    "df_sous_alim = df_sous_alim.drop(['Code Domaine','Domaine','Code zone (M49)','Code Élément','Élément','Code Produit','Code année','Unité','Symbole','Description du Symbole','Note'],  axis=1)\n",
    "df_sous_alim = df_sous_alim.pivot_table(index=['Zone'], columns='Produit', values='Valeur', aggfunc=sum).reset_index()\n",
    "df_sous_alim.head()"
   ],
   "metadata": {
    "collapsed": false
   }
  },
  {
   "cell_type": "code",
   "execution_count": 298,
   "outputs": [
    {
     "data": {
      "text/plain": "             Zone  Valeur Pop 2017  Taux évolution population  \\\n0     Afghanistan         36296113                   0.031930   \n1  Afrique du Sud         57009756                   0.014013   \n2         Albanie          2884169                  -0.004211   \n3         Algérie         41389189                   0.017370   \n4       Allemagne         82658409                   0.000972   \n\n   Importation (kg/pers)  Nourriture Volaille (kg/pers)  \\\n0                   0.80                           1.52   \n1                   9.02                          35.70   \n2                  13.18                          16.30   \n3                   0.05                           6.38   \n4                  10.19                          19.47   \n\n   Viande Total (kg/pers)  Exportation (kg/pers)  Production (kg/pers)  \\\n0                    8.60                   0.00                  0.77   \n1                   60.02                   1.11                 29.24   \n2                   47.15                   0.00                  4.51   \n3                   18.07                   0.00                  6.64   \n4                   87.77                   7.82                 18.32   \n\n   Nourriture Volaille/Total (%)  \\\n0                          17.67   \n1                          59.48   \n2                          34.57   \n3                          35.31   \n4                          22.18   \n\n   Stabilité politique et absence de violence/terrorisme (indice)  \\\n0                                              -2.80                \n1                                              -0.28                \n2                                               0.38                \n3                                              -0.92                \n4                                               0.59                \n\n   PIB (Valeur us$/Habitant)  \\\n0                 520.616409   \n1                6121.876572   \n2                4514.204908   \n3                4109.696001   \n4               44651.829102   \n\n  Nombre de personnes sous-alimentées (millions) (moyenne sur 3 ans)  \n0                                                8.3                  \n1                                                3.1                  \n2                                                0.1                  \n3                                                1.1                  \n4                                                  0                  ",
      "text/html": "<div>\n<style scoped>\n    .dataframe tbody tr th:only-of-type {\n        vertical-align: middle;\n    }\n\n    .dataframe tbody tr th {\n        vertical-align: top;\n    }\n\n    .dataframe thead th {\n        text-align: right;\n    }\n</style>\n<table border=\"1\" class=\"dataframe\">\n  <thead>\n    <tr style=\"text-align: right;\">\n      <th></th>\n      <th>Zone</th>\n      <th>Valeur Pop 2017</th>\n      <th>Taux évolution population</th>\n      <th>Importation (kg/pers)</th>\n      <th>Nourriture Volaille (kg/pers)</th>\n      <th>Viande Total (kg/pers)</th>\n      <th>Exportation (kg/pers)</th>\n      <th>Production (kg/pers)</th>\n      <th>Nourriture Volaille/Total (%)</th>\n      <th>Stabilité politique et absence de violence/terrorisme (indice)</th>\n      <th>PIB (Valeur us$/Habitant)</th>\n      <th>Nombre de personnes sous-alimentées (millions) (moyenne sur 3 ans)</th>\n    </tr>\n  </thead>\n  <tbody>\n    <tr>\n      <th>0</th>\n      <td>Afghanistan</td>\n      <td>36296113</td>\n      <td>0.031930</td>\n      <td>0.80</td>\n      <td>1.52</td>\n      <td>8.60</td>\n      <td>0.00</td>\n      <td>0.77</td>\n      <td>17.67</td>\n      <td>-2.80</td>\n      <td>520.616409</td>\n      <td>8.3</td>\n    </tr>\n    <tr>\n      <th>1</th>\n      <td>Afrique du Sud</td>\n      <td>57009756</td>\n      <td>0.014013</td>\n      <td>9.02</td>\n      <td>35.70</td>\n      <td>60.02</td>\n      <td>1.11</td>\n      <td>29.24</td>\n      <td>59.48</td>\n      <td>-0.28</td>\n      <td>6121.876572</td>\n      <td>3.1</td>\n    </tr>\n    <tr>\n      <th>2</th>\n      <td>Albanie</td>\n      <td>2884169</td>\n      <td>-0.004211</td>\n      <td>13.18</td>\n      <td>16.30</td>\n      <td>47.15</td>\n      <td>0.00</td>\n      <td>4.51</td>\n      <td>34.57</td>\n      <td>0.38</td>\n      <td>4514.204908</td>\n      <td>0.1</td>\n    </tr>\n    <tr>\n      <th>3</th>\n      <td>Algérie</td>\n      <td>41389189</td>\n      <td>0.017370</td>\n      <td>0.05</td>\n      <td>6.38</td>\n      <td>18.07</td>\n      <td>0.00</td>\n      <td>6.64</td>\n      <td>35.31</td>\n      <td>-0.92</td>\n      <td>4109.696001</td>\n      <td>1.1</td>\n    </tr>\n    <tr>\n      <th>4</th>\n      <td>Allemagne</td>\n      <td>82658409</td>\n      <td>0.000972</td>\n      <td>10.19</td>\n      <td>19.47</td>\n      <td>87.77</td>\n      <td>7.82</td>\n      <td>18.32</td>\n      <td>22.18</td>\n      <td>0.59</td>\n      <td>44651.829102</td>\n      <td>0</td>\n    </tr>\n  </tbody>\n</table>\n</div>"
     },
     "execution_count": 298,
     "metadata": {},
     "output_type": "execute_result"
    }
   ],
   "source": [
    "df_final = pd.merge(df_final, df_sous_alim,  on='Zone', how='left')\n",
    "df_final.head()"
   ],
   "metadata": {
    "collapsed": false
   }
  },
  {
   "cell_type": "markdown",
   "source": [
    "### Accés a l'eau"
   ],
   "metadata": {
    "collapsed": false
   }
  },
  {
   "cell_type": "markdown",
   "source": [
    "Je garde que l'eau de base car l'acces a l'eau en toutes sécurité me donne 64 NaN"
   ],
   "metadata": {
    "collapsed": false
   }
  },
  {
   "cell_type": "code",
   "execution_count": 299,
   "outputs": [
    {
     "data": {
      "text/plain": "Produit            Zone  \\\n0           Afghanistan   \n1        Afrique du Sud   \n2               Albanie   \n3               Algérie   \n4             Allemagne   \n\nProduit % population utilisant au moins les services d'eau de base  \n0                                                     66.8          \n1                                                     92.7          \n2                                                     94.1          \n3                                                     93.8          \n4                                                       99          ",
      "text/html": "<div>\n<style scoped>\n    .dataframe tbody tr th:only-of-type {\n        vertical-align: middle;\n    }\n\n    .dataframe tbody tr th {\n        vertical-align: top;\n    }\n\n    .dataframe thead th {\n        text-align: right;\n    }\n</style>\n<table border=\"1\" class=\"dataframe\">\n  <thead>\n    <tr style=\"text-align: right;\">\n      <th>Produit</th>\n      <th>Zone</th>\n      <th>% population utilisant au moins les services d'eau de base</th>\n    </tr>\n  </thead>\n  <tbody>\n    <tr>\n      <th>0</th>\n      <td>Afghanistan</td>\n      <td>66.8</td>\n    </tr>\n    <tr>\n      <th>1</th>\n      <td>Afrique du Sud</td>\n      <td>92.7</td>\n    </tr>\n    <tr>\n      <th>2</th>\n      <td>Albanie</td>\n      <td>94.1</td>\n    </tr>\n    <tr>\n      <th>3</th>\n      <td>Algérie</td>\n      <td>93.8</td>\n    </tr>\n    <tr>\n      <th>4</th>\n      <td>Allemagne</td>\n      <td>99</td>\n    </tr>\n  </tbody>\n</table>\n</div>"
     },
     "execution_count": 299,
     "metadata": {},
     "output_type": "execute_result"
    }
   ],
   "source": [
    "\n",
    "df_water_service = df_alim_water[df_alim_water['Produit'] == 'Pourcentage de la population utilisant au moins les services d\\'eau de base'].copy()\n",
    "df_water_service = df_water_service.drop(['Code Domaine','Domaine','Code zone (M49)','Code Élément','Élément','Code Produit','Code année','Unité','Symbole','Description du Symbole','Note'],  axis=1)\n",
    "df_water_service = df_water_service.pivot_table(index=['Zone'], columns='Produit', values='Valeur', aggfunc=sum).reset_index()\n",
    "df_water_service = df_water_service.rename(columns={\n",
    "    'Pourcentage de la population utilisant au moins les services d\\'eau de base':'% population utilisant au moins les services d\\'eau de base'})\n",
    "df_water_service.head()"
   ],
   "metadata": {
    "collapsed": false
   }
  },
  {
   "cell_type": "code",
   "execution_count": 300,
   "outputs": [
    {
     "data": {
      "text/plain": "             Zone  Valeur Pop 2017  Taux évolution population  \\\n0     Afghanistan         36296113                   0.031930   \n1  Afrique du Sud         57009756                   0.014013   \n2         Albanie          2884169                  -0.004211   \n3         Algérie         41389189                   0.017370   \n4       Allemagne         82658409                   0.000972   \n\n   Importation (kg/pers)  Nourriture Volaille (kg/pers)  \\\n0                   0.80                           1.52   \n1                   9.02                          35.70   \n2                  13.18                          16.30   \n3                   0.05                           6.38   \n4                  10.19                          19.47   \n\n   Viande Total (kg/pers)  Exportation (kg/pers)  Production (kg/pers)  \\\n0                    8.60                   0.00                  0.77   \n1                   60.02                   1.11                 29.24   \n2                   47.15                   0.00                  4.51   \n3                   18.07                   0.00                  6.64   \n4                   87.77                   7.82                 18.32   \n\n   Nourriture Volaille/Total (%)  \\\n0                          17.67   \n1                          59.48   \n2                          34.57   \n3                          35.31   \n4                          22.18   \n\n   Stabilité politique et absence de violence/terrorisme (indice)  \\\n0                                              -2.80                \n1                                              -0.28                \n2                                               0.38                \n3                                              -0.92                \n4                                               0.59                \n\n   PIB (Valeur us$/Habitant)  \\\n0                 520.616409   \n1                6121.876572   \n2                4514.204908   \n3                4109.696001   \n4               44651.829102   \n\n  Nombre de personnes sous-alimentées (millions) (moyenne sur 3 ans)  \\\n0                                                8.3                   \n1                                                3.1                   \n2                                                0.1                   \n3                                                1.1                   \n4                                                  0                   \n\n  % population utilisant au moins les services d'eau de base  \n0                                               66.8          \n1                                               92.7          \n2                                               94.1          \n3                                               93.8          \n4                                                 99          ",
      "text/html": "<div>\n<style scoped>\n    .dataframe tbody tr th:only-of-type {\n        vertical-align: middle;\n    }\n\n    .dataframe tbody tr th {\n        vertical-align: top;\n    }\n\n    .dataframe thead th {\n        text-align: right;\n    }\n</style>\n<table border=\"1\" class=\"dataframe\">\n  <thead>\n    <tr style=\"text-align: right;\">\n      <th></th>\n      <th>Zone</th>\n      <th>Valeur Pop 2017</th>\n      <th>Taux évolution population</th>\n      <th>Importation (kg/pers)</th>\n      <th>Nourriture Volaille (kg/pers)</th>\n      <th>Viande Total (kg/pers)</th>\n      <th>Exportation (kg/pers)</th>\n      <th>Production (kg/pers)</th>\n      <th>Nourriture Volaille/Total (%)</th>\n      <th>Stabilité politique et absence de violence/terrorisme (indice)</th>\n      <th>PIB (Valeur us$/Habitant)</th>\n      <th>Nombre de personnes sous-alimentées (millions) (moyenne sur 3 ans)</th>\n      <th>% population utilisant au moins les services d'eau de base</th>\n    </tr>\n  </thead>\n  <tbody>\n    <tr>\n      <th>0</th>\n      <td>Afghanistan</td>\n      <td>36296113</td>\n      <td>0.031930</td>\n      <td>0.80</td>\n      <td>1.52</td>\n      <td>8.60</td>\n      <td>0.00</td>\n      <td>0.77</td>\n      <td>17.67</td>\n      <td>-2.80</td>\n      <td>520.616409</td>\n      <td>8.3</td>\n      <td>66.8</td>\n    </tr>\n    <tr>\n      <th>1</th>\n      <td>Afrique du Sud</td>\n      <td>57009756</td>\n      <td>0.014013</td>\n      <td>9.02</td>\n      <td>35.70</td>\n      <td>60.02</td>\n      <td>1.11</td>\n      <td>29.24</td>\n      <td>59.48</td>\n      <td>-0.28</td>\n      <td>6121.876572</td>\n      <td>3.1</td>\n      <td>92.7</td>\n    </tr>\n    <tr>\n      <th>2</th>\n      <td>Albanie</td>\n      <td>2884169</td>\n      <td>-0.004211</td>\n      <td>13.18</td>\n      <td>16.30</td>\n      <td>47.15</td>\n      <td>0.00</td>\n      <td>4.51</td>\n      <td>34.57</td>\n      <td>0.38</td>\n      <td>4514.204908</td>\n      <td>0.1</td>\n      <td>94.1</td>\n    </tr>\n    <tr>\n      <th>3</th>\n      <td>Algérie</td>\n      <td>41389189</td>\n      <td>0.017370</td>\n      <td>0.05</td>\n      <td>6.38</td>\n      <td>18.07</td>\n      <td>0.00</td>\n      <td>6.64</td>\n      <td>35.31</td>\n      <td>-0.92</td>\n      <td>4109.696001</td>\n      <td>1.1</td>\n      <td>93.8</td>\n    </tr>\n    <tr>\n      <th>4</th>\n      <td>Allemagne</td>\n      <td>82658409</td>\n      <td>0.000972</td>\n      <td>10.19</td>\n      <td>19.47</td>\n      <td>87.77</td>\n      <td>7.82</td>\n      <td>18.32</td>\n      <td>22.18</td>\n      <td>0.59</td>\n      <td>44651.829102</td>\n      <td>0</td>\n      <td>99</td>\n    </tr>\n  </tbody>\n</table>\n</div>"
     },
     "execution_count": 300,
     "metadata": {},
     "output_type": "execute_result"
    }
   ],
   "source": [
    "df_final = pd.merge(df_final, df_water_service,  on='Zone', how='left')\n",
    "df_final.head()"
   ],
   "metadata": {
    "collapsed": false
   }
  },
  {
   "cell_type": "markdown",
   "source": [
    "## Production poulets"
   ],
   "metadata": {
    "collapsed": false
   }
  },
  {
   "cell_type": "markdown",
   "source": [
    "Trop de null ici sa saute !"
   ],
   "metadata": {
    "collapsed": false
   }
  },
  {
   "cell_type": "code",
   "execution_count": 301,
   "outputs": [],
   "source": [
    "## Pas garder pour cause de trop de NaN\n",
    "\n",
    "# df_prod_poulet = pd.read_csv(\"Prix_a_la_production.csv\")\n",
    "\n",
    "# df_prod_poulet = df_prod_poulet[df_prod_poulet['Élément'] == 'Prix à la Production (USD/tonne)'].copy()\n",
    "# df_prod_poulet = df_prod_poulet.loc[:, ['Zone','Élément', 'Valeur']]\n",
    "# df_prod_poulet = df_prod_poulet.pivot_table(index=['Zone'], columns='Élément', values='Valeur', aggfunc=sum).reset_index()\n",
    "# df_prod_poulet = df_prod_poulet.rename(columns={\n",
    "#     'Prix à la Production (USD/tonne)':'Prix à la Production (USD/tonne) poulet'})\n",
    "\n",
    "# df_final = pd.merge(df_final, df_prod_poulet,  on='Zone', how='left')\n",
    "# df_final.head()"
   ],
   "metadata": {
    "collapsed": false
   }
  },
  {
   "cell_type": "code",
   "execution_count": 302,
   "outputs": [
    {
     "name": "stdout",
     "output_type": "stream",
     "text": [
      "172\n",
      "Zone                                                                  0\n",
      "Valeur Pop 2017                                                       0\n",
      "Taux évolution population                                             0\n",
      "Importation (kg/pers)                                                 0\n",
      "Nourriture Volaille (kg/pers)                                         0\n",
      "Viande Total (kg/pers)                                                2\n",
      "Exportation (kg/pers)                                                 0\n",
      "Production (kg/pers)                                                  0\n",
      "Nourriture Volaille/Total (%)                                         2\n",
      "Stabilité politique et absence de violence/terrorisme (indice)        3\n",
      "PIB (Valeur us$/Habitant)                                             1\n",
      "Nombre de personnes sous-alimentées (millions) (moyenne sur 3 ans)    0\n",
      "% population utilisant au moins les services d'eau de base            4\n",
      "dtype: int64\n"
     ]
    }
   ],
   "source": [
    "print(df_final['Zone'].nunique())\n",
    "print(df_final.isna().sum())"
   ],
   "metadata": {
    "collapsed": false
   }
  },
  {
   "cell_type": "code",
   "execution_count": 303,
   "outputs": [
    {
     "data": {
      "text/plain": "(172, 13)"
     },
     "execution_count": 303,
     "metadata": {},
     "output_type": "execute_result"
    }
   ],
   "source": [
    "df_final.shape"
   ],
   "metadata": {
    "collapsed": false
   }
  },
  {
   "cell_type": "markdown",
   "source": [
    "# Nettoyage"
   ],
   "metadata": {
    "collapsed": false
   }
  },
  {
   "cell_type": "markdown",
   "source": [
    "ici je décide de ne pas supprimer mes ligne NaN.\n",
    "j'ai soit retrouvé les valeurs manquantes, soit remplacé par la médiane."
   ],
   "metadata": {
    "collapsed": false
   }
  },
  {
   "cell_type": "code",
   "execution_count": 304,
   "outputs": [
    {
     "data": {
      "text/plain": "                                      Zone  Valeur Pop 2017  \\\n8                                Argentine         43937140   \n33               Chine, Taiwan Province de         23674546   \n34                     Chine, continentale       1421021791   \n39                                 Croatie          4182857   \n108                     Nouvelle-Calédonie           277150   \n113                            Ouzbékistan         31959785   \n120                    Polynésie française           276102   \n130  République démocratique populaire lao          6953035   \n\n     Taux évolution population  Importation (kg/pers)  \\\n8                     0.010328                   0.18   \n33                    0.003714                   6.80   \n34                    0.005616                   0.32   \n39                   -0.003481                   5.74   \n108                   0.013912                  32.47   \n113                   0.015872                   0.00   \n120                   0.005561                  54.33   \n130                   0.015658                   0.00   \n\n     Nourriture Volaille (kg/pers)  Viande Total (kg/pers)  \\\n8                            42.24                  109.36   \n33                           33.16                   77.55   \n34                           12.33                   59.90   \n39                           10.76                   75.31   \n108                          39.69                   72.16   \n113                           0.00                     NaN   \n120                          47.08                   94.17   \n130                           0.00                     NaN   \n\n     Exportation (kg/pers)  Production (kg/pers)  \\\n8                     4.71                 49.18   \n33                    0.34                 27.54   \n34                    0.41                 12.83   \n39                    4.06                 14.58   \n108                   0.00                  3.61   \n113                   0.00                  0.00   \n120                   0.00                  3.62   \n130                   0.00                  0.00   \n\n     Nourriture Volaille/Total (%)  \\\n8                            38.62   \n33                           42.76   \n34                           20.58   \n39                           14.29   \n108                          55.00   \n113                            NaN   \n120                          49.99   \n130                            NaN   \n\n     Stabilité politique et absence de violence/terrorisme (indice)  \\\n8                                                 0.17                \n33                                                0.86                \n34                                                 NaN                \n39                                                0.69                \n108                                                NaN                \n113                                              -0.24                \n120                                                NaN                \n130                                               0.40                \n\n     PIB (Valeur us$/Habitant)  \\\n8                 14648.845969   \n33                         NaN   \n34                 8663.126784   \n39                13439.243178   \n108               33101.384336   \n113                1851.074677   \n120               21127.527814   \n130                2455.211675   \n\n    Nombre de personnes sous-alimentées (millions) (moyenne sur 3 ans)  \\\n8                                                  1.4                   \n33                                                 0.9                   \n34                                                   0                   \n39                                                   0                   \n108                                               <0.1                   \n113                                                  0                   \n120                                               <0.1                   \n130                                                0.4                   \n\n    % population utilisant au moins les services d'eau de base  \n8                                                  NaN          \n33                                                 NaN          \n34                                                 NaN          \n39                                                 NaN          \n108                                               98.6          \n113                                               97.8          \n120                                                 99          \n130                                               81.5          ",
      "text/html": "<div>\n<style scoped>\n    .dataframe tbody tr th:only-of-type {\n        vertical-align: middle;\n    }\n\n    .dataframe tbody tr th {\n        vertical-align: top;\n    }\n\n    .dataframe thead th {\n        text-align: right;\n    }\n</style>\n<table border=\"1\" class=\"dataframe\">\n  <thead>\n    <tr style=\"text-align: right;\">\n      <th></th>\n      <th>Zone</th>\n      <th>Valeur Pop 2017</th>\n      <th>Taux évolution population</th>\n      <th>Importation (kg/pers)</th>\n      <th>Nourriture Volaille (kg/pers)</th>\n      <th>Viande Total (kg/pers)</th>\n      <th>Exportation (kg/pers)</th>\n      <th>Production (kg/pers)</th>\n      <th>Nourriture Volaille/Total (%)</th>\n      <th>Stabilité politique et absence de violence/terrorisme (indice)</th>\n      <th>PIB (Valeur us$/Habitant)</th>\n      <th>Nombre de personnes sous-alimentées (millions) (moyenne sur 3 ans)</th>\n      <th>% population utilisant au moins les services d'eau de base</th>\n    </tr>\n  </thead>\n  <tbody>\n    <tr>\n      <th>8</th>\n      <td>Argentine</td>\n      <td>43937140</td>\n      <td>0.010328</td>\n      <td>0.18</td>\n      <td>42.24</td>\n      <td>109.36</td>\n      <td>4.71</td>\n      <td>49.18</td>\n      <td>38.62</td>\n      <td>0.17</td>\n      <td>14648.845969</td>\n      <td>1.4</td>\n      <td>NaN</td>\n    </tr>\n    <tr>\n      <th>33</th>\n      <td>Chine, Taiwan Province de</td>\n      <td>23674546</td>\n      <td>0.003714</td>\n      <td>6.80</td>\n      <td>33.16</td>\n      <td>77.55</td>\n      <td>0.34</td>\n      <td>27.54</td>\n      <td>42.76</td>\n      <td>0.86</td>\n      <td>NaN</td>\n      <td>0.9</td>\n      <td>NaN</td>\n    </tr>\n    <tr>\n      <th>34</th>\n      <td>Chine, continentale</td>\n      <td>1421021791</td>\n      <td>0.005616</td>\n      <td>0.32</td>\n      <td>12.33</td>\n      <td>59.90</td>\n      <td>0.41</td>\n      <td>12.83</td>\n      <td>20.58</td>\n      <td>NaN</td>\n      <td>8663.126784</td>\n      <td>0</td>\n      <td>NaN</td>\n    </tr>\n    <tr>\n      <th>39</th>\n      <td>Croatie</td>\n      <td>4182857</td>\n      <td>-0.003481</td>\n      <td>5.74</td>\n      <td>10.76</td>\n      <td>75.31</td>\n      <td>4.06</td>\n      <td>14.58</td>\n      <td>14.29</td>\n      <td>0.69</td>\n      <td>13439.243178</td>\n      <td>0</td>\n      <td>NaN</td>\n    </tr>\n    <tr>\n      <th>108</th>\n      <td>Nouvelle-Calédonie</td>\n      <td>277150</td>\n      <td>0.013912</td>\n      <td>32.47</td>\n      <td>39.69</td>\n      <td>72.16</td>\n      <td>0.00</td>\n      <td>3.61</td>\n      <td>55.00</td>\n      <td>NaN</td>\n      <td>33101.384336</td>\n      <td>&lt;0.1</td>\n      <td>98.6</td>\n    </tr>\n    <tr>\n      <th>113</th>\n      <td>Ouzbékistan</td>\n      <td>31959785</td>\n      <td>0.015872</td>\n      <td>0.00</td>\n      <td>0.00</td>\n      <td>NaN</td>\n      <td>0.00</td>\n      <td>0.00</td>\n      <td>NaN</td>\n      <td>-0.24</td>\n      <td>1851.074677</td>\n      <td>0</td>\n      <td>97.8</td>\n    </tr>\n    <tr>\n      <th>120</th>\n      <td>Polynésie française</td>\n      <td>276102</td>\n      <td>0.005561</td>\n      <td>54.33</td>\n      <td>47.08</td>\n      <td>94.17</td>\n      <td>0.00</td>\n      <td>3.62</td>\n      <td>49.99</td>\n      <td>NaN</td>\n      <td>21127.527814</td>\n      <td>&lt;0.1</td>\n      <td>99</td>\n    </tr>\n    <tr>\n      <th>130</th>\n      <td>République démocratique populaire lao</td>\n      <td>6953035</td>\n      <td>0.015658</td>\n      <td>0.00</td>\n      <td>0.00</td>\n      <td>NaN</td>\n      <td>0.00</td>\n      <td>0.00</td>\n      <td>NaN</td>\n      <td>0.40</td>\n      <td>2455.211675</td>\n      <td>0.4</td>\n      <td>81.5</td>\n    </tr>\n  </tbody>\n</table>\n</div>"
     },
     "execution_count": 304,
     "metadata": {},
     "output_type": "execute_result"
    }
   ],
   "source": [
    "# ici je check mes null\n",
    "df_final[df_final.isna().any(axis=1)]"
   ],
   "metadata": {
    "collapsed": false
   }
  },
  {
   "cell_type": "code",
   "execution_count": 305,
   "outputs": [
    {
     "data": {
      "text/plain": "                          Zone  Valeur Pop 2017  Taux évolution population  \\\n8                    Argentine         43937140                   0.010328   \n33   Chine, Taiwan Province de         23674546                   0.003714   \n34         Chine, continentale       1421021791                   0.005616   \n39                     Croatie          4182857                  -0.003481   \n108         Nouvelle-Calédonie           277150                   0.013912   \n120        Polynésie française           276102                   0.005561   \n\n     Importation (kg/pers)  Nourriture Volaille (kg/pers)  \\\n8                     0.18                          42.24   \n33                    6.80                          33.16   \n34                    0.32                          12.33   \n39                    5.74                          10.76   \n108                  32.47                          39.69   \n120                  54.33                          47.08   \n\n     Viande Total (kg/pers)  Exportation (kg/pers)  Production (kg/pers)  \\\n8                    109.36                   4.71                 49.18   \n33                    77.55                   0.34                 27.54   \n34                    59.90                   0.41                 12.83   \n39                    75.31                   4.06                 14.58   \n108                   72.16                   0.00                  3.61   \n120                   94.17                   0.00                  3.62   \n\n     Nourriture Volaille/Total (%)  \\\n8                            38.62   \n33                           42.76   \n34                           20.58   \n39                           14.29   \n108                          55.00   \n120                          49.99   \n\n     Stabilité politique et absence de violence/terrorisme (indice)  \\\n8                                                 0.17                \n33                                                0.86                \n34                                                 NaN                \n39                                                0.69                \n108                                                NaN                \n120                                                NaN                \n\n     PIB (Valeur us$/Habitant)  \\\n8                 14648.845969   \n33                         NaN   \n34                 8663.126784   \n39                13439.243178   \n108               33101.384336   \n120               21127.527814   \n\n    Nombre de personnes sous-alimentées (millions) (moyenne sur 3 ans)  \\\n8                                                  1.4                   \n33                                                 0.9                   \n34                                                   0                   \n39                                                   0                   \n108                                               <0.1                   \n120                                               <0.1                   \n\n    % population utilisant au moins les services d'eau de base  \n8                                                  NaN          \n33                                                 NaN          \n34                                                 NaN          \n39                                                 NaN          \n108                                               98.6          \n120                                                 99          ",
      "text/html": "<div>\n<style scoped>\n    .dataframe tbody tr th:only-of-type {\n        vertical-align: middle;\n    }\n\n    .dataframe tbody tr th {\n        vertical-align: top;\n    }\n\n    .dataframe thead th {\n        text-align: right;\n    }\n</style>\n<table border=\"1\" class=\"dataframe\">\n  <thead>\n    <tr style=\"text-align: right;\">\n      <th></th>\n      <th>Zone</th>\n      <th>Valeur Pop 2017</th>\n      <th>Taux évolution population</th>\n      <th>Importation (kg/pers)</th>\n      <th>Nourriture Volaille (kg/pers)</th>\n      <th>Viande Total (kg/pers)</th>\n      <th>Exportation (kg/pers)</th>\n      <th>Production (kg/pers)</th>\n      <th>Nourriture Volaille/Total (%)</th>\n      <th>Stabilité politique et absence de violence/terrorisme (indice)</th>\n      <th>PIB (Valeur us$/Habitant)</th>\n      <th>Nombre de personnes sous-alimentées (millions) (moyenne sur 3 ans)</th>\n      <th>% population utilisant au moins les services d'eau de base</th>\n    </tr>\n  </thead>\n  <tbody>\n    <tr>\n      <th>8</th>\n      <td>Argentine</td>\n      <td>43937140</td>\n      <td>0.010328</td>\n      <td>0.18</td>\n      <td>42.24</td>\n      <td>109.36</td>\n      <td>4.71</td>\n      <td>49.18</td>\n      <td>38.62</td>\n      <td>0.17</td>\n      <td>14648.845969</td>\n      <td>1.4</td>\n      <td>NaN</td>\n    </tr>\n    <tr>\n      <th>33</th>\n      <td>Chine, Taiwan Province de</td>\n      <td>23674546</td>\n      <td>0.003714</td>\n      <td>6.80</td>\n      <td>33.16</td>\n      <td>77.55</td>\n      <td>0.34</td>\n      <td>27.54</td>\n      <td>42.76</td>\n      <td>0.86</td>\n      <td>NaN</td>\n      <td>0.9</td>\n      <td>NaN</td>\n    </tr>\n    <tr>\n      <th>34</th>\n      <td>Chine, continentale</td>\n      <td>1421021791</td>\n      <td>0.005616</td>\n      <td>0.32</td>\n      <td>12.33</td>\n      <td>59.90</td>\n      <td>0.41</td>\n      <td>12.83</td>\n      <td>20.58</td>\n      <td>NaN</td>\n      <td>8663.126784</td>\n      <td>0</td>\n      <td>NaN</td>\n    </tr>\n    <tr>\n      <th>39</th>\n      <td>Croatie</td>\n      <td>4182857</td>\n      <td>-0.003481</td>\n      <td>5.74</td>\n      <td>10.76</td>\n      <td>75.31</td>\n      <td>4.06</td>\n      <td>14.58</td>\n      <td>14.29</td>\n      <td>0.69</td>\n      <td>13439.243178</td>\n      <td>0</td>\n      <td>NaN</td>\n    </tr>\n    <tr>\n      <th>108</th>\n      <td>Nouvelle-Calédonie</td>\n      <td>277150</td>\n      <td>0.013912</td>\n      <td>32.47</td>\n      <td>39.69</td>\n      <td>72.16</td>\n      <td>0.00</td>\n      <td>3.61</td>\n      <td>55.00</td>\n      <td>NaN</td>\n      <td>33101.384336</td>\n      <td>&lt;0.1</td>\n      <td>98.6</td>\n    </tr>\n    <tr>\n      <th>120</th>\n      <td>Polynésie française</td>\n      <td>276102</td>\n      <td>0.005561</td>\n      <td>54.33</td>\n      <td>47.08</td>\n      <td>94.17</td>\n      <td>0.00</td>\n      <td>3.62</td>\n      <td>49.99</td>\n      <td>NaN</td>\n      <td>21127.527814</td>\n      <td>&lt;0.1</td>\n      <td>99</td>\n    </tr>\n  </tbody>\n</table>\n</div>"
     },
     "execution_count": 305,
     "metadata": {},
     "output_type": "execute_result"
    }
   ],
   "source": [
    "# sur les 2 col si dessous je remplace la valeur par 0 car c'est col ont était créer suite a mes calcule\n",
    "df_final.fillna({'Viande Total (kg/pers)': 0, 'Nourriture Volaille/Total (%)': 0,}, inplace=True)\n",
    "df_final[df_final.isna().any(axis=1)]"
   ],
   "metadata": {
    "collapsed": false
   }
  },
  {
   "cell_type": "markdown",
   "source": [
    "## Chine null"
   ],
   "metadata": {
    "collapsed": false
   }
  },
  {
   "cell_type": "code",
   "execution_count": 306,
   "outputs": [],
   "source": [
    "# https://www.theglobaleconomy.com/china/wb_political_stability/ political stability mis a jour\n",
    "df_final.loc[df_final['Zone']=='Chine, continentale', ['Stabilité politique et absence de violence/terrorisme (indice)']] = -0.27\n",
    "df_final.loc[df_final['Zone']=='Chine, continentale', ['% population utilisant au moins les services d\\'eau de base']] = 94.70"
   ],
   "metadata": {
    "collapsed": false
   }
  },
  {
   "cell_type": "markdown",
   "source": [
    "## Argentine null"
   ],
   "metadata": {
    "collapsed": false
   }
  },
  {
   "cell_type": "code",
   "execution_count": 307,
   "outputs": [],
   "source": [
    "# n'ayant pas trouver et pour une colonne si peux importante j'impute la médiane comme valeur\n",
    "df_final.loc[df_final['Zone']=='Argentine', ['% population utilisant au moins les services d\\'eau de base']] = df_final['% population utilisant au moins les services d\\'eau de base'].median()"
   ],
   "metadata": {
    "collapsed": false
   }
  },
  {
   "cell_type": "code",
   "execution_count": 308,
   "outputs": [
    {
     "data": {
      "text/plain": "        Zone  Valeur Pop 2017  Taux évolution population  \\\n8  Argentine         43937140                   0.010328   \n\n   Importation (kg/pers)  Nourriture Volaille (kg/pers)  \\\n8                   0.18                          42.24   \n\n   Viande Total (kg/pers)  Exportation (kg/pers)  Production (kg/pers)  \\\n8                  109.36                   4.71                 49.18   \n\n   Nourriture Volaille/Total (%)  \\\n8                          38.62   \n\n   Stabilité politique et absence de violence/terrorisme (indice)  \\\n8                                               0.17                \n\n   PIB (Valeur us$/Habitant)  \\\n8               14648.845969   \n\n  Nombre de personnes sous-alimentées (millions) (moyenne sur 3 ans)  \\\n8                                                1.4                   \n\n  % population utilisant au moins les services d'eau de base  \n8                                               95.4          ",
      "text/html": "<div>\n<style scoped>\n    .dataframe tbody tr th:only-of-type {\n        vertical-align: middle;\n    }\n\n    .dataframe tbody tr th {\n        vertical-align: top;\n    }\n\n    .dataframe thead th {\n        text-align: right;\n    }\n</style>\n<table border=\"1\" class=\"dataframe\">\n  <thead>\n    <tr style=\"text-align: right;\">\n      <th></th>\n      <th>Zone</th>\n      <th>Valeur Pop 2017</th>\n      <th>Taux évolution population</th>\n      <th>Importation (kg/pers)</th>\n      <th>Nourriture Volaille (kg/pers)</th>\n      <th>Viande Total (kg/pers)</th>\n      <th>Exportation (kg/pers)</th>\n      <th>Production (kg/pers)</th>\n      <th>Nourriture Volaille/Total (%)</th>\n      <th>Stabilité politique et absence de violence/terrorisme (indice)</th>\n      <th>PIB (Valeur us$/Habitant)</th>\n      <th>Nombre de personnes sous-alimentées (millions) (moyenne sur 3 ans)</th>\n      <th>% population utilisant au moins les services d'eau de base</th>\n    </tr>\n  </thead>\n  <tbody>\n    <tr>\n      <th>8</th>\n      <td>Argentine</td>\n      <td>43937140</td>\n      <td>0.010328</td>\n      <td>0.18</td>\n      <td>42.24</td>\n      <td>109.36</td>\n      <td>4.71</td>\n      <td>49.18</td>\n      <td>38.62</td>\n      <td>0.17</td>\n      <td>14648.845969</td>\n      <td>1.4</td>\n      <td>95.4</td>\n    </tr>\n  </tbody>\n</table>\n</div>"
     },
     "execution_count": 308,
     "metadata": {},
     "output_type": "execute_result"
    }
   ],
   "source": [
    "df_final.loc[df_final['Zone']=='Argentine']"
   ],
   "metadata": {
    "collapsed": false
   }
  },
  {
   "cell_type": "markdown",
   "source": [
    "## Taiwan null"
   ],
   "metadata": {
    "collapsed": false
   }
  },
  {
   "cell_type": "code",
   "execution_count": 309,
   "outputs": [
    {
     "data": {
      "text/plain": "                         Zone  Valeur Pop 2017  Taux évolution population  \\\n33  Chine, Taiwan Province de         23674546                   0.003714   \n\n    Importation (kg/pers)  Nourriture Volaille (kg/pers)  \\\n33                    6.8                          33.16   \n\n    Viande Total (kg/pers)  Exportation (kg/pers)  Production (kg/pers)  \\\n33                   77.55                   0.34                 27.54   \n\n    Nourriture Volaille/Total (%)  \\\n33                          42.76   \n\n    Stabilité politique et absence de violence/terrorisme (indice)  \\\n33                                               0.86                \n\n    PIB (Valeur us$/Habitant)  \\\n33                6101.130428   \n\n   Nombre de personnes sous-alimentées (millions) (moyenne sur 3 ans)  \\\n33                                                0.9                   \n\n   % population utilisant au moins les services d'eau de base  \n33                                               95.4          ",
      "text/html": "<div>\n<style scoped>\n    .dataframe tbody tr th:only-of-type {\n        vertical-align: middle;\n    }\n\n    .dataframe tbody tr th {\n        vertical-align: top;\n    }\n\n    .dataframe thead th {\n        text-align: right;\n    }\n</style>\n<table border=\"1\" class=\"dataframe\">\n  <thead>\n    <tr style=\"text-align: right;\">\n      <th></th>\n      <th>Zone</th>\n      <th>Valeur Pop 2017</th>\n      <th>Taux évolution population</th>\n      <th>Importation (kg/pers)</th>\n      <th>Nourriture Volaille (kg/pers)</th>\n      <th>Viande Total (kg/pers)</th>\n      <th>Exportation (kg/pers)</th>\n      <th>Production (kg/pers)</th>\n      <th>Nourriture Volaille/Total (%)</th>\n      <th>Stabilité politique et absence de violence/terrorisme (indice)</th>\n      <th>PIB (Valeur us$/Habitant)</th>\n      <th>Nombre de personnes sous-alimentées (millions) (moyenne sur 3 ans)</th>\n      <th>% population utilisant au moins les services d'eau de base</th>\n    </tr>\n  </thead>\n  <tbody>\n    <tr>\n      <th>33</th>\n      <td>Chine, Taiwan Province de</td>\n      <td>23674546</td>\n      <td>0.003714</td>\n      <td>6.8</td>\n      <td>33.16</td>\n      <td>77.55</td>\n      <td>0.34</td>\n      <td>27.54</td>\n      <td>42.76</td>\n      <td>0.86</td>\n      <td>6101.130428</td>\n      <td>0.9</td>\n      <td>95.4</td>\n    </tr>\n  </tbody>\n</table>\n</div>"
     },
     "execution_count": 309,
     "metadata": {},
     "output_type": "execute_result"
    }
   ],
   "source": [
    "# ici je garde la mediane sur pib car de ce que j'ai vu c'est pas si loins que ca. (2022 pib = 5k6)\n",
    "df_final.loc[df_final['Zone']=='Chine, Taiwan Province de', ['PIB (Valeur us$/Habitant)']] = df_final['PIB (Valeur us$/Habitant)'].median()\n",
    "df_final.loc[df_final['Zone']=='Chine, Taiwan Province de', ['% population utilisant au moins les services d\\'eau de base']] = df_final['% population utilisant au moins les services d\\'eau de base'].median()\n",
    "df_final.loc[df_final['Zone']=='Chine, Taiwan Province de']"
   ],
   "metadata": {
    "collapsed": false
   }
  },
  {
   "cell_type": "markdown",
   "source": [
    "## Croatie Null"
   ],
   "metadata": {
    "collapsed": false
   }
  },
  {
   "cell_type": "code",
   "execution_count": 310,
   "outputs": [
    {
     "data": {
      "text/plain": "       Zone  Valeur Pop 2017  Taux évolution population  \\\n39  Croatie          4182857                  -0.003481   \n\n    Importation (kg/pers)  Nourriture Volaille (kg/pers)  \\\n39                   5.74                          10.76   \n\n    Viande Total (kg/pers)  Exportation (kg/pers)  Production (kg/pers)  \\\n39                   75.31                   4.06                 14.58   \n\n    Nourriture Volaille/Total (%)  \\\n39                          14.29   \n\n    Stabilité politique et absence de violence/terrorisme (indice)  \\\n39                                               0.69                \n\n    PIB (Valeur us$/Habitant)  \\\n39               13439.243178   \n\n   Nombre de personnes sous-alimentées (millions) (moyenne sur 3 ans)  \\\n39                                                  0                   \n\n   % population utilisant au moins les services d'eau de base  \n39                                               93.5          ",
      "text/html": "<div>\n<style scoped>\n    .dataframe tbody tr th:only-of-type {\n        vertical-align: middle;\n    }\n\n    .dataframe tbody tr th {\n        vertical-align: top;\n    }\n\n    .dataframe thead th {\n        text-align: right;\n    }\n</style>\n<table border=\"1\" class=\"dataframe\">\n  <thead>\n    <tr style=\"text-align: right;\">\n      <th></th>\n      <th>Zone</th>\n      <th>Valeur Pop 2017</th>\n      <th>Taux évolution population</th>\n      <th>Importation (kg/pers)</th>\n      <th>Nourriture Volaille (kg/pers)</th>\n      <th>Viande Total (kg/pers)</th>\n      <th>Exportation (kg/pers)</th>\n      <th>Production (kg/pers)</th>\n      <th>Nourriture Volaille/Total (%)</th>\n      <th>Stabilité politique et absence de violence/terrorisme (indice)</th>\n      <th>PIB (Valeur us$/Habitant)</th>\n      <th>Nombre de personnes sous-alimentées (millions) (moyenne sur 3 ans)</th>\n      <th>% population utilisant au moins les services d'eau de base</th>\n    </tr>\n  </thead>\n  <tbody>\n    <tr>\n      <th>39</th>\n      <td>Croatie</td>\n      <td>4182857</td>\n      <td>-0.003481</td>\n      <td>5.74</td>\n      <td>10.76</td>\n      <td>75.31</td>\n      <td>4.06</td>\n      <td>14.58</td>\n      <td>14.29</td>\n      <td>0.69</td>\n      <td>13439.243178</td>\n      <td>0</td>\n      <td>93.5</td>\n    </tr>\n  </tbody>\n</table>\n</div>"
     },
     "execution_count": 310,
     "metadata": {},
     "output_type": "execute_result"
    }
   ],
   "source": [
    "df_final.loc[df_final['Zone']=='Croatie', ['% population utilisant au moins les services d\\'eau de base']] = 93.50\n",
    "df_final.loc[df_final['Zone']=='Croatie']"
   ],
   "metadata": {
    "collapsed": false
   }
  },
  {
   "cell_type": "markdown",
   "source": [],
   "metadata": {
    "collapsed": false
   }
  },
  {
   "cell_type": "markdown",
   "source": [
    "## Polynésie fr et Nouvelle-Calédonie"
   ],
   "metadata": {
    "collapsed": false
   }
  },
  {
   "cell_type": "code",
   "execution_count": 311,
   "outputs": [
    {
     "data": {
      "text/plain": "                   Zone  Valeur Pop 2017  Taux évolution population  \\\n108  Nouvelle-Calédonie           277150                   0.013912   \n\n     Importation (kg/pers)  Nourriture Volaille (kg/pers)  \\\n108                  32.47                          39.69   \n\n     Viande Total (kg/pers)  Exportation (kg/pers)  Production (kg/pers)  \\\n108                   72.16                    0.0                  3.61   \n\n     Nourriture Volaille/Total (%)  \\\n108                           55.0   \n\n     Stabilité politique et absence de violence/terrorisme (indice)  \\\n108                                               0.28                \n\n     PIB (Valeur us$/Habitant)  \\\n108               33101.384336   \n\n    Nombre de personnes sous-alimentées (millions) (moyenne sur 3 ans)  \\\n108                                               <0.1                   \n\n    % population utilisant au moins les services d'eau de base  \n108                                               98.6          ",
      "text/html": "<div>\n<style scoped>\n    .dataframe tbody tr th:only-of-type {\n        vertical-align: middle;\n    }\n\n    .dataframe tbody tr th {\n        vertical-align: top;\n    }\n\n    .dataframe thead th {\n        text-align: right;\n    }\n</style>\n<table border=\"1\" class=\"dataframe\">\n  <thead>\n    <tr style=\"text-align: right;\">\n      <th></th>\n      <th>Zone</th>\n      <th>Valeur Pop 2017</th>\n      <th>Taux évolution population</th>\n      <th>Importation (kg/pers)</th>\n      <th>Nourriture Volaille (kg/pers)</th>\n      <th>Viande Total (kg/pers)</th>\n      <th>Exportation (kg/pers)</th>\n      <th>Production (kg/pers)</th>\n      <th>Nourriture Volaille/Total (%)</th>\n      <th>Stabilité politique et absence de violence/terrorisme (indice)</th>\n      <th>PIB (Valeur us$/Habitant)</th>\n      <th>Nombre de personnes sous-alimentées (millions) (moyenne sur 3 ans)</th>\n      <th>% population utilisant au moins les services d'eau de base</th>\n    </tr>\n  </thead>\n  <tbody>\n    <tr>\n      <th>108</th>\n      <td>Nouvelle-Calédonie</td>\n      <td>277150</td>\n      <td>0.013912</td>\n      <td>32.47</td>\n      <td>39.69</td>\n      <td>72.16</td>\n      <td>0.0</td>\n      <td>3.61</td>\n      <td>55.0</td>\n      <td>0.28</td>\n      <td>33101.384336</td>\n      <td>&lt;0.1</td>\n      <td>98.6</td>\n    </tr>\n  </tbody>\n</table>\n</div>"
     },
     "execution_count": 311,
     "metadata": {},
     "output_type": "execute_result"
    }
   ],
   "source": [
    "# pour la polynésie francaise et la nouvelle calédonie j'impute a la stabilité politique la valeur de la france car je n'ai pas pu trouver\n",
    "df_final.fillna(0.28, inplace=True)\n",
    "df_final.loc[df_final['Zone']=='Nouvelle-Calédonie']"
   ],
   "metadata": {
    "collapsed": false
   }
  },
  {
   "cell_type": "code",
   "execution_count": 312,
   "outputs": [
    {
     "data": {
      "text/plain": "                    Zone  Valeur Pop 2017  Taux évolution population  \\\n120  Polynésie française           276102                   0.005561   \n\n     Importation (kg/pers)  Nourriture Volaille (kg/pers)  \\\n120                  54.33                          47.08   \n\n     Viande Total (kg/pers)  Exportation (kg/pers)  Production (kg/pers)  \\\n120                   94.17                    0.0                  3.62   \n\n     Nourriture Volaille/Total (%)  \\\n120                          49.99   \n\n     Stabilité politique et absence de violence/terrorisme (indice)  \\\n120                                               0.28                \n\n     PIB (Valeur us$/Habitant)  \\\n120               21127.527814   \n\n    Nombre de personnes sous-alimentées (millions) (moyenne sur 3 ans)  \\\n120                                               <0.1                   \n\n    % population utilisant au moins les services d'eau de base  \n120                                                 99          ",
      "text/html": "<div>\n<style scoped>\n    .dataframe tbody tr th:only-of-type {\n        vertical-align: middle;\n    }\n\n    .dataframe tbody tr th {\n        vertical-align: top;\n    }\n\n    .dataframe thead th {\n        text-align: right;\n    }\n</style>\n<table border=\"1\" class=\"dataframe\">\n  <thead>\n    <tr style=\"text-align: right;\">\n      <th></th>\n      <th>Zone</th>\n      <th>Valeur Pop 2017</th>\n      <th>Taux évolution population</th>\n      <th>Importation (kg/pers)</th>\n      <th>Nourriture Volaille (kg/pers)</th>\n      <th>Viande Total (kg/pers)</th>\n      <th>Exportation (kg/pers)</th>\n      <th>Production (kg/pers)</th>\n      <th>Nourriture Volaille/Total (%)</th>\n      <th>Stabilité politique et absence de violence/terrorisme (indice)</th>\n      <th>PIB (Valeur us$/Habitant)</th>\n      <th>Nombre de personnes sous-alimentées (millions) (moyenne sur 3 ans)</th>\n      <th>% population utilisant au moins les services d'eau de base</th>\n    </tr>\n  </thead>\n  <tbody>\n    <tr>\n      <th>120</th>\n      <td>Polynésie française</td>\n      <td>276102</td>\n      <td>0.005561</td>\n      <td>54.33</td>\n      <td>47.08</td>\n      <td>94.17</td>\n      <td>0.0</td>\n      <td>3.62</td>\n      <td>49.99</td>\n      <td>0.28</td>\n      <td>21127.527814</td>\n      <td>&lt;0.1</td>\n      <td>99</td>\n    </tr>\n  </tbody>\n</table>\n</div>"
     },
     "execution_count": 312,
     "metadata": {},
     "output_type": "execute_result"
    }
   ],
   "source": [
    "df_final.loc[df_final['Zone']=='Polynésie française']"
   ],
   "metadata": {
    "collapsed": false
   }
  },
  {
   "cell_type": "code",
   "execution_count": 313,
   "outputs": [
    {
     "data": {
      "text/plain": "Empty DataFrame\nColumns: [Zone, Valeur Pop 2017, Taux évolution population, Importation (kg/pers), Nourriture Volaille (kg/pers), Viande Total (kg/pers), Exportation (kg/pers), Production (kg/pers), Nourriture Volaille/Total (%), Stabilité politique et absence de violence/terrorisme (indice), PIB (Valeur us$/Habitant), Nombre de personnes sous-alimentées (millions) (moyenne sur 3 ans), % population utilisant au moins les services d'eau de base]\nIndex: []",
      "text/html": "<div>\n<style scoped>\n    .dataframe tbody tr th:only-of-type {\n        vertical-align: middle;\n    }\n\n    .dataframe tbody tr th {\n        vertical-align: top;\n    }\n\n    .dataframe thead th {\n        text-align: right;\n    }\n</style>\n<table border=\"1\" class=\"dataframe\">\n  <thead>\n    <tr style=\"text-align: right;\">\n      <th></th>\n      <th>Zone</th>\n      <th>Valeur Pop 2017</th>\n      <th>Taux évolution population</th>\n      <th>Importation (kg/pers)</th>\n      <th>Nourriture Volaille (kg/pers)</th>\n      <th>Viande Total (kg/pers)</th>\n      <th>Exportation (kg/pers)</th>\n      <th>Production (kg/pers)</th>\n      <th>Nourriture Volaille/Total (%)</th>\n      <th>Stabilité politique et absence de violence/terrorisme (indice)</th>\n      <th>PIB (Valeur us$/Habitant)</th>\n      <th>Nombre de personnes sous-alimentées (millions) (moyenne sur 3 ans)</th>\n      <th>% population utilisant au moins les services d'eau de base</th>\n    </tr>\n  </thead>\n  <tbody>\n  </tbody>\n</table>\n</div>"
     },
     "execution_count": 313,
     "metadata": {},
     "output_type": "execute_result"
    }
   ],
   "source": [
    "df_final[df_final.isna().any(axis=1)]"
   ],
   "metadata": {
    "collapsed": false
   }
  },
  {
   "cell_type": "markdown",
   "source": [
    "## les <0.1 dans les ligne"
   ],
   "metadata": {
    "collapsed": false
   }
  },
  {
   "cell_type": "code",
   "execution_count": 314,
   "outputs": [
    {
     "data": {
      "text/plain": "                                Zone  Valeur Pop 2017  \\\n9                            Arménie          2944791   \n15                           Barbade           286232   \n17                            Belize           375769   \n26                        Cabo Verde           537498   \n32              Chine - RAS de Macao           622585   \n44                         Dominique            71458   \n49                             Fidji           877459   \n61                            Guyana           775222   \n80                          Kiribati           114158   \n88                 Macédoine du Nord          2081996   \n96                           Maurice          1264499   \n108               Nouvelle-Calédonie           277150   \n120              Polynésie française           276102   \n134  Saint-Vincent-et-les Grenadines           109827   \n136                            Samoa           195352   \n137             Sao Tomé-et-Principe           207089   \n145                         Suriname           570496   \n154                Trinité-et-Tobago          1384059   \n160                          Vanuatu           285510   \n\n     Taux évolution population  Importation (kg/pers)  \\\n9                    -0.003730                  11.89   \n15                    0.003306                   6.99   \n17                    0.024818                   0.00   \n26                    0.012747                  22.33   \n32                    0.022453                  36.94   \n44                    0.001379                  55.98   \n49                    0.004342                   3.42   \n61                    0.002298                   0.00   \n80                    0.017498                   8.76   \n88                    0.000864                  19.21   \n96                    0.003727                   1.58   \n108                   0.013912                  32.47   \n120                   0.005561                  54.33   \n134                   0.001239                  81.95   \n136                   0.006469                  87.02   \n137                   0.021027                   9.66   \n145                   0.011508                  31.55   \n154                   0.004969                  16.62   \n160                   0.025822                  14.01   \n\n     Nourriture Volaille (kg/pers)  Viande Total (kg/pers)  \\\n9                            15.96                   45.50   \n15                           45.42                   69.87   \n17                           26.61                   39.92   \n26                           16.74                   31.63   \n32                           33.73                  101.19   \n44                           41.98                   69.97   \n49                           28.49                   43.31   \n61                           38.70                   46.44   \n80                           17.52                   26.28   \n88                           19.69                   36.50   \n96                           37.96                   51.40   \n108                          39.69                   72.16   \n120                          47.08                   94.17   \n134                          72.84                   91.05   \n136                          66.55                   97.26   \n137                           9.66                   14.49   \n145                          31.55                   42.07   \n154                          54.19                   68.64   \n160                          10.51                   35.03   \n\n     Exportation (kg/pers)  Production (kg/pers)  \\\n9                     0.00                  3.74   \n15                    0.00                 52.41   \n17                    0.00                 53.22   \n26                    0.00                  1.86   \n32                    0.00                  4.82   \n44                    0.00                  0.00   \n49                    0.00                 26.21   \n61                    0.00                 39.99   \n80                    0.00                  8.76   \n88                    0.48                  0.96   \n96                    0.00                 37.96   \n108                   0.00                  3.61   \n120                   0.00                  3.62   \n134                   0.00                  0.00   \n136                   0.00                  0.00   \n137                   0.00                  4.83   \n145                   8.76                 17.53   \n154                   0.00                 44.07   \n160                   0.00                  3.50   \n\n     Nourriture Volaille/Total (%)  \\\n9                            35.08   \n15                           65.01   \n17                           66.66   \n26                           52.92   \n32                           33.33   \n44                           60.00   \n49                           65.78   \n61                           83.33   \n80                           66.67   \n88                           53.95   \n96                           73.85   \n108                          55.00   \n120                          49.99   \n134                          80.00   \n136                          68.42   \n137                          66.67   \n145                          74.99   \n154                          78.95   \n160                          30.00   \n\n     Stabilité politique et absence de violence/terrorisme (indice)  \\\n9                                                -0.62                \n15                                                0.97                \n17                                                0.04                \n26                                                0.77                \n32                                                1.43                \n44                                                1.20                \n49                                                0.62                \n61                                               -0.04                \n80                                                0.88                \n88                                               -0.25                \n96                                                0.97                \n108                                               0.28                \n120                                               0.28                \n134                                               0.89                \n136                                               1.18                \n137                                               0.19                \n145                                               0.13                \n154                                               0.28                \n160                                               0.70                \n\n     PIB (Valeur us$/Habitant)  \\\n9                  3914.525246   \n15                17419.313704   \n17                 4909.683057   \n26                 3292.638357   \n32                81043.968656   \n44                 7286.797839   \n49                 6101.130428   \n61                 6124.922066   \n80                 1648.572671   \n88                 5430.875559   \n96                10485.851087   \n108               33101.384336   \n120               21127.527814   \n134                7212.960181   \n136                4223.478963   \n137                1828.194018   \n145                5947.369351   \n154               16747.918804   \n160                3082.368364   \n\n    Nombre de personnes sous-alimentées (millions) (moyenne sur 3 ans)  \\\n9                                                 <0.1                   \n15                                                <0.1                   \n17                                                <0.1                   \n26                                                <0.1                   \n32                                                <0.1                   \n44                                                <0.1                   \n49                                                <0.1                   \n61                                                <0.1                   \n80                                                <0.1                   \n88                                                <0.1                   \n96                                                <0.1                   \n108                                               <0.1                   \n120                                               <0.1                   \n134                                               <0.1                   \n136                                               <0.1                   \n137                                               <0.1                   \n145                                               <0.1                   \n154                                               <0.1                   \n160                                               <0.1                   \n\n    % population utilisant au moins les services d'eau de base  \n9                                                   99          \n15                                                98.5          \n17                                                  98          \n26                                                87.1          \n32                                                  99          \n44                                                95.4          \n49                                                94.3          \n61                                                95.5          \n80                                                75.5          \n88                                                97.6          \n96                                                  99          \n108                                               98.6          \n120                                                 99          \n134                                               95.1          \n136                                               91.7          \n137                                               78.1          \n145                                               96.6          \n154                                               98.9          \n160                                               91.3          ",
      "text/html": "<div>\n<style scoped>\n    .dataframe tbody tr th:only-of-type {\n        vertical-align: middle;\n    }\n\n    .dataframe tbody tr th {\n        vertical-align: top;\n    }\n\n    .dataframe thead th {\n        text-align: right;\n    }\n</style>\n<table border=\"1\" class=\"dataframe\">\n  <thead>\n    <tr style=\"text-align: right;\">\n      <th></th>\n      <th>Zone</th>\n      <th>Valeur Pop 2017</th>\n      <th>Taux évolution population</th>\n      <th>Importation (kg/pers)</th>\n      <th>Nourriture Volaille (kg/pers)</th>\n      <th>Viande Total (kg/pers)</th>\n      <th>Exportation (kg/pers)</th>\n      <th>Production (kg/pers)</th>\n      <th>Nourriture Volaille/Total (%)</th>\n      <th>Stabilité politique et absence de violence/terrorisme (indice)</th>\n      <th>PIB (Valeur us$/Habitant)</th>\n      <th>Nombre de personnes sous-alimentées (millions) (moyenne sur 3 ans)</th>\n      <th>% population utilisant au moins les services d'eau de base</th>\n    </tr>\n  </thead>\n  <tbody>\n    <tr>\n      <th>9</th>\n      <td>Arménie</td>\n      <td>2944791</td>\n      <td>-0.003730</td>\n      <td>11.89</td>\n      <td>15.96</td>\n      <td>45.50</td>\n      <td>0.00</td>\n      <td>3.74</td>\n      <td>35.08</td>\n      <td>-0.62</td>\n      <td>3914.525246</td>\n      <td>&lt;0.1</td>\n      <td>99</td>\n    </tr>\n    <tr>\n      <th>15</th>\n      <td>Barbade</td>\n      <td>286232</td>\n      <td>0.003306</td>\n      <td>6.99</td>\n      <td>45.42</td>\n      <td>69.87</td>\n      <td>0.00</td>\n      <td>52.41</td>\n      <td>65.01</td>\n      <td>0.97</td>\n      <td>17419.313704</td>\n      <td>&lt;0.1</td>\n      <td>98.5</td>\n    </tr>\n    <tr>\n      <th>17</th>\n      <td>Belize</td>\n      <td>375769</td>\n      <td>0.024818</td>\n      <td>0.00</td>\n      <td>26.61</td>\n      <td>39.92</td>\n      <td>0.00</td>\n      <td>53.22</td>\n      <td>66.66</td>\n      <td>0.04</td>\n      <td>4909.683057</td>\n      <td>&lt;0.1</td>\n      <td>98</td>\n    </tr>\n    <tr>\n      <th>26</th>\n      <td>Cabo Verde</td>\n      <td>537498</td>\n      <td>0.012747</td>\n      <td>22.33</td>\n      <td>16.74</td>\n      <td>31.63</td>\n      <td>0.00</td>\n      <td>1.86</td>\n      <td>52.92</td>\n      <td>0.77</td>\n      <td>3292.638357</td>\n      <td>&lt;0.1</td>\n      <td>87.1</td>\n    </tr>\n    <tr>\n      <th>32</th>\n      <td>Chine - RAS de Macao</td>\n      <td>622585</td>\n      <td>0.022453</td>\n      <td>36.94</td>\n      <td>33.73</td>\n      <td>101.19</td>\n      <td>0.00</td>\n      <td>4.82</td>\n      <td>33.33</td>\n      <td>1.43</td>\n      <td>81043.968656</td>\n      <td>&lt;0.1</td>\n      <td>99</td>\n    </tr>\n    <tr>\n      <th>44</th>\n      <td>Dominique</td>\n      <td>71458</td>\n      <td>0.001379</td>\n      <td>55.98</td>\n      <td>41.98</td>\n      <td>69.97</td>\n      <td>0.00</td>\n      <td>0.00</td>\n      <td>60.00</td>\n      <td>1.20</td>\n      <td>7286.797839</td>\n      <td>&lt;0.1</td>\n      <td>95.4</td>\n    </tr>\n    <tr>\n      <th>49</th>\n      <td>Fidji</td>\n      <td>877459</td>\n      <td>0.004342</td>\n      <td>3.42</td>\n      <td>28.49</td>\n      <td>43.31</td>\n      <td>0.00</td>\n      <td>26.21</td>\n      <td>65.78</td>\n      <td>0.62</td>\n      <td>6101.130428</td>\n      <td>&lt;0.1</td>\n      <td>94.3</td>\n    </tr>\n    <tr>\n      <th>61</th>\n      <td>Guyana</td>\n      <td>775222</td>\n      <td>0.002298</td>\n      <td>0.00</td>\n      <td>38.70</td>\n      <td>46.44</td>\n      <td>0.00</td>\n      <td>39.99</td>\n      <td>83.33</td>\n      <td>-0.04</td>\n      <td>6124.922066</td>\n      <td>&lt;0.1</td>\n      <td>95.5</td>\n    </tr>\n    <tr>\n      <th>80</th>\n      <td>Kiribati</td>\n      <td>114158</td>\n      <td>0.017498</td>\n      <td>8.76</td>\n      <td>17.52</td>\n      <td>26.28</td>\n      <td>0.00</td>\n      <td>8.76</td>\n      <td>66.67</td>\n      <td>0.88</td>\n      <td>1648.572671</td>\n      <td>&lt;0.1</td>\n      <td>75.5</td>\n    </tr>\n    <tr>\n      <th>88</th>\n      <td>Macédoine du Nord</td>\n      <td>2081996</td>\n      <td>0.000864</td>\n      <td>19.21</td>\n      <td>19.69</td>\n      <td>36.50</td>\n      <td>0.48</td>\n      <td>0.96</td>\n      <td>53.95</td>\n      <td>-0.25</td>\n      <td>5430.875559</td>\n      <td>&lt;0.1</td>\n      <td>97.6</td>\n    </tr>\n    <tr>\n      <th>96</th>\n      <td>Maurice</td>\n      <td>1264499</td>\n      <td>0.003727</td>\n      <td>1.58</td>\n      <td>37.96</td>\n      <td>51.40</td>\n      <td>0.00</td>\n      <td>37.96</td>\n      <td>73.85</td>\n      <td>0.97</td>\n      <td>10485.851087</td>\n      <td>&lt;0.1</td>\n      <td>99</td>\n    </tr>\n    <tr>\n      <th>108</th>\n      <td>Nouvelle-Calédonie</td>\n      <td>277150</td>\n      <td>0.013912</td>\n      <td>32.47</td>\n      <td>39.69</td>\n      <td>72.16</td>\n      <td>0.00</td>\n      <td>3.61</td>\n      <td>55.00</td>\n      <td>0.28</td>\n      <td>33101.384336</td>\n      <td>&lt;0.1</td>\n      <td>98.6</td>\n    </tr>\n    <tr>\n      <th>120</th>\n      <td>Polynésie française</td>\n      <td>276102</td>\n      <td>0.005561</td>\n      <td>54.33</td>\n      <td>47.08</td>\n      <td>94.17</td>\n      <td>0.00</td>\n      <td>3.62</td>\n      <td>49.99</td>\n      <td>0.28</td>\n      <td>21127.527814</td>\n      <td>&lt;0.1</td>\n      <td>99</td>\n    </tr>\n    <tr>\n      <th>134</th>\n      <td>Saint-Vincent-et-les Grenadines</td>\n      <td>109827</td>\n      <td>0.001239</td>\n      <td>81.95</td>\n      <td>72.84</td>\n      <td>91.05</td>\n      <td>0.00</td>\n      <td>0.00</td>\n      <td>80.00</td>\n      <td>0.89</td>\n      <td>7212.960181</td>\n      <td>&lt;0.1</td>\n      <td>95.1</td>\n    </tr>\n    <tr>\n      <th>136</th>\n      <td>Samoa</td>\n      <td>195352</td>\n      <td>0.006469</td>\n      <td>87.02</td>\n      <td>66.55</td>\n      <td>97.26</td>\n      <td>0.00</td>\n      <td>0.00</td>\n      <td>68.42</td>\n      <td>1.18</td>\n      <td>4223.478963</td>\n      <td>&lt;0.1</td>\n      <td>91.7</td>\n    </tr>\n    <tr>\n      <th>137</th>\n      <td>Sao Tomé-et-Principe</td>\n      <td>207089</td>\n      <td>0.021027</td>\n      <td>9.66</td>\n      <td>9.66</td>\n      <td>14.49</td>\n      <td>0.00</td>\n      <td>4.83</td>\n      <td>66.67</td>\n      <td>0.19</td>\n      <td>1828.194018</td>\n      <td>&lt;0.1</td>\n      <td>78.1</td>\n    </tr>\n    <tr>\n      <th>145</th>\n      <td>Suriname</td>\n      <td>570496</td>\n      <td>0.011508</td>\n      <td>31.55</td>\n      <td>31.55</td>\n      <td>42.07</td>\n      <td>8.76</td>\n      <td>17.53</td>\n      <td>74.99</td>\n      <td>0.13</td>\n      <td>5947.369351</td>\n      <td>&lt;0.1</td>\n      <td>96.6</td>\n    </tr>\n    <tr>\n      <th>154</th>\n      <td>Trinité-et-Tobago</td>\n      <td>1384059</td>\n      <td>0.004969</td>\n      <td>16.62</td>\n      <td>54.19</td>\n      <td>68.64</td>\n      <td>0.00</td>\n      <td>44.07</td>\n      <td>78.95</td>\n      <td>0.28</td>\n      <td>16747.918804</td>\n      <td>&lt;0.1</td>\n      <td>98.9</td>\n    </tr>\n    <tr>\n      <th>160</th>\n      <td>Vanuatu</td>\n      <td>285510</td>\n      <td>0.025822</td>\n      <td>14.01</td>\n      <td>10.51</td>\n      <td>35.03</td>\n      <td>0.00</td>\n      <td>3.50</td>\n      <td>30.00</td>\n      <td>0.70</td>\n      <td>3082.368364</td>\n      <td>&lt;0.1</td>\n      <td>91.3</td>\n    </tr>\n  </tbody>\n</table>\n</div>"
     },
     "execution_count": 314,
     "metadata": {},
     "output_type": "execute_result"
    }
   ],
   "source": [
    "df_final[df_final['Nombre de personnes sous-alimentées (millions) (moyenne sur 3 ans)'] == '<0.1']"
   ],
   "metadata": {
    "collapsed": false
   }
  },
  {
   "cell_type": "code",
   "execution_count": 315,
   "outputs": [
    {
     "data": {
      "text/plain": "Empty DataFrame\nColumns: [Zone, Valeur Pop 2017, Taux évolution population, Importation (kg/pers), Nourriture Volaille (kg/pers), Viande Total (kg/pers), Exportation (kg/pers), Production (kg/pers), Nourriture Volaille/Total (%), Stabilité politique et absence de violence/terrorisme (indice), PIB (Valeur us$/Habitant), Nombre de personnes sous-alimentées (millions) (moyenne sur 3 ans), % population utilisant au moins les services d'eau de base]\nIndex: []",
      "text/html": "<div>\n<style scoped>\n    .dataframe tbody tr th:only-of-type {\n        vertical-align: middle;\n    }\n\n    .dataframe tbody tr th {\n        vertical-align: top;\n    }\n\n    .dataframe thead th {\n        text-align: right;\n    }\n</style>\n<table border=\"1\" class=\"dataframe\">\n  <thead>\n    <tr style=\"text-align: right;\">\n      <th></th>\n      <th>Zone</th>\n      <th>Valeur Pop 2017</th>\n      <th>Taux évolution population</th>\n      <th>Importation (kg/pers)</th>\n      <th>Nourriture Volaille (kg/pers)</th>\n      <th>Viande Total (kg/pers)</th>\n      <th>Exportation (kg/pers)</th>\n      <th>Production (kg/pers)</th>\n      <th>Nourriture Volaille/Total (%)</th>\n      <th>Stabilité politique et absence de violence/terrorisme (indice)</th>\n      <th>PIB (Valeur us$/Habitant)</th>\n      <th>Nombre de personnes sous-alimentées (millions) (moyenne sur 3 ans)</th>\n      <th>% population utilisant au moins les services d'eau de base</th>\n    </tr>\n  </thead>\n  <tbody>\n  </tbody>\n</table>\n</div>"
     },
     "execution_count": 315,
     "metadata": {},
     "output_type": "execute_result"
    }
   ],
   "source": [
    "# je remplace les valeur \"<0.01\" par \"0.1\"\n",
    "df_final[\"Nombre de personnes sous-alimentées (millions) (moyenne sur 3 ans)\"] = df_final[\"Nombre de personnes sous-alimentées (millions) (moyenne sur 3 ans)\"].replace({'<':''}, regex=True)\n",
    "df_final[df_final['Nombre de personnes sous-alimentées (millions) (moyenne sur 3 ans)'] == '<0.1']"
   ],
   "metadata": {
    "collapsed": false
   }
  },
  {
   "cell_type": "code",
   "execution_count": 316,
   "outputs": [
    {
     "data": {
      "text/plain": "Zone                                                                  0\nValeur Pop 2017                                                       0\nTaux évolution population                                             0\nImportation (kg/pers)                                                 0\nNourriture Volaille (kg/pers)                                         0\nViande Total (kg/pers)                                                0\nExportation (kg/pers)                                                 0\nProduction (kg/pers)                                                  0\nNourriture Volaille/Total (%)                                         0\nStabilité politique et absence de violence/terrorisme (indice)        0\nPIB (Valeur us$/Habitant)                                             0\nNombre de personnes sous-alimentées (millions) (moyenne sur 3 ans)    0\n% population utilisant au moins les services d'eau de base            0\ndtype: int64"
     },
     "execution_count": 316,
     "metadata": {},
     "output_type": "execute_result"
    }
   ],
   "source": [
    "df_final.isna().sum()"
   ],
   "metadata": {
    "collapsed": false
   }
  },
  {
   "cell_type": "code",
   "execution_count": 266,
   "outputs": [
    {
     "data": {
      "text/plain": "                Valeur Pop 2017  Taux évolution population  \\\nZone                                                         \nAfghanistan            36296113                   0.031930   \nAfrique du Sud         57009756                   0.014013   \nAlbanie                 2884169                  -0.004211   \nAlgérie                41389189                   0.017370   \nAllemagne              82658409                   0.000972   \n\n                Importation (kg/pers)  Nourriture Volaille (kg/pers)  \\\nZone                                                                   \nAfghanistan                      0.80                           1.52   \nAfrique du Sud                   9.02                          35.70   \nAlbanie                         13.18                          16.30   \nAlgérie                          0.05                           6.38   \nAllemagne                       10.19                          19.47   \n\n                Viande Total (kg/pers)  Exportation (kg/pers)  \\\nZone                                                            \nAfghanistan                       8.60                   0.00   \nAfrique du Sud                   60.02                   1.11   \nAlbanie                          47.15                   0.00   \nAlgérie                          18.07                   0.00   \nAllemagne                        87.77                   7.82   \n\n                Production (kg/pers)  Nourriture Volaille/Total (%)  \\\nZone                                                                  \nAfghanistan                     0.77                          17.67   \nAfrique du Sud                 29.24                          59.48   \nAlbanie                         4.51                          34.57   \nAlgérie                         6.64                          35.31   \nAllemagne                      18.32                          22.18   \n\n                Stabilité politique et absence de violence/terrorisme (indice)  \\\nZone                                                                             \nAfghanistan                                                 -2.80                \nAfrique du Sud                                              -0.28                \nAlbanie                                                      0.38                \nAlgérie                                                     -0.92                \nAllemagne                                                    0.59                \n\n                PIB (Valeur us$/Habitant)  \\\nZone                                        \nAfghanistan                    520.616409   \nAfrique du Sud                6121.876572   \nAlbanie                       4514.204908   \nAlgérie                       4109.696001   \nAllemagne                    44651.829102   \n\n               Nombre de personnes sous-alimentées (millions) (moyenne sur 3 ans)  \\\nZone                                                                                \nAfghanistan                                                   8.3                   \nAfrique du Sud                                                3.1                   \nAlbanie                                                       0.1                   \nAlgérie                                                       1.1                   \nAllemagne                                                       0                   \n\n               % population utilisant au moins les services d'eau de base  \nZone                                                                       \nAfghanistan                                                  66.8          \nAfrique du Sud                                               92.7          \nAlbanie                                                      94.1          \nAlgérie                                                      93.8          \nAllemagne                                                      99          ",
      "text/html": "<div>\n<style scoped>\n    .dataframe tbody tr th:only-of-type {\n        vertical-align: middle;\n    }\n\n    .dataframe tbody tr th {\n        vertical-align: top;\n    }\n\n    .dataframe thead th {\n        text-align: right;\n    }\n</style>\n<table border=\"1\" class=\"dataframe\">\n  <thead>\n    <tr style=\"text-align: right;\">\n      <th></th>\n      <th>Valeur Pop 2017</th>\n      <th>Taux évolution population</th>\n      <th>Importation (kg/pers)</th>\n      <th>Nourriture Volaille (kg/pers)</th>\n      <th>Viande Total (kg/pers)</th>\n      <th>Exportation (kg/pers)</th>\n      <th>Production (kg/pers)</th>\n      <th>Nourriture Volaille/Total (%)</th>\n      <th>Stabilité politique et absence de violence/terrorisme (indice)</th>\n      <th>PIB (Valeur us$/Habitant)</th>\n      <th>Nombre de personnes sous-alimentées (millions) (moyenne sur 3 ans)</th>\n      <th>% population utilisant au moins les services d'eau de base</th>\n    </tr>\n    <tr>\n      <th>Zone</th>\n      <th></th>\n      <th></th>\n      <th></th>\n      <th></th>\n      <th></th>\n      <th></th>\n      <th></th>\n      <th></th>\n      <th></th>\n      <th></th>\n      <th></th>\n      <th></th>\n    </tr>\n  </thead>\n  <tbody>\n    <tr>\n      <th>Afghanistan</th>\n      <td>36296113</td>\n      <td>0.031930</td>\n      <td>0.80</td>\n      <td>1.52</td>\n      <td>8.60</td>\n      <td>0.00</td>\n      <td>0.77</td>\n      <td>17.67</td>\n      <td>-2.80</td>\n      <td>520.616409</td>\n      <td>8.3</td>\n      <td>66.8</td>\n    </tr>\n    <tr>\n      <th>Afrique du Sud</th>\n      <td>57009756</td>\n      <td>0.014013</td>\n      <td>9.02</td>\n      <td>35.70</td>\n      <td>60.02</td>\n      <td>1.11</td>\n      <td>29.24</td>\n      <td>59.48</td>\n      <td>-0.28</td>\n      <td>6121.876572</td>\n      <td>3.1</td>\n      <td>92.7</td>\n    </tr>\n    <tr>\n      <th>Albanie</th>\n      <td>2884169</td>\n      <td>-0.004211</td>\n      <td>13.18</td>\n      <td>16.30</td>\n      <td>47.15</td>\n      <td>0.00</td>\n      <td>4.51</td>\n      <td>34.57</td>\n      <td>0.38</td>\n      <td>4514.204908</td>\n      <td>0.1</td>\n      <td>94.1</td>\n    </tr>\n    <tr>\n      <th>Algérie</th>\n      <td>41389189</td>\n      <td>0.017370</td>\n      <td>0.05</td>\n      <td>6.38</td>\n      <td>18.07</td>\n      <td>0.00</td>\n      <td>6.64</td>\n      <td>35.31</td>\n      <td>-0.92</td>\n      <td>4109.696001</td>\n      <td>1.1</td>\n      <td>93.8</td>\n    </tr>\n    <tr>\n      <th>Allemagne</th>\n      <td>82658409</td>\n      <td>0.000972</td>\n      <td>10.19</td>\n      <td>19.47</td>\n      <td>87.77</td>\n      <td>7.82</td>\n      <td>18.32</td>\n      <td>22.18</td>\n      <td>0.59</td>\n      <td>44651.829102</td>\n      <td>0</td>\n      <td>99</td>\n    </tr>\n  </tbody>\n</table>\n</div>"
     },
     "execution_count": 266,
     "metadata": {},
     "output_type": "execute_result"
    }
   ],
   "source": [
    "df_final = df_final.set_index('Zone')\n",
    "df_final.head()"
   ],
   "metadata": {
    "collapsed": false
   }
  },
  {
   "cell_type": "markdown",
   "source": [
    "# Outliers"
   ],
   "metadata": {
    "collapsed": false
   }
  },
  {
   "cell_type": "code",
   "execution_count": 267,
   "outputs": [
    {
     "data": {
      "text/plain": "       Valeur Pop 2017  Taux évolution population  Importation (kg/pers)  \\\ncount     1.720000e+02                 172.000000             172.000000   \nmean      4.284175e+07                   0.013730              10.890756   \nstd       1.530637e+08                   0.011918              18.607640   \nmin       5.204500e+04                  -0.012442               0.000000   \n25%       2.874480e+06                   0.004902               0.380000   \n50%       9.757833e+06                   0.012828               3.685000   \n75%       3.013874e+07                   0.022500              11.720000   \nmax       1.421022e+09                   0.053814             124.140000   \n\n       Nourriture Volaille (kg/pers)  Viande Total (kg/pers)  \\\ncount                     172.000000              172.000000   \nmean                       20.176047               48.410407   \nstd                        15.983285               30.130535   \nmin                         0.000000                0.000000   \n25%                         6.157500               20.200000   \n50%                        17.830000               45.970000   \n75%                        30.000000               71.712500   \nmax                        72.840000              137.140000   \n\n       Exportation (kg/pers)  Production (kg/pers)  \\\ncount             172.000000            172.000000   \nmean                3.446453             15.956744   \nstd                11.157379             17.283204   \nmin                 0.000000              0.000000   \n25%                 0.000000              2.090000   \n50%                 0.000000              9.425000   \n75%                 1.480000             24.675000   \nmax                90.740000             76.300000   \n\n       Nourriture Volaille/Total (%)  \\\ncount                     172.000000   \nmean                       40.337733   \nstd                        20.966469   \nmin                         0.000000   \n25%                        23.330000   \n50%                        38.440000   \n75%                        55.067500   \nmax                        86.620000   \n\n       Stabilité politique et absence de violence/terrorisme (indice)  \\\ncount                                         172.000000                \nmean                                           -0.061395                \nstd                                             0.893960                \nmin                                            -2.940000                \n25%                                            -0.622500                \n50%                                             0.015000                \n75%                                             0.650000                \nmax                                             1.600000                \n\n       PIB (Valeur us$/Habitant)  \ncount                 172.000000  \nmean                13998.001581  \nstd                 19358.817832  \nmin                   450.900697  \n25%                  2009.670178  \n50%                  6101.130428  \n75%                 16757.054056  \nmax                111017.182246  ",
      "text/html": "<div>\n<style scoped>\n    .dataframe tbody tr th:only-of-type {\n        vertical-align: middle;\n    }\n\n    .dataframe tbody tr th {\n        vertical-align: top;\n    }\n\n    .dataframe thead th {\n        text-align: right;\n    }\n</style>\n<table border=\"1\" class=\"dataframe\">\n  <thead>\n    <tr style=\"text-align: right;\">\n      <th></th>\n      <th>Valeur Pop 2017</th>\n      <th>Taux évolution population</th>\n      <th>Importation (kg/pers)</th>\n      <th>Nourriture Volaille (kg/pers)</th>\n      <th>Viande Total (kg/pers)</th>\n      <th>Exportation (kg/pers)</th>\n      <th>Production (kg/pers)</th>\n      <th>Nourriture Volaille/Total (%)</th>\n      <th>Stabilité politique et absence de violence/terrorisme (indice)</th>\n      <th>PIB (Valeur us$/Habitant)</th>\n    </tr>\n  </thead>\n  <tbody>\n    <tr>\n      <th>count</th>\n      <td>1.720000e+02</td>\n      <td>172.000000</td>\n      <td>172.000000</td>\n      <td>172.000000</td>\n      <td>172.000000</td>\n      <td>172.000000</td>\n      <td>172.000000</td>\n      <td>172.000000</td>\n      <td>172.000000</td>\n      <td>172.000000</td>\n    </tr>\n    <tr>\n      <th>mean</th>\n      <td>4.284175e+07</td>\n      <td>0.013730</td>\n      <td>10.890756</td>\n      <td>20.176047</td>\n      <td>48.410407</td>\n      <td>3.446453</td>\n      <td>15.956744</td>\n      <td>40.337733</td>\n      <td>-0.061395</td>\n      <td>13998.001581</td>\n    </tr>\n    <tr>\n      <th>std</th>\n      <td>1.530637e+08</td>\n      <td>0.011918</td>\n      <td>18.607640</td>\n      <td>15.983285</td>\n      <td>30.130535</td>\n      <td>11.157379</td>\n      <td>17.283204</td>\n      <td>20.966469</td>\n      <td>0.893960</td>\n      <td>19358.817832</td>\n    </tr>\n    <tr>\n      <th>min</th>\n      <td>5.204500e+04</td>\n      <td>-0.012442</td>\n      <td>0.000000</td>\n      <td>0.000000</td>\n      <td>0.000000</td>\n      <td>0.000000</td>\n      <td>0.000000</td>\n      <td>0.000000</td>\n      <td>-2.940000</td>\n      <td>450.900697</td>\n    </tr>\n    <tr>\n      <th>25%</th>\n      <td>2.874480e+06</td>\n      <td>0.004902</td>\n      <td>0.380000</td>\n      <td>6.157500</td>\n      <td>20.200000</td>\n      <td>0.000000</td>\n      <td>2.090000</td>\n      <td>23.330000</td>\n      <td>-0.622500</td>\n      <td>2009.670178</td>\n    </tr>\n    <tr>\n      <th>50%</th>\n      <td>9.757833e+06</td>\n      <td>0.012828</td>\n      <td>3.685000</td>\n      <td>17.830000</td>\n      <td>45.970000</td>\n      <td>0.000000</td>\n      <td>9.425000</td>\n      <td>38.440000</td>\n      <td>0.015000</td>\n      <td>6101.130428</td>\n    </tr>\n    <tr>\n      <th>75%</th>\n      <td>3.013874e+07</td>\n      <td>0.022500</td>\n      <td>11.720000</td>\n      <td>30.000000</td>\n      <td>71.712500</td>\n      <td>1.480000</td>\n      <td>24.675000</td>\n      <td>55.067500</td>\n      <td>0.650000</td>\n      <td>16757.054056</td>\n    </tr>\n    <tr>\n      <th>max</th>\n      <td>1.421022e+09</td>\n      <td>0.053814</td>\n      <td>124.140000</td>\n      <td>72.840000</td>\n      <td>137.140000</td>\n      <td>90.740000</td>\n      <td>76.300000</td>\n      <td>86.620000</td>\n      <td>1.600000</td>\n      <td>111017.182246</td>\n    </tr>\n  </tbody>\n</table>\n</div>"
     },
     "execution_count": 267,
     "metadata": {},
     "output_type": "execute_result"
    }
   ],
   "source": [
    "df_final.describe()"
   ],
   "metadata": {
    "collapsed": false
   }
  },
  {
   "cell_type": "code",
   "execution_count": 317,
   "outputs": [
    {
     "data": {
      "text/plain": "<Figure size 1296x720 with 1 Axes>",
      "image/png": "[encoded data removed]"
     },
     "metadata": {
      "needs_background": "light"
     },
     "output_type": "display_data"
    }
   ],
   "source": [
    "# Scatter plot\n",
    "fig, ax = plt.subplots(figsize = (18,10))\n",
    "ax.scatter(df_final['Importation (kg/pers)'], df_final['Nourriture Volaille (kg/pers)'])\n",
    "\n",
    "# x-axis label\n",
    "ax.set_xlabel('Importation (kg/pers)')\n",
    "\n",
    "# y-axis label\n",
    "ax.set_ylabel('Nourriture Volaille (kg/pers)')\n",
    "plt.show()"
   ],
   "metadata": {
    "collapsed": false
   }
  },
  {
   "cell_type": "code",
   "execution_count": 269,
   "outputs": [
    {
     "data": {
      "text/plain": "                          Valeur Pop 2017  Taux évolution population  \\\nZone                                                                   \nChine - RAS de Hong-Kong          7306322                    0.00602   \n\n                          Importation (kg/pers)  \\\nZone                                              \nChine - RAS de Hong-Kong                 124.14   \n\n                          Nourriture Volaille (kg/pers)  \\\nZone                                                      \nChine - RAS de Hong-Kong                          53.52   \n\n                          Viande Total (kg/pers)  Exportation (kg/pers)  \\\nZone                                                                      \nChine - RAS de Hong-Kong                  137.14                  90.74   \n\n                          Production (kg/pers)  Nourriture Volaille/Total (%)  \\\nZone                                                                            \nChine - RAS de Hong-Kong                  3.28                          39.03   \n\n                          Stabilité politique et absence de violence/terrorisme (indice)  \\\nZone                                                                                       \nChine - RAS de Hong-Kong                                               0.83                \n\n                          PIB (Valeur us$/Habitant)  \\\nZone                                                  \nChine - RAS de Hong-Kong               46705.027813   \n\n                         Nombre de personnes sous-alimentées (millions) (moyenne sur 3 ans)  \\\nZone                                                                                          \nChine - RAS de Hong-Kong                                                  0                   \n\n                         % population utilisant au moins les services d'eau de base  \nZone                                                                                 \nChine - RAS de Hong-Kong                                                 99          ",
      "text/html": "<div>\n<style scoped>\n    .dataframe tbody tr th:only-of-type {\n        vertical-align: middle;\n    }\n\n    .dataframe tbody tr th {\n        vertical-align: top;\n    }\n\n    .dataframe thead th {\n        text-align: right;\n    }\n</style>\n<table border=\"1\" class=\"dataframe\">\n  <thead>\n    <tr style=\"text-align: right;\">\n      <th></th>\n      <th>Valeur Pop 2017</th>\n      <th>Taux évolution population</th>\n      <th>Importation (kg/pers)</th>\n      <th>Nourriture Volaille (kg/pers)</th>\n      <th>Viande Total (kg/pers)</th>\n      <th>Exportation (kg/pers)</th>\n      <th>Production (kg/pers)</th>\n      <th>Nourriture Volaille/Total (%)</th>\n      <th>Stabilité politique et absence de violence/terrorisme (indice)</th>\n      <th>PIB (Valeur us$/Habitant)</th>\n      <th>Nombre de personnes sous-alimentées (millions) (moyenne sur 3 ans)</th>\n      <th>% population utilisant au moins les services d'eau de base</th>\n    </tr>\n    <tr>\n      <th>Zone</th>\n      <th></th>\n      <th></th>\n      <th></th>\n      <th></th>\n      <th></th>\n      <th></th>\n      <th></th>\n      <th></th>\n      <th></th>\n      <th></th>\n      <th></th>\n      <th></th>\n    </tr>\n  </thead>\n  <tbody>\n    <tr>\n      <th>Chine - RAS de Hong-Kong</th>\n      <td>7306322</td>\n      <td>0.00602</td>\n      <td>124.14</td>\n      <td>53.52</td>\n      <td>137.14</td>\n      <td>90.74</td>\n      <td>3.28</td>\n      <td>39.03</td>\n      <td>0.83</td>\n      <td>46705.027813</td>\n      <td>0</td>\n      <td>99</td>\n    </tr>\n  </tbody>\n</table>\n</div>"
     },
     "execution_count": 269,
     "metadata": {},
     "output_type": "execute_result"
    }
   ],
   "source": [
    "df_final[df_final['Importation (kg/pers)'] > 100]"
   ],
   "metadata": {
    "collapsed": false
   }
  },
  {
   "cell_type": "code",
   "execution_count": 270,
   "outputs": [
    {
     "data": {
      "text/plain": "0"
     },
     "execution_count": 270,
     "metadata": {},
     "output_type": "execute_result"
    }
   ],
   "source": [
    "df_final.duplicated().sum()"
   ],
   "metadata": {
    "collapsed": false
   }
  },
  {
   "cell_type": "markdown",
   "source": [
    "# to_csv"
   ],
   "metadata": {
    "collapsed": false
   }
  },
  {
   "cell_type": "code",
   "execution_count": 271,
   "outputs": [],
   "source": [
    "df_final.to_csv('data/data_final.csv')"
   ],
   "metadata": {
    "collapsed": false
   }
  }
 ],
 "metadata": {
  "kernelspec": {
   "display_name": "Python 3",
   "language": "python",
   "name": "python3"
  },
  "language_info": {
   "codemirror_mode": {
    "name": "ipython",
    "version": 2
   },
   "file_extension": ".py",
   "mimetype": "text/x-python",
   "name": "python",
   "nbconvert_exporter": "python",
   "pygments_lexer": "ipython2",
   "version": "2.7.6"
  }
 },
 "nbformat": 4,
 "nbformat_minor": 0
}
