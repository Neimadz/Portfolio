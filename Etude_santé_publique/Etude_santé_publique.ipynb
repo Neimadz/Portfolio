{
 "cells": [
  {
   "attachments": {},
   "cell_type": "markdown",
   "metadata": {},
   "source": [
    "Import"
   ]
  },
  {
   "cell_type": "code",
   "execution_count": 1,
   "metadata": {},
   "outputs": [],
   "source": [
    "#%%\n",
    "import numpy as np\n",
    "import pandas as pd\n",
    "import matplotlib.pyplot as plt\n",
    "import matplotlib as mpl\n",
    "\n",
    "# permet d'afficher toute les colonne d'un head\n",
    "pd.set_option('max_columns', None)\n",
    "\n",
    "# permet d'afficher toute les ligne d'un head\n",
    "#pd.set_option('max_rows', None)\n",
    "\n",
    "# Reset de l'affichage des colonnes et ligne\n",
    "# pd.reset_option('max_columns')\n",
    "pd.reset_option('max_rows')\n",
    "\n",
    "# Besoin calorique selon google 2000 a 2200 pour une femme et 2400 a 2700 pour un homme j'ai pris 2500\n",
    "Besoin_calorique = 2500 * 365\n"
   ]
  },
  {
   "attachments": {},
   "cell_type": "markdown",
   "metadata": {},
   "source": [
    "Population"
   ]
  },
  {
   "cell_type": "code",
   "execution_count": 2,
   "metadata": {},
   "outputs": [],
   "source": [
    "# J'importe mon fichier csv\n",
    "df_population = pd.read_csv(\"data\\population.csv\")\n",
    "#Je défini le nom de mes colonnes qui était a la base : 'Zone' 'Année' 'Valeur'\n",
    "df_population.rename(columns={'Zone' : 'Pays',\n",
    "                              'Année': 'Année',\n",
    "                              'Valeur' : 'Population',\n",
    "},inplace=True)\n",
    "\n",
    "#Je rename mes colonne pour quelle soit pareille dans tous mes fichier\n",
    "df_population['Pays'] = df_population['Pays'].replace(['Royaume-Uni de Grande-Bretagne et d\\'Irlande du Nord','Tchéquie (la)'],['Royaume-Uni','Tchéquie']) \n",
    "\n",
    "\n",
    "# Je convertis en millions et je passe la colonne en int\n",
    "df_population['Population'] = df_population['Population'] * 1000\n",
    "df_population['Population'] = df_population['Population'].astype(int)\n",
    "# Change tout les valeur na NaN en 0\n",
    "df_population.fillna(0, inplace=True)"
   ]
  },
  {
   "attachments": {},
   "cell_type": "markdown",
   "metadata": {},
   "source": [
    "Sous nutrition"
   ]
  },
  {
   "cell_type": "code",
   "execution_count": 3,
   "metadata": {},
   "outputs": [
    {
     "data": {
      "text/html": [
       "<div>\n",
       "<style scoped>\n",
       "    .dataframe tbody tr th:only-of-type {\n",
       "        vertical-align: middle;\n",
       "    }\n",
       "\n",
       "    .dataframe tbody tr th {\n",
       "        vertical-align: top;\n",
       "    }\n",
       "\n",
       "    .dataframe thead th {\n",
       "        text-align: right;\n",
       "    }\n",
       "</style>\n",
       "<table border=\"1\" class=\"dataframe\">\n",
       "  <thead>\n",
       "    <tr style=\"text-align: right;\">\n",
       "      <th></th>\n",
       "      <th>Pays</th>\n",
       "      <th>Année</th>\n",
       "      <th>sous_nutrition</th>\n",
       "      <th>en_sous_nutrition</th>\n",
       "    </tr>\n",
       "  </thead>\n",
       "  <tbody>\n",
       "    <tr>\n",
       "      <th>0</th>\n",
       "      <td>Afghanistan</td>\n",
       "      <td>2013.0</td>\n",
       "      <td>8600000</td>\n",
       "      <td>True</td>\n",
       "    </tr>\n",
       "    <tr>\n",
       "      <th>1</th>\n",
       "      <td>Afghanistan</td>\n",
       "      <td>2014.0</td>\n",
       "      <td>8800000</td>\n",
       "      <td>True</td>\n",
       "    </tr>\n",
       "    <tr>\n",
       "      <th>2</th>\n",
       "      <td>Afghanistan</td>\n",
       "      <td>2015.0</td>\n",
       "      <td>8900000</td>\n",
       "      <td>True</td>\n",
       "    </tr>\n",
       "    <tr>\n",
       "      <th>3</th>\n",
       "      <td>Afghanistan</td>\n",
       "      <td>2016.0</td>\n",
       "      <td>9700000</td>\n",
       "      <td>True</td>\n",
       "    </tr>\n",
       "    <tr>\n",
       "      <th>4</th>\n",
       "      <td>Afghanistan</td>\n",
       "      <td>2017.0</td>\n",
       "      <td>10500000</td>\n",
       "      <td>True</td>\n",
       "    </tr>\n",
       "  </tbody>\n",
       "</table>\n",
       "</div>"
      ],
      "text/plain": [
       "          Pays   Année  sous_nutrition  en_sous_nutrition\n",
       "0  Afghanistan  2013.0         8600000               True\n",
       "1  Afghanistan  2014.0         8800000               True\n",
       "2  Afghanistan  2015.0         8900000               True\n",
       "3  Afghanistan  2016.0         9700000               True\n",
       "4  Afghanistan  2017.0        10500000               True"
      ]
     },
     "execution_count": 3,
     "metadata": {},
     "output_type": "execute_result"
    }
   ],
   "source": [
    "# Je crée ma variable avec mon tableau ou le nom de mes colonne sont a l'interieur\n",
    "sn_columns = ['Zone','Année','Valeur']\n",
    "# J'importe mon fichier csv et j'y ajoute les colonne a importer\n",
    "df_sous_nutrition = pd.read_csv(\"data\\sous_nutrition.csv\")[sn_columns]\n",
    "# J'utilise la fonction pandas .rename pour changer le nom de mes colonnes, histoire de découvrire d'autre fonction\n",
    "df_sous_nutrition.rename(\n",
    "    columns={\n",
    "        'Zone' : 'Pays',\n",
    "        'Année' : 'Année',\n",
    "        'Valeur' : 'sous_nutrition'\n",
    "    }, inplace=True\n",
    ")\n",
    "df_sous_nutrition['Pays'] = df_sous_nutrition['Pays'].replace(['Royaume-Uni de Grande-Bretagne et d\\'Irlande du Nord','Tchéquie (la)'],['Royaume-Uni','Tchéquie']) \n",
    "\n",
    "def format_annee(annee):            # Je definie une fonction pour laquelle je vais chercher l'année pour la mettre au bon format.\n",
    "    if annee == '2011-2013':        # exemple trouver sur google : def get_capital(country)        \n",
    "        return 2012                 #                                   if country == 'India':\n",
    "    elif annee == '2012-2014':      #                                   return 'New Delhi'\n",
    "        return 2013\n",
    "    elif annee == '2013-2015':\n",
    "        return 2014\n",
    "    elif annee == '2014-2016':\n",
    "        return 2015\n",
    "    elif annee == '2015-2017':\n",
    "        return 2016\n",
    "    elif annee == '2016-2018':\n",
    "        return 2017\n",
    "    \n",
    "# Ici j'applique ma fonction sur la colonne année\n",
    "df_sous_nutrition['Année'] = df_sous_nutrition['Année'].apply(format_annee)\n",
    "# Je passe la colonne sous_nutrition en integer\n",
    "df_sous_nutrition['sous_nutrition'] = pd.to_numeric(df_sous_nutrition['sous_nutrition'], errors='coerce' ,downcast='integer')\n",
    "df_sous_nutrition.fillna(0,inplace=True)\n",
    "\n",
    "# Je multiplie jusqu'au millions et je rapplique le format int sur ma colonne qui aprés ce calcul est passé en float\n",
    "df_sous_nutrition['sous_nutrition'] = df_sous_nutrition['sous_nutrition'] * 1000000\n",
    "df_sous_nutrition['sous_nutrition'] = df_sous_nutrition['sous_nutrition'].astype(int)\n",
    "# Je crée ma colonne en_sous_nutrition et j'applique l'état false \n",
    "df_sous_nutrition['en_sous_nutrition'] = False\n",
    "# Grace a la fonction pandas .loc je choisi toute mes valeur dans sous_nutrition qui sont > 0 et j'applique sur les lignes de ma colonne en_sous_nutrition true si c'est le cas.\n",
    "df_sous_nutrition.loc[df_sous_nutrition['sous_nutrition'] > 0, 'en_sous_nutrition'] = True\n",
    "\n",
    "df_sous_nutrition.head()"
   ]
  },
  {
   "attachments": {},
   "cell_type": "markdown",
   "metadata": {},
   "source": [
    "Proportion de la population en sous nutrition en 2017"
   ]
  },
  {
   "cell_type": "code",
   "execution_count": 4,
   "metadata": {},
   "outputs": [
    {
     "name": "stdout",
     "output_type": "stream",
     "text": [
      "Population en sous nutrition en 2017 : 535,700,000 (7.097%)\n"
     ]
    },
    {
     "data": {
      "text/html": [
       "<div>\n",
       "<style scoped>\n",
       "    .dataframe tbody tr th:only-of-type {\n",
       "        vertical-align: middle;\n",
       "    }\n",
       "\n",
       "    .dataframe tbody tr th {\n",
       "        vertical-align: top;\n",
       "    }\n",
       "\n",
       "    .dataframe thead th {\n",
       "        text-align: right;\n",
       "    }\n",
       "</style>\n",
       "<table border=\"1\" class=\"dataframe\">\n",
       "  <thead>\n",
       "    <tr style=\"text-align: right;\">\n",
       "      <th></th>\n",
       "      <th>Pays</th>\n",
       "      <th>Année</th>\n",
       "      <th>Population</th>\n",
       "      <th>sous_nutrition</th>\n",
       "    </tr>\n",
       "  </thead>\n",
       "  <tbody>\n",
       "    <tr>\n",
       "      <th>4</th>\n",
       "      <td>Afghanistan</td>\n",
       "      <td>2017</td>\n",
       "      <td>36296113</td>\n",
       "      <td>10500000.0</td>\n",
       "    </tr>\n",
       "    <tr>\n",
       "      <th>10</th>\n",
       "      <td>Afrique du Sud</td>\n",
       "      <td>2017</td>\n",
       "      <td>57009756</td>\n",
       "      <td>3100000.0</td>\n",
       "    </tr>\n",
       "    <tr>\n",
       "      <th>16</th>\n",
       "      <td>Albanie</td>\n",
       "      <td>2017</td>\n",
       "      <td>2884169</td>\n",
       "      <td>100000.0</td>\n",
       "    </tr>\n",
       "    <tr>\n",
       "      <th>22</th>\n",
       "      <td>Algérie</td>\n",
       "      <td>2017</td>\n",
       "      <td>41389189</td>\n",
       "      <td>1300000.0</td>\n",
       "    </tr>\n",
       "    <tr>\n",
       "      <th>28</th>\n",
       "      <td>Allemagne</td>\n",
       "      <td>2017</td>\n",
       "      <td>82658409</td>\n",
       "      <td>0.0</td>\n",
       "    </tr>\n",
       "  </tbody>\n",
       "</table>\n",
       "</div>"
      ],
      "text/plain": [
       "              Pays  Année  Population  sous_nutrition\n",
       "4      Afghanistan   2017    36296113      10500000.0\n",
       "10  Afrique du Sud   2017    57009756       3100000.0\n",
       "16         Albanie   2017     2884169        100000.0\n",
       "22         Algérie   2017    41389189       1300000.0\n",
       "28       Allemagne   2017    82658409             0.0"
      ]
     },
     "execution_count": 4,
     "metadata": {},
     "output_type": "execute_result"
    }
   ],
   "source": [
    "# Je merge via pandas mes data frame population et sous nutrition ou le pays et l'année sont égale dans les 2 df\n",
    "df_pop_sn = pd.merge(df_population, df_sous_nutrition, on=['Pays','Année'], how='left')\n",
    "df_pop_sn.fillna(0,inplace=True)\n",
    "# Je restreint ma dataframe a l'année 2017\n",
    "df_pop_sn = df_pop_sn.loc[df_pop_sn['Année'] == 2017, ['Pays', 'Année', 'Population', 'sous_nutrition']]\n",
    "\n",
    "# Je fais .copy() pour pouvoir reutiliser ma dataframe\n",
    "df_total_sn = df_pop_sn.copy()\n",
    "df_total_sn.fillna(0,inplace=True)\n",
    "# ici je fait la somme totale de la colonne sous nutrition et je repasse la colonne en int\n",
    "df_total_sn = df_total_sn['sous_nutrition'].sum()\n",
    "df_total_sn = df_total_sn.astype(int)\n",
    "\n",
    "df_total_pop = df_pop_sn.copy() \n",
    "df_total_pop.fillna(0, inplace=True)\n",
    "# ici je fait la somme totale de la colonne population et je repasse la colonne en int\n",
    "df_total_pop = df_pop_sn['Population'].sum()\n",
    "# Je calcule la proportion de la population par somme totale sous nutrition / somme totale population\n",
    "df_prop_pop = df_total_sn / df_total_pop\n",
    "# Dans mon print j'utilise Formatted string literals \n",
    "print(f\"Population en sous nutrition en 2017 : {df_total_sn:,} ({df_prop_pop:.3%})\")\n",
    "df_pop_sn.head()\n"
   ]
  },
  {
   "cell_type": "code",
   "execution_count": 5,
   "metadata": {},
   "outputs": [
    {
     "data": {
      "image/png": "[encoded data removed]",
      "text/plain": [
       "<Figure size 432x288 with 1 Axes>"
      ]
     },
     "metadata": {},
     "output_type": "display_data"
    }
   ],
   "source": [
    "labels = 'Total population', 'sous nutrition'\n",
    "sizes = [df_total_pop - df_total_sn, df_total_sn]\n",
    "colors = ['forestgreen', 'firebrick', 'royalblue']\n",
    "plt.style.use(\"dark_background\")\n",
    "plt.title(' ')\n",
    "plt.pie(sizes, labels=labels, colors=colors, autopct='%1.1f%%', shadow=True, startangle=0)\n",
    "plt.axis('equal')\n",
    "# plt.savefig('sousnutrition.png', dpi=300, transparent=True)\n",
    "plt.show()"
   ]
  },
  {
   "cell_type": "code",
   "execution_count": 6,
   "metadata": {},
   "outputs": [
    {
     "data": {
      "text/html": [
       "<div>\n",
       "<style scoped>\n",
       "    .dataframe tbody tr th:only-of-type {\n",
       "        vertical-align: middle;\n",
       "    }\n",
       "\n",
       "    .dataframe tbody tr th {\n",
       "        vertical-align: top;\n",
       "    }\n",
       "\n",
       "    .dataframe thead th {\n",
       "        text-align: right;\n",
       "    }\n",
       "</style>\n",
       "<table border=\"1\" class=\"dataframe\">\n",
       "  <thead>\n",
       "    <tr style=\"text-align: right;\">\n",
       "      <th></th>\n",
       "      <th>Pays</th>\n",
       "      <th>Année</th>\n",
       "      <th>Produit aide</th>\n",
       "      <th>Valeur aide</th>\n",
       "    </tr>\n",
       "  </thead>\n",
       "  <tbody>\n",
       "    <tr>\n",
       "      <th>0</th>\n",
       "      <td>Afghanistan</td>\n",
       "      <td>2013</td>\n",
       "      <td>Autres non-céréales</td>\n",
       "      <td>682</td>\n",
       "    </tr>\n",
       "    <tr>\n",
       "      <th>1</th>\n",
       "      <td>Afghanistan</td>\n",
       "      <td>2014</td>\n",
       "      <td>Autres non-céréales</td>\n",
       "      <td>335</td>\n",
       "    </tr>\n",
       "    <tr>\n",
       "      <th>2</th>\n",
       "      <td>Afghanistan</td>\n",
       "      <td>2013</td>\n",
       "      <td>Blé et Farin</td>\n",
       "      <td>39224</td>\n",
       "    </tr>\n",
       "    <tr>\n",
       "      <th>3</th>\n",
       "      <td>Afghanistan</td>\n",
       "      <td>2014</td>\n",
       "      <td>Blé et Farin</td>\n",
       "      <td>15160</td>\n",
       "    </tr>\n",
       "    <tr>\n",
       "      <th>4</th>\n",
       "      <td>Afghanistan</td>\n",
       "      <td>2013</td>\n",
       "      <td>Céréales</td>\n",
       "      <td>40504</td>\n",
       "    </tr>\n",
       "  </tbody>\n",
       "</table>\n",
       "</div>"
      ],
      "text/plain": [
       "          Pays  Année         Produit aide  Valeur aide\n",
       "0  Afghanistan   2013  Autres non-céréales          682\n",
       "1  Afghanistan   2014  Autres non-céréales          335\n",
       "2  Afghanistan   2013         Blé et Farin        39224\n",
       "3  Afghanistan   2014         Blé et Farin        15160\n",
       "4  Afghanistan   2013             Céréales        40504"
      ]
     },
     "execution_count": 6,
     "metadata": {},
     "output_type": "execute_result"
    }
   ],
   "source": [
    "df_aide = pd.read_csv('data\\aide_alimentaire.csv')\n",
    "df_aide.rename(columns={\n",
    "    'Pays bénéficiaire' : 'Pays',\n",
    "    'Année' : 'Année',\n",
    "    'Produit' : 'Produit aide',\n",
    "    'Valeur' : 'Valeur aide'},\n",
    "inplace=True)\n",
    "\n",
    "\n",
    "df_aide.head()"
   ]
  },
  {
   "attachments": {},
   "cell_type": "markdown",
   "metadata": {},
   "source": [
    "Disponibilité totale mondiale et Personne pouvant etre nourrit"
   ]
  },
  {
   "cell_type": "code",
   "execution_count": 7,
   "metadata": {},
   "outputs": [
    {
     "name": "stdout",
     "output_type": "stream",
     "text": [
      "Disponibilité total mondial : 7,731,489,394,689,605 \n",
      "Personne pouvant etre nourrit : 8,472,865,090\n"
     ]
    }
   ],
   "source": [
    "df_dispo_alim = pd.read_csv('data\\dispo_alimentaire.csv')\n",
    "\n",
    "# je garde ici les nom des colonnes au cas ou je dois les re-utiliser plus tard\n",
    "df_dispo_alim.rename(columns={'Zone' : 'Pays',\n",
    "            #    'Produit',\n",
    "            #    'Origine',\n",
    "            #  'Aliments pour animaux',\n",
    "            #    'Autres Utilisations',\n",
    "            #   'Disponibilité alimentaire (Kcal/personne/jour)',\n",
    "            #   'Disponibilité alimentaire en quantité (kg/personne/an)',\n",
    "            #    'Disponibilité de matière grasse en quantité (g/personne/jour)',\n",
    "            #   'Disponibilité de protéines en quantité (g/personne/jour)',\n",
    "            #    'Disponibilité intérieure',\n",
    "            #    'Exportations - Quantité',\n",
    "            #    'Importations - Quantité',\n",
    "            #    'Nourriture',\n",
    "            #    'Pertes',\n",
    "            #    'Production',\n",
    "            #    'Semences',\n",
    "            #    'Traitement',\n",
    "            #    'Variation de stock'\n",
    "              }, inplace=True)\n",
    "\n",
    "# J'ai crée cette dataframe pour mon for plus bas \n",
    "df_for_col = ['Disponibilité alimentaire en quantité (kg/personne/an)','Disponibilité intérieure','Aliments pour animaux', 'Autres Utilisations','Exportations - Quantité','Importations - Quantité','Nourriture','Pertes',\n",
    "         'Production','Semences','Traitement','Variation de stock']\n",
    "\n",
    "df_for_drop_col = ['Disponibilité alimentaire en quantité (kg/personne/an)','Aliments pour animaux', 'Autres Utilisations','Exportations - Quantité','Importations - Quantité','Nourriture','Pertes', 'Production','Semences','Traitement','Variation de stock']\n",
    "\n",
    "df_dispo_alim['Pays'] = df_dispo_alim['Pays'].replace(['Royaume-Uni de Grande-Bretagne et d\\'Irlande du Nord','Tchéquie (la)'],['Royaume-Uni','Tchéquie']) \n",
    "\n",
    "\n",
    "Dispo_alim = df_dispo_alim.copy()\n",
    "\n",
    "# Je fais une copy de population sous nutrition qui lui filtre les informations de 2017\n",
    "Pop_sn_copy = df_pop_sn.copy()\n",
    "\n",
    "Dispo_alim = pd.merge(Dispo_alim, Pop_sn_copy, on=['Pays'], how='left')\n",
    "Dispo_alim.fillna(0, inplace=True) \n",
    "\n",
    "# pour chaque colonne dans ma df j'update la colonne en integer avec pandas car le int64 normal n'affiche pas les nombre en entier sur vscode\n",
    "for col in [df_for_col,'Année','Population','sous_nutrition']:\n",
    "    Dispo_alim[col] = Dispo_alim[col].astype(np.int64)\n",
    "\n",
    "# nouvelle colonne pour la dispo alim total calcul\n",
    "Dispo_alim['dispo_alim_total'] = Dispo_alim['Disponibilité alimentaire (Kcal/personne/jour)'] * Dispo_alim['Population'] * 365\n",
    "# Donc la je change en int mais avec la fonction np.int64 puisque sinon aprés mon calcul la colonne passe en int32 qui n'affiche pas la totalité des chiffres\n",
    "Dispo_alim['dispo_alim_total'] = Dispo_alim['dispo_alim_total'].astype(np.int64)\n",
    "Dispo_alim.fillna(0, inplace=True)\n",
    "\n",
    "# Ici je fait la somme dispo alimentaire total que je divise par le besoin calorique qui est de 2500 kcal\n",
    "df_result_pers_nour = Dispo_alim['dispo_alim_total'].sum() / Besoin_calorique\n",
    "df_result_pers_nour = df_result_pers_nour.astype(np.int64)\n",
    "\n",
    "print(f\"Disponibilité total mondial : {Dispo_alim['dispo_alim_total'].sum():,} \\nPersonne pouvant etre nourrit : {df_result_pers_nour:,}\")"
   ]
  },
  {
   "attachments": {},
   "cell_type": "markdown",
   "metadata": {},
   "source": [
    "Disponibilité alimentaire végétale"
   ]
  },
  {
   "cell_type": "code",
   "execution_count": 8,
   "metadata": {},
   "outputs": [
    {
     "name": "stdout",
     "output_type": "stream",
     "text": [
      "Disponibilité alimentaire végétale : 6,979,803,760\n"
     ]
    }
   ],
   "source": [
    "df_veg = Dispo_alim.copy()\n",
    "# j'utilise .drop pour virer toute les ligne de ma colonne égale a animale pour garder seulement les végataux\n",
    "df_veg.drop(df_veg[df_veg['Origine'] == 'animale'].index,inplace=True)\n",
    "df_veg['Dispo_veg_total'] = df_veg['Disponibilité alimentaire (Kcal/personne/jour)'] * df_veg['Population'] * 365\n",
    "df_veg['Dispo_veg_total'] = df_veg['Dispo_veg_total'].astype(np.int64)\n",
    "df_veg_result = df_veg['Dispo_veg_total'].sum() / Besoin_calorique\n",
    "df_veg_result = df_veg_result.astype(np.int64)\n",
    "print(f\"Disponibilité alimentaire végétale : {df_veg_result:,}\")\n"
   ]
  },
  {
   "attachments": {},
   "cell_type": "markdown",
   "metadata": {},
   "source": [
    "Disponibilité alimentaire animal"
   ]
  },
  {
   "cell_type": "code",
   "execution_count": 9,
   "metadata": {},
   "outputs": [
    {
     "name": "stdout",
     "output_type": "stream",
     "text": [
      "Disponibilité alimentaire animal : 1,493,061,329 \n",
      "Verification que le total des 2 dataframe soit équal au nombre total mondiale :  8,472,865,090/8,472,865,090\n"
     ]
    }
   ],
   "source": [
    "df_animal = Dispo_alim.copy()\n",
    "# j'utilise .drop pour virer toute les ligne de ma colonne égale a végétale pour garder seulement les animaux\n",
    "df_animal.drop(df_animal[df_animal['Origine'] == 'vegetale'].index,inplace=True)\n",
    "df_animal['Dispo_animal_total'] = df_animal['Disponibilité alimentaire (Kcal/personne/jour)'] * df_animal['Population'] * 365\n",
    "df_animal['Dispo_animal_total'] = df_animal['Dispo_animal_total'].astype(np.int64)\n",
    "df_animal_result = df_animal['Dispo_animal_total'].sum() / Besoin_calorique\n",
    "df_animal_result = df_animal_result.astype(np.int64)\n",
    "# ici en plus de mon resultat je vérifie bien que la somme de mes resultats dispo animal et végatal soit égale au nombre total mondiale\n",
    "print(f\"Disponibilité alimentaire animal : {df_animal_result:,} \\nVerification que le total des 2 dataframe soit équal au nombre total mondiale :  {df_animal_result+df_veg_result+1:,}/{df_result_pers_nour:,}\")\n"
   ]
  },
  {
   "attachments": {},
   "cell_type": "markdown",
   "metadata": {},
   "source": [
    "Disponibilité intérieur\n"
   ]
  },
  {
   "attachments": {},
   "cell_type": "markdown",
   "metadata": {},
   "source": [
    "Référencement pour le calcul de la disponibilité intérieur https://www.fao.org/3/x9892f/x9892f03.htm#:~:text=(b)%20Production%20%2B%20importations%20%2B%20variations%20des%20stocks%20(baisse%20ou%20augmentation)%20%3D%20quantit%C3%A9s%20disponibles%20pour%20l%27exportation%20et%20l%27utilisation%20int%C3%A9rieure."
   ]
  },
  {
   "cell_type": "code",
   "execution_count": 10,
   "metadata": {},
   "outputs": [
    {
     "name": "stdout",
     "output_type": "stream",
     "text": [
      "Disponibilité intérieur pour l'alimentation animale : 1,460,079\n"
     ]
    }
   ],
   "source": [
    "df_di_result_animal = Dispo_alim.copy()\n",
    "df_di_result_animal['Dispo inter animal'] = df_di_result_animal['Production'] +  df_di_result_animal['Importations - Quantité'] - df_di_result_animal['Exportations - Quantité'] + df_di_result_animal['Variation de stock'] - df_di_result_animal['Autres Utilisations'] - df_di_result_animal['Nourriture'] - df_di_result_animal['Pertes'] - df_di_result_animal['Traitement']\n",
    "#  Aliments pour animaux Autres Utilisations Nourriture Pertes Traitement\n",
    "df_di_result_animal = df_di_result_animal.loc[df_di_result_animal['Dispo inter animal'] > 0,]\n",
    "df_di_result_animal = df_di_result_animal['Dispo inter animal'].sum()\n",
    "print(f\"Disponibilité intérieur pour l'alimentation animale : {df_di_result_animal:,}\")"
   ]
  },
  {
   "cell_type": "code",
   "execution_count": 11,
   "metadata": {},
   "outputs": [
    {
     "name": "stdout",
     "output_type": "stream",
     "text": [
      "Perte total d'alimentation : 608,396\n"
     ]
    }
   ],
   "source": [
    "df_di_result_lost = Dispo_alim.copy()\n",
    "df_di_result_lost['Dispo inter lost'] = df_di_result_lost['Production'] +  df_di_result_lost['Importations - Quantité'] - df_di_result_lost['Exportations - Quantité'] + df_di_result_lost['Variation de stock'] - df_di_result_lost['Autres Utilisations'] - df_di_result_lost['Nourriture'] - df_di_result_lost['Aliments pour animaux'] - df_di_result_lost['Traitement']\n",
    "#  Aliments pour animaux Autres Utilisations Nourriture Pertes Traitement\n",
    "df_di_result_lost = df_di_result_lost.loc[df_di_result_lost['Dispo inter lost'] > 0,]\n",
    "df_di_result_lost = df_di_result_lost['Dispo inter lost'].sum()\n",
    "print(f\"Perte total d'alimentation : {df_di_result_lost:,}\")"
   ]
  },
  {
   "cell_type": "code",
   "execution_count": 12,
   "metadata": {},
   "outputs": [
    {
     "name": "stdout",
     "output_type": "stream",
     "text": [
      "Disponibilité intérieur pour l'alimentation humaine : 5,028,478\n"
     ]
    }
   ],
   "source": [
    "df_di_result_food = Dispo_alim.copy()\n",
    "df_di_result_food['Dispo inter food'] = df_di_result_food['Production'] +  df_di_result_food['Importations - Quantité'] - df_di_result_food['Exportations - Quantité'] + df_di_result_food['Variation de stock'] - df_di_result_food['Autres Utilisations'] - df_di_result_food['Pertes'] - df_di_result_food['Aliments pour animaux'] - df_di_result_food['Traitement']\n",
    "#  Aliments pour animaux Autres Utilisations Nourriture Pertes Traitement\n",
    "df_di_result_food = df_di_result_food.loc[df_di_result_food['Dispo inter food'] > 0,]\n",
    "df_di_result_food = df_di_result_food['Dispo inter food'].sum()\n",
    "print(f\"Disponibilité intérieur pour l'alimentation humaine : {df_di_result_food:,}\")"
   ]
  },
  {
   "cell_type": "code",
   "execution_count": 13,
   "metadata": {},
   "outputs": [
    {
     "data": {
      "image/png": "[encoded data removed]",
      "text/plain": [
       "<Figure size 432x288 with 1 Axes>"
      ]
     },
     "metadata": {},
     "output_type": "display_data"
    }
   ],
   "source": [
    "labels = 'Animal', 'Perte', 'Humaine'\n",
    "sizes = [df_di_result_animal, df_di_result_lost, df_di_result_food]\n",
    "colors = ['forestgreen', 'firebrick', 'royalblue']\n",
    "plt.style.use(\"dark_background\")\n",
    "plt.title(' ')\n",
    "plt.pie(sizes, labels=labels, colors=colors, autopct='%1.1f%%', shadow=True, startangle=0)\n",
    "plt.axis('equal')\n",
    "# plt.savefig('Dispo_nourrish.png', dpi=300, transparent=True)\n",
    "plt.show()"
   ]
  },
  {
   "attachments": {},
   "cell_type": "markdown",
   "metadata": {},
   "source": [
    "Pays pour lesquels la proportion de personnes sous-alimentées est la plus forte en 2017"
   ]
  },
  {
   "attachments": {},
   "cell_type": "markdown",
   "metadata": {},
   "source": [
    "Haïti       0.48%"
   ]
  },
  {
   "cell_type": "code",
   "execution_count": 14,
   "metadata": {},
   "outputs": [
    {
     "data": {
      "text/html": [
       "<div>\n",
       "<style scoped>\n",
       "    .dataframe tbody tr th:only-of-type {\n",
       "        vertical-align: middle;\n",
       "    }\n",
       "\n",
       "    .dataframe tbody tr th {\n",
       "        vertical-align: top;\n",
       "    }\n",
       "\n",
       "    .dataframe thead th {\n",
       "        text-align: right;\n",
       "    }\n",
       "</style>\n",
       "<table border=\"1\" class=\"dataframe\">\n",
       "  <thead>\n",
       "    <tr style=\"text-align: right;\">\n",
       "      <th></th>\n",
       "      <th>Pays</th>\n",
       "      <th>proportion_sn</th>\n",
       "    </tr>\n",
       "  </thead>\n",
       "  <tbody>\n",
       "    <tr>\n",
       "      <th>65</th>\n",
       "      <td>Haïti</td>\n",
       "      <td>0.48</td>\n",
       "    </tr>\n",
       "    <tr>\n",
       "      <th>133</th>\n",
       "      <td>République populaire démocratique de Corée</td>\n",
       "      <td>0.47</td>\n",
       "    </tr>\n",
       "    <tr>\n",
       "      <th>91</th>\n",
       "      <td>Madagascar</td>\n",
       "      <td>0.41</td>\n",
       "    </tr>\n",
       "    <tr>\n",
       "      <th>87</th>\n",
       "      <td>Libéria</td>\n",
       "      <td>0.38</td>\n",
       "    </tr>\n",
       "    <tr>\n",
       "      <th>84</th>\n",
       "      <td>Lesotho</td>\n",
       "      <td>0.38</td>\n",
       "    </tr>\n",
       "    <tr>\n",
       "      <th>151</th>\n",
       "      <td>Tchad</td>\n",
       "      <td>0.38</td>\n",
       "    </tr>\n",
       "    <tr>\n",
       "      <th>127</th>\n",
       "      <td>Rwanda</td>\n",
       "      <td>0.35</td>\n",
       "    </tr>\n",
       "    <tr>\n",
       "      <th>103</th>\n",
       "      <td>Mozambique</td>\n",
       "      <td>0.33</td>\n",
       "    </tr>\n",
       "    <tr>\n",
       "      <th>154</th>\n",
       "      <td>Timor-Leste</td>\n",
       "      <td>0.32</td>\n",
       "    </tr>\n",
       "    <tr>\n",
       "      <th>0</th>\n",
       "      <td>Afghanistan</td>\n",
       "      <td>0.29</td>\n",
       "    </tr>\n",
       "  </tbody>\n",
       "</table>\n",
       "</div>"
      ],
      "text/plain": [
       "                                           Pays  proportion_sn\n",
       "65                                        Haïti           0.48\n",
       "133  République populaire démocratique de Corée           0.47\n",
       "91                                   Madagascar           0.41\n",
       "87                                      Libéria           0.38\n",
       "84                                      Lesotho           0.38\n",
       "151                                       Tchad           0.38\n",
       "127                                      Rwanda           0.35\n",
       "103                                  Mozambique           0.33\n",
       "154                                 Timor-Leste           0.32\n",
       "0                                   Afghanistan           0.29"
      ]
     },
     "execution_count": 14,
     "metadata": {},
     "output_type": "execute_result"
    }
   ],
   "source": [
    "df_prop_sa = Dispo_alim.copy()\n",
    "# Je créé la colonne proportion_sn pour y mettre mon resultat\n",
    "df_prop_sa['proportion_sn'] = df_prop_sa['sous_nutrition'] / df_prop_sa['Population']  \n",
    "df_prop_sa.fillna(0, inplace=True)\n",
    "# Je groupe par pays\n",
    "df_prop_sa = df_prop_sa.groupby(['Pays']).mean()\n",
    "df_prop_sa.reset_index(inplace=True)\n",
    "# Je tri par proportion_sn\n",
    "df_prop_sa.sort_values(by='proportion_sn',ascending=False, inplace=True)\n",
    "# df_prop_sa = df_prop_sa.loc[df_prop_sa['proportion_sn'] > 0, ['Pays']]\n",
    "# J'arrondi mon nombre\n",
    "df_prop_sa['proportion_sn'] =  round(df_prop_sa['proportion_sn'], 2)\n",
    "df_prop_sa =  df_prop_sa[['Pays', 'proportion_sn']]\n",
    "df_prop_sa.head(10)\n",
    "\n"
   ]
  },
  {
   "attachments": {},
   "cell_type": "markdown",
   "metadata": {},
   "source": [
    "Bénéficiaire d’aide depuis 2013"
   ]
  },
  {
   "attachments": {},
   "cell_type": "markdown",
   "metadata": {},
   "source": [
    "République arabe syrienne en 2014 avec 48 919 d'aide\n"
   ]
  },
  {
   "cell_type": "code",
   "execution_count": 15,
   "metadata": {},
   "outputs": [
    {
     "data": {
      "text/html": [
       "<div>\n",
       "<style scoped>\n",
       "    .dataframe tbody tr th:only-of-type {\n",
       "        vertical-align: middle;\n",
       "    }\n",
       "\n",
       "    .dataframe tbody tr th {\n",
       "        vertical-align: top;\n",
       "    }\n",
       "\n",
       "    .dataframe thead th {\n",
       "        text-align: right;\n",
       "    }\n",
       "</style>\n",
       "<table border=\"1\" class=\"dataframe\">\n",
       "  <thead>\n",
       "    <tr style=\"text-align: right;\">\n",
       "      <th></th>\n",
       "      <th>Année</th>\n",
       "      <th>Valeur aide</th>\n",
       "    </tr>\n",
       "    <tr>\n",
       "      <th>Pays</th>\n",
       "      <th></th>\n",
       "      <th></th>\n",
       "    </tr>\n",
       "  </thead>\n",
       "  <tbody>\n",
       "    <tr>\n",
       "      <th>République arabe syrienne</th>\n",
       "      <td>2014</td>\n",
       "      <td>48919</td>\n",
       "    </tr>\n",
       "    <tr>\n",
       "      <th>Éthiopie</th>\n",
       "      <td>2013</td>\n",
       "      <td>41857</td>\n",
       "    </tr>\n",
       "    <tr>\n",
       "      <th>Yémen</th>\n",
       "      <td>2014</td>\n",
       "      <td>31749</td>\n",
       "    </tr>\n",
       "    <tr>\n",
       "      <th>Soudan du Sud</th>\n",
       "      <td>2014</td>\n",
       "      <td>31602</td>\n",
       "    </tr>\n",
       "    <tr>\n",
       "      <th>Soudan</th>\n",
       "      <td>2013</td>\n",
       "      <td>27907</td>\n",
       "    </tr>\n",
       "    <tr>\n",
       "      <th>Kenya</th>\n",
       "      <td>2013</td>\n",
       "      <td>20475</td>\n",
       "    </tr>\n",
       "    <tr>\n",
       "      <th>Bangladesh</th>\n",
       "      <td>2013</td>\n",
       "      <td>13927</td>\n",
       "    </tr>\n",
       "    <tr>\n",
       "      <th>Pakistan</th>\n",
       "      <td>2013</td>\n",
       "      <td>12161</td>\n",
       "    </tr>\n",
       "    <tr>\n",
       "      <th>Afghanistan</th>\n",
       "      <td>2013</td>\n",
       "      <td>11590</td>\n",
       "    </tr>\n",
       "    <tr>\n",
       "      <th>République démocratique du Congo</th>\n",
       "      <td>2014</td>\n",
       "      <td>11540</td>\n",
       "    </tr>\n",
       "  </tbody>\n",
       "</table>\n",
       "</div>"
      ],
      "text/plain": [
       "                                  Année  Valeur aide\n",
       "Pays                                                \n",
       "République arabe syrienne          2014        48919\n",
       "Éthiopie                           2013        41857\n",
       "Yémen                              2014        31749\n",
       "Soudan du Sud                      2014        31602\n",
       "Soudan                             2013        27907\n",
       "Kenya                              2013        20475\n",
       "Bangladesh                         2013        13927\n",
       "Pakistan                           2013        12161\n",
       "Afghanistan                        2013        11590\n",
       "République démocratique du Congo   2014        11540"
      ]
     },
     "execution_count": 15,
     "metadata": {},
     "output_type": "execute_result"
    }
   ],
   "source": [
    "df_from_2k13 = df_aide.copy()\n",
    "#Je groupe les resultat par pays\n",
    "df_from_2k13 = df_from_2k13.groupby(['Pays']).mean()\n",
    "df_from_2k13['Année'] = df_from_2k13['Année'].astype(np.int64)\n",
    "# Je fait un sort values pour trier sur la colonne valeur aide du plus grand au plus petit\n",
    "df_from_2k13.sort_values(by='Valeur aide',ascending=False, inplace=True)\n",
    "df_from_2k13['Valeur aide'] = df_from_2k13['Valeur aide'].astype(np.int64)\n",
    "\n",
    "df_from_2k13.head(10)"
   ]
  },
  {
   "attachments": {},
   "cell_type": "markdown",
   "metadata": {},
   "source": [
    "Disponibilité/Habitant"
   ]
  },
  {
   "cell_type": "code",
   "execution_count": 16,
   "metadata": {},
   "outputs": [
    {
     "data": {
      "text/html": [
       "<div>\n",
       "<style scoped>\n",
       "    .dataframe tbody tr th:only-of-type {\n",
       "        vertical-align: middle;\n",
       "    }\n",
       "\n",
       "    .dataframe tbody tr th {\n",
       "        vertical-align: top;\n",
       "    }\n",
       "\n",
       "    .dataframe thead th {\n",
       "        text-align: right;\n",
       "    }\n",
       "</style>\n",
       "<table border=\"1\" class=\"dataframe\">\n",
       "  <thead>\n",
       "    <tr style=\"text-align: right;\">\n",
       "      <th></th>\n",
       "      <th>Disponibilité intérieure</th>\n",
       "      <th>Population</th>\n",
       "      <th>Dispo inter par habitant</th>\n",
       "    </tr>\n",
       "    <tr>\n",
       "      <th>Pays</th>\n",
       "      <th></th>\n",
       "      <th></th>\n",
       "      <th></th>\n",
       "    </tr>\n",
       "  </thead>\n",
       "  <tbody>\n",
       "    <tr>\n",
       "      <th>Eswatini</th>\n",
       "      <td>71</td>\n",
       "      <td>1124805</td>\n",
       "      <td>0.000063</td>\n",
       "    </tr>\n",
       "    <tr>\n",
       "      <th>Brésil</th>\n",
       "      <td>10763</td>\n",
       "      <td>207833823</td>\n",
       "      <td>0.000052</td>\n",
       "    </tr>\n",
       "    <tr>\n",
       "      <th>Guyana</th>\n",
       "      <td>36</td>\n",
       "      <td>775222</td>\n",
       "      <td>0.000048</td>\n",
       "    </tr>\n",
       "    <tr>\n",
       "      <th>Belize</th>\n",
       "      <td>17</td>\n",
       "      <td>375769</td>\n",
       "      <td>0.000046</td>\n",
       "    </tr>\n",
       "    <tr>\n",
       "      <th>Maurice</th>\n",
       "      <td>52</td>\n",
       "      <td>1264499</td>\n",
       "      <td>0.000041</td>\n",
       "    </tr>\n",
       "    <tr>\n",
       "      <th>Danemark</th>\n",
       "      <td>212</td>\n",
       "      <td>5732274</td>\n",
       "      <td>0.000037</td>\n",
       "    </tr>\n",
       "    <tr>\n",
       "      <th>Bélarus</th>\n",
       "      <td>302</td>\n",
       "      <td>9450231</td>\n",
       "      <td>0.000032</td>\n",
       "    </tr>\n",
       "    <tr>\n",
       "      <th>Fidji</th>\n",
       "      <td>26</td>\n",
       "      <td>877459</td>\n",
       "      <td>0.000031</td>\n",
       "    </tr>\n",
       "    <tr>\n",
       "      <th>Vanuatu</th>\n",
       "      <td>8</td>\n",
       "      <td>285510</td>\n",
       "      <td>0.000030</td>\n",
       "    </tr>\n",
       "    <tr>\n",
       "      <th>Kiribati</th>\n",
       "      <td>3</td>\n",
       "      <td>114158</td>\n",
       "      <td>0.000029</td>\n",
       "    </tr>\n",
       "  </tbody>\n",
       "</table>\n",
       "</div>"
      ],
      "text/plain": [
       "          Disponibilité intérieure  Population  Dispo inter par habitant\n",
       "Pays                                                                    \n",
       "Eswatini                        71     1124805                  0.000063\n",
       "Brésil                       10763   207833823                  0.000052\n",
       "Guyana                          36      775222                  0.000048\n",
       "Belize                          17      375769                  0.000046\n",
       "Maurice                         52     1264499                  0.000041\n",
       "Danemark                       212     5732274                  0.000037\n",
       "Bélarus                        302     9450231                  0.000032\n",
       "Fidji                           26      877459                  0.000031\n",
       "Vanuatu                          8      285510                  0.000030\n",
       "Kiribati                         3      114158                  0.000029"
      ]
     },
     "execution_count": 16,
     "metadata": {},
     "output_type": "execute_result"
    }
   ],
   "source": [
    "df_dispo_par_pop = Dispo_alim.copy()\n",
    "# J'ai drop les colonnes que je ne voulais plus voir et dont je n'ai pas besoin\n",
    "df_dispo_par_pop = df_dispo_par_pop.drop(['Aliments pour animaux', 'Autres Utilisations', 'Disponibilité alimentaire (Kcal/personne/jour)', 'Disponibilité alimentaire en quantité (kg/personne/an)', 'Disponibilité de matière grasse en quantité (g/personne/jour)','Disponibilité de protéines en quantité (g/personne/jour)','Exportations - Quantité', 'Importations - Quantité','Nourriture','Pertes','Production','Semences','Traitement','Variation de stock','Année','sous_nutrition','dispo_alim_total'], axis=1)\n",
    "df_dispo_par_pop = df_dispo_par_pop.groupby(['Pays']).mean()\n",
    "df_dispo_par_pop['Dispo inter par habitant'] = df_dispo_par_pop['Disponibilité intérieure'] / df_dispo_par_pop['Population']\n",
    "df_dispo_par_pop['Disponibilité intérieure'] = df_dispo_par_pop['Disponibilité intérieure'].astype(np.int64)\n",
    "df_dispo_par_pop['Population'] = df_dispo_par_pop['Population'].astype(np.int64)\n",
    "df_dispo_par_pop.sort_values(by='Dispo inter par habitant',ascending=False, inplace=True)\n",
    "df_dispo_par_pop.head(10)"
   ]
  },
  {
   "attachments": {},
   "cell_type": "markdown",
   "metadata": {},
   "source": [
    "La thailande à Produit 30 228 de manioc en export 25 214 et en import 1 250. "
   ]
  },
  {
   "attachments": {},
   "cell_type": "markdown",
   "metadata": {},
   "source": [
    "La population en sous nutrition étant 6 200 000.\n",
    "\n"
   ]
  },
  {
   "attachments": {},
   "cell_type": "markdown",
   "metadata": {},
   "source": [
    "Sans exporter le manioc la thailande pourrais nourrir 22 812 personne supplémentaire"
   ]
  },
  {
   "cell_type": "code",
   "execution_count": 17,
   "metadata": {},
   "outputs": [
    {
     "name": "stdout",
     "output_type": "stream",
     "text": [
      "13809    22812.5\n",
      "Name: Disponibilité alimentaire (Kcal/personne/jour), dtype: float64\n"
     ]
    },
    {
     "data": {
      "text/html": [
       "<div>\n",
       "<style scoped>\n",
       "    .dataframe tbody tr th:only-of-type {\n",
       "        vertical-align: middle;\n",
       "    }\n",
       "\n",
       "    .dataframe tbody tr th {\n",
       "        vertical-align: top;\n",
       "    }\n",
       "\n",
       "    .dataframe thead th {\n",
       "        text-align: right;\n",
       "    }\n",
       "</style>\n",
       "<table border=\"1\" class=\"dataframe\">\n",
       "  <thead>\n",
       "    <tr style=\"text-align: right;\">\n",
       "      <th></th>\n",
       "      <th>Pays</th>\n",
       "      <th>Produit</th>\n",
       "      <th>Origine</th>\n",
       "      <th>Aliments pour animaux</th>\n",
       "      <th>Autres Utilisations</th>\n",
       "      <th>Disponibilité alimentaire (Kcal/personne/jour)</th>\n",
       "      <th>Disponibilité alimentaire en quantité (kg/personne/an)</th>\n",
       "      <th>Disponibilité de matière grasse en quantité (g/personne/jour)</th>\n",
       "      <th>Disponibilité de protéines en quantité (g/personne/jour)</th>\n",
       "      <th>Disponibilité intérieure</th>\n",
       "      <th>Exportations - Quantité</th>\n",
       "      <th>Importations - Quantité</th>\n",
       "      <th>Nourriture</th>\n",
       "      <th>Pertes</th>\n",
       "      <th>Production</th>\n",
       "      <th>Semences</th>\n",
       "      <th>Traitement</th>\n",
       "      <th>Variation de stock</th>\n",
       "      <th>Année</th>\n",
       "      <th>Population</th>\n",
       "      <th>sous_nutrition</th>\n",
       "      <th>dispo_alim_total</th>\n",
       "    </tr>\n",
       "  </thead>\n",
       "  <tbody>\n",
       "    <tr>\n",
       "      <th>13809</th>\n",
       "      <td>Thaïlande</td>\n",
       "      <td>Manioc</td>\n",
       "      <td>vegetale</td>\n",
       "      <td>1800</td>\n",
       "      <td>2081</td>\n",
       "      <td>40.0</td>\n",
       "      <td>13</td>\n",
       "      <td>0.05</td>\n",
       "      <td>0.14</td>\n",
       "      <td>6264</td>\n",
       "      <td>25214</td>\n",
       "      <td>1250</td>\n",
       "      <td>871</td>\n",
       "      <td>1511</td>\n",
       "      <td>30228</td>\n",
       "      <td>0</td>\n",
       "      <td>0</td>\n",
       "      <td>0</td>\n",
       "      <td>2017</td>\n",
       "      <td>69209810</td>\n",
       "      <td>6200000</td>\n",
       "      <td>1010463226000</td>\n",
       "    </tr>\n",
       "  </tbody>\n",
       "</table>\n",
       "</div>"
      ],
      "text/plain": [
       "            Pays Produit   Origine  Aliments pour animaux  \\\n",
       "13809  Thaïlande  Manioc  vegetale                   1800   \n",
       "\n",
       "       Autres Utilisations  Disponibilité alimentaire (Kcal/personne/jour)  \\\n",
       "13809                 2081                                            40.0   \n",
       "\n",
       "       Disponibilité alimentaire en quantité (kg/personne/an)  \\\n",
       "13809                                                 13        \n",
       "\n",
       "       Disponibilité de matière grasse en quantité (g/personne/jour)  \\\n",
       "13809                                               0.05               \n",
       "\n",
       "       Disponibilité de protéines en quantité (g/personne/jour)  \\\n",
       "13809                                               0.14          \n",
       "\n",
       "       Disponibilité intérieure  Exportations - Quantité  \\\n",
       "13809                      6264                    25214   \n",
       "\n",
       "       Importations - Quantité  Nourriture  Pertes  Production  Semences  \\\n",
       "13809                     1250         871    1511       30228         0   \n",
       "\n",
       "       Traitement  Variation de stock  Année  Population  sous_nutrition  \\\n",
       "13809           0                   0   2017    69209810         6200000   \n",
       "\n",
       "       dispo_alim_total  \n",
       "13809     1010463226000  "
      ]
     },
     "execution_count": 17,
     "metadata": {},
     "output_type": "execute_result"
    }
   ],
   "source": [
    "df_thai = Dispo_alim.copy()\n",
    "df_thai = df_thai.loc[df_thai['Pays'] == 'Thaïlande']\n",
    "df_thai = df_thai.loc[df_thai['Produit'] == 'Manioc']\n",
    "df_thai_imp = df_thai['Importations - Quantité'] \n",
    "df_thai_ex = df_thai['Exportations - Quantité']\n",
    "df_thai_ma = df_thai['Production'] + df_thai_imp \n",
    "df_thai_cal = df_thai['Production'] - df_thai['Nourriture'] - df_thai['Pertes'] - df_thai['Exportations - Quantité'] -df_thai['Autres Utilisations'] - df_thai['Aliments pour animaux'] + df_thai_imp\n",
    "df_thai_sn = 2500 / df_thai['Disponibilité alimentaire (Kcal/personne/jour)'] * 365\n",
    "print(df_thai_sn)\n",
    "df_thai.head()\n",
    "#31 477"
   ]
  },
  {
   "attachments": {},
   "cell_type": "markdown",
   "metadata": {},
   "source": [
    "Utilisation des céréales, répartition entre l’alimentation humaine et animale"
   ]
  },
  {
   "cell_type": "code",
   "execution_count": null,
   "metadata": {},
   "outputs": [
    {
     "name": "stdout",
     "output_type": "stream",
     "text": [
      "3460389\n"
     ]
    }
   ],
   "source": [
    "df_cereale = pd.read_csv('data\\FAOSTAT_data_2-11-2022.csv')\n",
    "df_cereale.head()\n",
    "df_c = df_cereale.copy()\n",
    "df_c_dispo = df_c.loc[df_c['Élément'] == 'Disponibilité intérieure']\n",
    "df_result_dispo = df_c_dispo['Valeur'].sum()\n",
    "print(df_result_dispo)"
   ]
  },
  {
   "attachments": {},
   "cell_type": "markdown",
   "metadata": {},
   "source": [
    "Total céréale Humain"
   ]
  },
  {
   "cell_type": "code",
   "execution_count": null,
   "metadata": {},
   "outputs": [
    {
     "name": "stdout",
     "output_type": "stream",
     "text": [
      "Resultat céréale humain par rapport a la dispo inter : 46.3%\n",
      "Total répartition céréal pour consomation humaine dans tout les pays en 2017 : 1,601,534\n"
     ]
    }
   ],
   "source": [
    "df_c_humain = df_c.loc[df_c['Élément'] == 'Nourriture']\n",
    "df_Total_pays_humain = df_c_humain['Valeur'].sum()\n",
    "df_result_cereal_humain = df_Total_pays_humain / df_result_dispo\n",
    "print(f\"Resultat céréale humain par rapport a la dispo inter : {df_result_cereal_humain:.1%}\")\n",
    "print(f\"Total répartition céréal pour consomation humaine dans tout les pays en 2017 : {df_Total_pays_humain:,}\")"
   ]
  },
  {
   "cell_type": "code",
   "execution_count": null,
   "metadata": {},
   "outputs": [
    {
     "data": {
      "text/html": [
       "<div>\n",
       "<style scoped>\n",
       "    .dataframe tbody tr th:only-of-type {\n",
       "        vertical-align: middle;\n",
       "    }\n",
       "\n",
       "    .dataframe tbody tr th {\n",
       "        vertical-align: top;\n",
       "    }\n",
       "\n",
       "    .dataframe thead th {\n",
       "        text-align: right;\n",
       "    }\n",
       "</style>\n",
       "<table border=\"1\" class=\"dataframe\">\n",
       "  <thead>\n",
       "    <tr style=\"text-align: right;\">\n",
       "      <th></th>\n",
       "      <th>Code zone</th>\n",
       "      <th>Code Élément</th>\n",
       "      <th>Code Produit</th>\n",
       "      <th>Code année</th>\n",
       "      <th>Année</th>\n",
       "      <th>Valeur</th>\n",
       "    </tr>\n",
       "    <tr>\n",
       "      <th>Zone</th>\n",
       "      <th></th>\n",
       "      <th></th>\n",
       "      <th></th>\n",
       "      <th></th>\n",
       "      <th></th>\n",
       "      <th></th>\n",
       "    </tr>\n",
       "  </thead>\n",
       "  <tbody>\n",
       "    <tr>\n",
       "      <th>Afghanistan</th>\n",
       "      <td>2.0</td>\n",
       "      <td>5142.0</td>\n",
       "      <td>2547.888889</td>\n",
       "      <td>2017.0</td>\n",
       "      <td>2017.0</td>\n",
       "      <td>749.56</td>\n",
       "    </tr>\n",
       "    <tr>\n",
       "      <th>Afrique du Sud</th>\n",
       "      <td>202.0</td>\n",
       "      <td>5142.0</td>\n",
       "      <td>2547.888889</td>\n",
       "      <td>2017.0</td>\n",
       "      <td>2017.0</td>\n",
       "      <td>1113.78</td>\n",
       "    </tr>\n",
       "    <tr>\n",
       "      <th>Albanie</th>\n",
       "      <td>3.0</td>\n",
       "      <td>5142.0</td>\n",
       "      <td>2556.571429</td>\n",
       "      <td>2017.0</td>\n",
       "      <td>2017.0</td>\n",
       "      <td>59.71</td>\n",
       "    </tr>\n",
       "    <tr>\n",
       "      <th>Algérie</th>\n",
       "      <td>4.0</td>\n",
       "      <td>5142.0</td>\n",
       "      <td>2551.750000</td>\n",
       "      <td>2017.0</td>\n",
       "      <td>2017.0</td>\n",
       "      <td>1044.88</td>\n",
       "    </tr>\n",
       "    <tr>\n",
       "      <th>Allemagne</th>\n",
       "      <td>79.0</td>\n",
       "      <td>5142.0</td>\n",
       "      <td>2551.625000</td>\n",
       "      <td>2017.0</td>\n",
       "      <td>2017.0</td>\n",
       "      <td>1181.38</td>\n",
       "    </tr>\n",
       "  </tbody>\n",
       "</table>\n",
       "</div>"
      ],
      "text/plain": [
       "                Code zone  Code Élément  Code Produit  Code année   Année  \\\n",
       "Zone                                                                        \n",
       "Afghanistan           2.0        5142.0   2547.888889      2017.0  2017.0   \n",
       "Afrique du Sud      202.0        5142.0   2547.888889      2017.0  2017.0   \n",
       "Albanie               3.0        5142.0   2556.571429      2017.0  2017.0   \n",
       "Algérie               4.0        5142.0   2551.750000      2017.0  2017.0   \n",
       "Allemagne            79.0        5142.0   2551.625000      2017.0  2017.0   \n",
       "\n",
       "                 Valeur  \n",
       "Zone                     \n",
       "Afghanistan      749.56  \n",
       "Afrique du Sud  1113.78  \n",
       "Albanie           59.71  \n",
       "Algérie         1044.88  \n",
       "Allemagne       1181.38  "
      ]
     },
     "execution_count": 21,
     "metadata": {},
     "output_type": "execute_result"
    }
   ],
   "source": [
    "df_c_humain2 = df_c_humain.copy()\n",
    "df_c_humain2 = df_c_humain2.groupby(['Zone']).mean()\n",
    "df_c_humain2['Valeur'] = round(df_c_humain2['Valeur'], 2)\n",
    "df_c_humain2.head()"
   ]
  },
  {
   "attachments": {},
   "cell_type": "markdown",
   "metadata": {},
   "source": [
    "Total céréal Animaux"
   ]
  },
  {
   "cell_type": "code",
   "execution_count": null,
   "metadata": {},
   "outputs": [
    {
     "name": "stdout",
     "output_type": "stream",
     "text": [
      "Resultat céréale animaux par rapport a la dispo inter: 33.4%\n",
      "Total répartition céréal pour consomation animale dans tout les pays en 2017 : 1,155,057\n"
     ]
    }
   ],
   "source": [
    "df_c_animal = df_c.loc[df_c['Élément'] == 'Aliments pour animaux']\n",
    "df_Total_pays_animals = df_c_animal['Valeur'].sum() \n",
    "df_result_cereal_animal = df_Total_pays_animals / df_result_dispo\n",
    "print(f\"Resultat céréale animaux par rapport a la dispo inter: {df_result_cereal_animal:.1%}\")\n",
    "print(f\"Total répartition céréal pour consomation animale dans tout les pays en 2017 : {df_Total_pays_animals:,}\")"
   ]
  },
  {
   "cell_type": "code",
   "execution_count": null,
   "metadata": {},
   "outputs": [
    {
     "data": {
      "image/png": "[encoded data removed]",
      "text/plain": [
       "<Figure size 432x288 with 1 Axes>"
      ]
     },
     "metadata": {},
     "output_type": "display_data"
    }
   ],
   "source": [
    "labels = 'interieur', 'humain', 'aniaml'\n",
    "sizes = [df_result_dispo - (df_Total_pays_humain + df_Total_pays_animals), df_Total_pays_humain, df_Total_pays_animals]\n",
    "colors = ['firebrick','royalblue', 'forestgreen']\n",
    "plt.style.use(\"dark_background\")\n",
    "plt.title(' ')\n",
    "plt.pie(sizes, labels=labels, colors=colors, autopct='%1.1f%%', shadow=True, startangle=0)\n",
    "plt.axis('equal')\n",
    "# plt.savefig('Dispo_int_anim_hum.png', dpi=300, transparent=True)\n",
    "plt.show()"
   ]
  }
 ],
 "metadata": {
  "interpreter": {
   "hash": "7827218d5732ee1714cf26aefe468e0389a741fef49ea0885558eb8d04413a03"
  },
  "kernelspec": {
   "display_name": "Python 3.9.7 64-bit ('base': conda)",
   "language": "python",
   "name": "python3"
  },
  "language_info": {
   "codemirror_mode": {
    "name": "ipython",
    "version": 3
   },
   "file_extension": ".py",
   "mimetype": "text/x-python",
   "name": "python",
   "nbconvert_exporter": "python",
   "pygments_lexer": "ipython3",
   "version": "3.9.7"
  },
  "orig_nbformat": 4
 },
 "nbformat": 4,
 "nbformat_minor": 2
}
